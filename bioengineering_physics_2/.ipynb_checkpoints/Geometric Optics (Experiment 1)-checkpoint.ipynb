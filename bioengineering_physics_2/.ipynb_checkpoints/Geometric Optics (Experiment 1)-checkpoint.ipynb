{
 "cells": [
  {
   "cell_type": "markdown",
   "id": "8a3f143b",
   "metadata": {},
   "source": [
    "Lab partners (name, student #):\n",
    "\n",
    "degree course, semester:\n",
    "\n",
    "Bioengineering, 2rd ____\n",
    "     \n",
    "Bioengineering, 2rd_____\n",
    "      \n",
    "\n",
    "\n",
    "Performed the experiment on:\t__x.x.20xx_    Name of the tutor: _______________     Accepted: Yes / No\n",
    "Submission of the report:                                                        Checked on: _______________\n",
    "Submission of first revision:      \t________________          Checked on: _______________\n",
    "Submission of second revision: ________________          Checked on: _______________\n",
    "\n",
    "Title:  Geomatric optics\n",
    "\n",
    "Remarks of the tutor: ________________________________________________________________\n",
    "__________________________________________________________________________________\n",
    "__________________________________________________________________________________\n",
    "__________________________________________________________________________________\n",
    "__________________________________________________________________________________\n",
    "__________________________________________________________________________________\n",
    "__________________________________________________________________________________\n",
    "__________________________________________________________________________________\n",
    "______________________________________________________________________________\n",
    "\n",
    "\n",
    "I. Theory\n",
    "The purpose of this experiment is to measure optical images with the help of trigonometry.\n",
    "The optical imaging of a lens can be constructed geometrically by considering the course of three specific beams that are representatives for all other beams: \n",
    "\n",
    "1. Parallel ray: These rays run parallel to the optical axis into the optical system. They become focal rays when they pass through a lens, i.e. rays that run through the focal point.\n",
    "\n",
    "2. Focal rays: Rays that run through the focal point become parallel rays when they pass through a lens. \n",
    "\n",
    "3. Center rays: Rays that run through the center of the lens keep their direction.\n",
    "\n",
    "II. Setup\n",
    "The basic setup consists of a single rail, a light source/projector, some different lenses and a screen that can be moved along the rail and placed at different intervals/positions, similar to the image below.\n"
   ]
  },
  {
   "cell_type": "code",
   "execution_count": null,
   "id": "ced283c6",
   "metadata": {},
   "outputs": [],
   "source": [
    "III. Evaluation\n",
    "\n",
    "2. Measurement of the focal length of the eye\n",
    "\n",
    "#Step 1: The data\n",
    "\n",
    "N = 11.2 cm, d₀₁ = 10 cm, a = 28 cm \n",
    "typical diameter of an eyeball = 2cm\n"
   ]
  },
  {
   "cell_type": "code",
   "execution_count": 44,
   "id": "b6ad8594",
   "metadata": {},
   "outputs": [
    {
     "name": "stdout",
     "output_type": "stream",
     "text": [
      "y = -9.72727 * x + 175.10390\n"
     ]
    },
    {
     "data": {
      "image/png": "[encoded data removed]",
      "text/plain": [
       "<Figure size 144x144 with 1 Axes>"
      ]
     },
     "metadata": {
      "needs_background": "light"
     },
     "output_type": "display_data"
    }
   ],
   "source": [
    "#3. Measurement of the focal length of a converging lens with the Bessel method\n",
    "\n",
    "#Step 1: The data    \n",
    "s = [45.0, 49.0, 53.0, 57.0, 61.0, 65.0, 69.0]\n",
    "do1=[30.0,34.5,39.5,43.5,48.,52.5,56.5]\n",
    "do3=[15.0,14.0,13.0,13.0,13.0,12.5,12.0]\n",
    "di1=[1/30.0,1/34.5,1/39.5,1/43.5,1/48.,1/52.5,1/56.5]\n",
    "di2=[1/15.0,1/14.5,1/13.5,1/13.5,1/13.0,1/12.5,1/12.5]\n",
    "di3=[1/15.0,1/14.0,1/13.0,1/13.0,1/13.0,1/12.5,1/12.0]\n",
    "di4=[1/30.0,1/35.0,1/40.0,1/44.0,1/48.0,1/52.5,1/57.0]\n",
    "D1=[1/30.0,1/34.5,1/39.5,1/43.5,1/48.,1/52.5,1/56.5,1/15.0,1/14.0,1/13.0,1/13.0,1/13.0,1/12.5,1/12.0]\n",
    "D2=[1/15.0,1/14.5,1/13.5,1/13.5,1/13.0,1/12.5,1/12.5,1/30.0,1/35.0,1/40.0,1/44.0,1/48.0,1/52.5,1/57.0]\n",
    "di1=[15.0,14.5,13.5,13.5,13.0,12.5,12.5]\n",
    "do2=[15.0,14.0,13.5,13.0,13.0,12.5,12.0]\n",
    "di2=[30.0,35.0,40.0,44.0,48.0,52.5,57.0]\n",
    "h1=[1.0,0.8,0.7,0.7,0.7,0.5,0.5]\n",
    "h2=[4.5,6.1,7.9,7.9,8.5,9.8,11.0]\n",
    "y1=[57/12.0,52.5/12.5,48/13.0,44/13.0,40/14.0,35/13,30/15.0,15/30.0,14.5/34.5,13.5/39.5,13.5/43.5,13/48.0,12.5/52.5,12.5/56.5]\n",
    "x1=[11.0/2.1,9.8/2.1,8.5/2.1,7.9/2.1,7.9/2.1,6.1/2.1,4.5/2.1,1.0/2.1,0.8/2.1,0.7/2.1,0.7/2.1,0.7/2.1,0.5/2.1,0.5/2.1]\n",
    "\n",
    "\n",
    "#Step 2: the plots\n",
    "\n",
    "#Plot 1. lens euation\n",
    "from numpy import arange\n",
    "from scipy.optimize import curve_fit\n",
    "from matplotlib import pyplot\n",
    "\n",
    "# define the true objective function\n",
    "def objective(x, a, b):\n",
    "\treturn a * x + b\n",
    "\n",
    "# choose the input and output variables\n",
    "x, y = di1, di2\n",
    "...\n",
    "# curve fit\n",
    "popt, _ = curve_fit(objective, x, y)\n",
    "# summarize the parameter values\n",
    "a, b = popt\n",
    "print('y = %.5f * x + %.5f' % (a, b))\n",
    "...\n",
    "# plot input vs output\n",
    "pyplot.scatter(x, y)\n",
    "\n",
    "# define a sequence of inputs between the smallest and largest known inputs\n",
    "x_line = arange(min(x), max(x), 1)\n",
    "\n",
    "# calculate the output for the range\n",
    "y_line = objective(x_line, a, b)\n",
    "\n",
    "# create a line plot for the mapping function\n",
    "pyplot.plot(x_line, y_line, '--', color='red')\n",
    "plt.title('lens equation')\n",
    "plt.xlabel('inverse image distance in cm')\n",
    "plt.ylabel('inverse object distance in cm')\n",
    "pyplot.show()\n"
   ]
  },
  {
   "cell_type": "code",
   "execution_count": 46,
   "id": "319b9069",
   "metadata": {},
   "outputs": [
    {
     "name": "stdout",
     "output_type": "stream",
     "text": [
      "y = 0.88018 * x + 0.03424\n"
     ]
    },
    {
     "data": {
      "image/png": "[encoded data removed]",
      "text/plain": [
       "<Figure size 144x144 with 1 Axes>"
      ]
     },
     "metadata": {
      "needs_background": "light"
     },
     "output_type": "display_data"
    }
   ],
   "source": [
    "#Plot 2. Magnification plot\n",
    "from numpy import arange\n",
    "from scipy.optimize import curve_fit\n",
    "from matplotlib import pyplot\n",
    "\n",
    "# define the true objective function\n",
    "def objective(x, a, b):\n",
    "\treturn a * x + b\n",
    "\n",
    "# choose the input and output variables\n",
    "x, y = x1, y1\n",
    "...\n",
    "# curve fit\n",
    "popt, _ = curve_fit(objective, x, y)\n",
    "# summarize the parameter values\n",
    "a, b = popt\n",
    "print('y = %.5f * x + %.5f' % (a, b))\n",
    "...\n",
    "# plot input vs output\n",
    "pyplot.scatter(x, y)\n",
    "\n",
    "# define a sequence of inputs between the smallest and largest known inputs\n",
    "x_line = arange(min(x), max(x), 1)\n",
    "\n",
    "# calculate the output for the range\n",
    "y_line = objective(x_line, a, b)\n",
    "\n",
    "# create a line plot for the mapping function\n",
    "pyplot.plot(x_line, y_line, '--', color='red')\n",
    "plt.title('Magnification plot')\n",
    "plt.xlabel('h1/h0 in cm')\n",
    "plt.ylabel('di/d0 in cm')\n",
    "pyplot.show()"
   ]
  },
  {
   "cell_type": "markdown",
   "id": "18c074f2",
   "metadata": {},
   "source": [
    "4) Setup of a microscope\n",
    "\n",
    "Step 1: The data\n",
    "\n",
    "D  =110mm\n",
    "d =65mm \n",
    "\n",
    "Step 2: the calculation\n",
    "Mmicr ≈ d *N/ f1*f2  \n",
    "\n",
    "Step 3: The results and answer to the question\n",
    "Measured magnification: Mmeasured =27.5 \n",
    "\n",
    "Calculated magnification: Mcalculated =37.5mm \n",
    "\n",
    "The calculated and measured magnification don't agree.\n"
   ]
  },
  {
   "cell_type": "markdown",
   "id": "c57bdf1d",
   "metadata": {},
   "source": [
    "5) Setup of a Keplerian and a Galilean\n",
    "\n",
    "Step 1: The data\n",
    "\n",
    "Keplerian: increments without telescope: approximately 10\n",
    "                 increments with telescope: 1\n",
    "                 \n",
    "Step 2: The calculations \n",
    "\n",
    "(we forgot to measure the distances between the lens and eye and the two lenses of the telescope)\n",
    "\n",
    "Step 3: The results and answer to the question\n",
    "Do the measured and the calculated values for the magnification agree?\n",
    "\n",
    "The measured values for the magnification approximately correspond to MK = 10x. \n",
    "\n"
   ]
  },
  {
   "cell_type": "code",
   "execution_count": null,
   "id": "bce5e73e",
   "metadata": {},
   "outputs": [],
   "source": [
    "\n",
    "#2) Determination of the wavelength with a diffraction grating\n",
    "\n",
    "#Step 1: The data\n",
    "m3=[0,1/50,2/50,3/50,4/50,5/50]\n",
    "sr2=[0,1.85,3.75,5.32,7.53,9.44]\n",
    "sg2=[0,1.58,3.03,4.15,5.80,7.35]\n",
    "\n",
    "#Step 2: The Plots\n",
    "import matplotlib.pyplot as plt\n",
    "from numpy import arange\n",
    "from scipy.optimize import curve_fit\n",
    "from matplotlib import pyplot\n",
    "     \n",
    "# define the true objective function\n",
    "def objective(x, a, b):\n",
    "\treturn a * x + b\n",
    "\n",
    "# choose the input and output variables\n",
    "x, y = m3, sr2\n",
    "u, w = m3, sg2\n",
    "...\n",
    "# curve fit\n",
    "popt, _ = curve_fit(objective, x, y)\n",
    "popt1, _ = curve_fit(objective, u, w)\n",
    "# summarize the parameter values\n",
    "a, b = popt\n",
    "u, w = popt1\n",
    "print('y = %.5f * x + %.5f' % (a, b))\n",
    "print('y = %.5f * x + %.5f' % (u, w))\n",
    "\n",
    "...\n",
    "# plot input vs output\n",
    "pyplot.scatter(x, y)\n",
    "pyplot.scatter(u, w)\n",
    "\n",
    "\n",
    "# define a sequence of inputs between the smallest and largest known inputs\n",
    "x_line = arange(min(x), max(x), 1)\n",
    "u_line = arange(min(x), max(x), 1)\n",
    "\n",
    "# calculate the output for the range\n",
    "y_line = objective(x_line, a, b)\n",
    "w_line = objective(x_line, a, b)\n",
    "     \n",
    "# create a line plot for the mapping function\n",
    "pyplot.plot(x_line, y_line, 'ro')\n",
    "pyplot.plot(u_line, w_line, 'gx')\n",
    "plt.title('Minima')\n",
    "plt.axis([0,0,0.1,0.2])\n",
    "plt.xlabel('2m-1/d')\n",
    "plt.ylabel('sin0')\n",
    "pyplot.show()"
   ]
  }
 ],
 "metadata": {
  "kernelspec": {
   "display_name": "Python 3 (ipykernel)",
   "language": "python",
   "name": "python3"
  },
  "language_info": {
   "codemirror_mode": {
    "name": "ipython",
    "version": 3
   },
   "file_extension": ".py",
   "mimetype": "text/x-python",
   "name": "python",
   "nbconvert_exporter": "python",
   "pygments_lexer": "ipython3",
   "version": "3.9.7"
  }
 },
 "nbformat": 4,
 "nbformat_minor": 5
}
