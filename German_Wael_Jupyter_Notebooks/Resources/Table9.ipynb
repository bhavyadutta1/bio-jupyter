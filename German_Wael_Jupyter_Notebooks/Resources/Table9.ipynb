{
 "cells": [
  {
   "cell_type": "code",
   "execution_count": 2,
   "id": "7d536ba2-b4b7-40c8-9ac6-5b6af8dd98bb",
   "metadata": {},
   "outputs": [
    {
     "data": {
      "text/html": [
       "\n",
       "        <iframe\n",
       "            width=\"100%\"\n",
       "            height=\"650\"\n",
       "            src=\"http://127.0.0.1:8094/\"\n",
       "            frameborder=\"0\"\n",
       "            allowfullscreen\n",
       "            \n",
       "        ></iframe>\n",
       "        "
      ],
      "text/plain": [
       "<IPython.lib.display.IFrame at 0x20f08620df0>"
      ]
     },
     "metadata": {},
     "output_type": "display_data"
    }
   ],
   "source": [
    "import dash\n",
    "from dash import dash_table\n",
    "import pandas as pd\n",
    "import dash_core_components as dcc\n",
    "from dash import html\n",
    "import plotly.express as px\n",
    "from dash.dependencies import Input, Output\n",
    "\n",
    "# Initialize the Dash app\n",
    "app = dash.Dash(__name__)\n",
    "\n",
    "# Create a sample DataFrame\n",
    "data = [\n",
    "    {\n",
    "        \"t\": i,\n",
    "        \"volume\": i * 0,\n",
    "        \"od1\": i * 0,\n",
    "        \"od2\": i * 0,\n",
    "        \"od_mean\": i * 0,\n",
    "        \"tcc\": i * 0,\n",
    "        \"glucose\": i * 0,\n",
    "        \"empty_tube\": i * 0,\n",
    "        \"tube_speed\": i * 0,\n",
    "        \"remark\": i * 0,\n",
    "    }\n",
    "    for i in range(10)\n",
    "]\n",
    "df = pd.DataFrame(data)\n",
    "\n",
    "# Define the layout\n",
    "app.layout = html.Div([\n",
    "    dash_table.DataTable(\n",
    "        id='editable-table',\n",
    "        columns=[\n",
    "            {\"name\": [\"t\"], \"id\": \"time\"},\n",
    "            {\"name\": [\"Probenahme\"], \"id\": \"volume\"},\n",
    "            {\"name\": [\"Ethanol\"], \"id\": \"od1\"},\n",
    "            {\"name\": [\"Glucose\"], \"id\": \"od2\"},\n",
    "            {\"name\": [\"Trocken Masse\"], \"id\": \"od3\"},\n",
    "            {\"name\": [\"OD600\"], \"id\": \"od_mean\"},\n",
    "            {\"name\": [\"Lebendzellzahl\"], \"id\": \"tcc\"},\n",
    "            {\"name\": [\"Gesamt Zellzahl\"], \"id\": \"glucose\"},\n",
    "        ],\n",
    "        data=df.to_dict('records'),\n",
    "        merge_duplicate_headers=True,\n",
    "        editable=True,\n",
    "        export_format='xlsx',\n",
    "        style_cell={'textAlign': 'left'},\n",
    "    ),\n",
    "    \n",
    "], style={'width': '100%', 'height': '100px'})\n",
    "\n",
    "\n",
    "\n",
    "# Run the app\n",
    "if __name__ == '__main__':\n",
    "    app.run_server(jupyter_mode=\"inline\", port=8094, debug=False)\n"
   ]
  },
  {
   "cell_type": "code",
   "execution_count": null,
   "id": "eed9bdd1-647d-4259-8131-728bd7734606",
   "metadata": {},
   "outputs": [],
   "source": []
  }
 ],
 "metadata": {
  "kernelspec": {
   "display_name": "Python 3 (ipykernel)",
   "language": "python",
   "name": "python3"
  },
  "language_info": {
   "codemirror_mode": {
    "name": "ipython",
    "version": 3
   },
   "file_extension": ".py",
   "mimetype": "text/x-python",
   "name": "python",
   "nbconvert_exporter": "python",
   "pygments_lexer": "ipython3",
   "version": "3.10.11"
  }
 },
 "nbformat": 4,
 "nbformat_minor": 5
}
