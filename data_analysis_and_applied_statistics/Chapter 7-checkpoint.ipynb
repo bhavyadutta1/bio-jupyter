{
 "cells": [
  {
   "cell_type": "markdown",
   "id": "91a9e383",
   "metadata": {},
   "source": [
    "# <center> <font color=navy> BE_18- Data Analysis and Applied Statistics WS 22/23 </font> </center>\n",
    "## <center> <font color=\t#FF4500> Chapter 7 : Hypothesis testing with two samples </font> </center>  "
   ]
  },
  {
   "cell_type": "code",
   "execution_count": 2,
   "id": "c04c5f14",
   "metadata": {},
   "outputs": [],
   "source": [
    "from scipy import stats"
   ]
  },
  {
   "cell_type": "markdown",
   "id": "313e39a2",
   "metadata": {},
   "source": [
    "## <font color= \t#483D8B> Comparing two samples </font>\n",
    "---\n",
    "\n",
    "1. Calculate difference in mean: \n",
    "<br> \n",
    "<div style=\"border: 2px solid royalblue\">\n",
    "<br> $$ x_1 - x_2 $$ <p style=\"text-align:right\">  (1) &nbsp;\n",
    "</div>\n",
    "\n",
    "2. Standard error: \n",
    "<br> \n",
    "<div style=\"border: 2px solid royalblue\">\n",
    "<br> $$ \\sqrt{\\frac{(\\sigma_1)^2}{n_1} + \\frac{(\\sigma_2)^2}{n_2}}  $$ <p style=\"text-align:right\">  (2) &nbsp;\n",
    "</div>\n",
    "\n",
    "\n",
    "\n",
    "3. Degree of freedom: \n",
    "\n",
    "<br> \n",
    "<div style=\"border: 2px solid royalblue\">\n",
    "<br> $$ n_1 + n_2 - 2 $$ <p style=\"text-align:right\">  (3) &nbsp;\n",
    "</div>\n",
    "\n",
    "## <font color= \t#483D8B> Cohens d </font>\n",
    "--- \n",
    "Measures difference between two means. similar to z-score. gives how big the difference is compared to standard deviation.\n",
    "\n",
    "<br> \n",
    "<div style=\"border: 2px solid royalblue\">\n",
    "<br> $$ d = \\frac{x_1 - x_2}{s_spooled} $$ <p style=\"text-align:right\">  (4) &nbsp;\n",
    "</div>\n",
    "\n",
    "\n",
    "where\n",
    "<br> \n",
    "<div style=\"border: 2px solid royalblue\">\n",
    "<br> $$ s_spooled = \\sqrt {\\frac {(n_1 -1) s_1^2 + (n_2 -1) s_2^2}{n_1 + n_2 -2}} $$ <p style=\"text-align:right\">  (5) &nbsp;\n",
    "</div>\n",
    "\n",
    "\n",
    "|   Size of effect   |   d   |\n",
    "|   ---   | --- | \n",
    "|   Small   |   0.2   |\n",
    "|   Medium |   0.5   |\n",
    "|   Large   |   0.8   |\n",
    "\n",
    "\n",
    "## <font color= \t#483D8B> Hypothesis test for propotions </font>\n",
    "---\n",
    "\n",
    "1. Calculate p*: \n",
    "<br> \n",
    "<div style=\"border: 2px solid royalblue\">\n",
    "<br> $$ p^* = \\frac{x_1 + x_2}{n_1 + n_2} $$ <p style=\"text-align:right\">  (6) &nbsp;\n",
    "</div>\n",
    "\n",
    "\n",
    "2. Standard error: \n",
    "<br> \n",
    "<div style=\"border: 2px solid royalblue\">\n",
    "<br> $$ SE= \\sqrt{p_* (1-p_*)(\\frac{1}{n_1} + \\frac{1}{n_2})} $$ <p style=\"text-align:right\">  (7) &nbsp;\n",
    "</div>\n",
    " \n",
    "\n",
    "3. Calculate $p_1$ and $p_2$: \n",
    "\n",
    "<br> \n",
    "<div style=\"border: 2px solid royalblue\">\n",
    "<br> $$ p_1 = \\frac{x_1}{n_1} ; \n",
    "p_2 = \\frac{x_2}{n_2} $$ <p style=\"text-align:right\">  (8) &nbsp;\n",
    "</div>\n",
    "\n",
    "\n",
    "\n",
    "4. calculate z-score:\n",
    "\n",
    "<br> \n",
    "<div style=\"border: 2px solid royalblue\">\n",
    "<br> $$ z* = \\frac{p_1 - p_2}{SE} $$ <p style=\"text-align:right\">  (9) &nbsp;\n",
    "</div>\n",
    "\n",
    "\n",
    "\n",
    "## <font color= \t#483D8B> Two sample paired t-test for means </font>\n",
    "---\n",
    "\n",
    "**EX 1. A study was conducted to investigate how effective a new diet was in lowering cholesterol. Results for the randomly selected subjects are shown in the table. The differences have a normal distribution. Are the subjects’ cholesterol levels lower on average after the diet? Test at the 5% level.**\n",
    "\n",
    "| Subject | A | B | C | D | E | F | G | H | I |\n",
    "| --- | --- | --- | --- | --- | --- | --- | --- | --- | --- |\n",
    "| Before | 209 | 210 | 205 | 198 | 216 | 217 | 238 | 240 | 222 |\n",
    "| After | 199 | 207 | 189 | 209 | 217 | 202 | 211 | 223 | 201 |"
   ]
  },
  {
   "cell_type": "code",
   "execution_count": 3,
   "id": "9b89b6f6",
   "metadata": {},
   "outputs": [
    {
     "data": {
      "text/plain": [
       "Ttest_relResult(statistic=2.725913089547616, pvalue=0.0260096955184896)"
      ]
     },
     "execution_count": 3,
     "metadata": {},
     "output_type": "execute_result"
    }
   ],
   "source": [
    "Before= [209, 210, 205, 198, 216, 217, 238, 240, 222]\n",
    "After= [199, 207, 189, 209, 217, 202, 211, 223, 201]\n",
    "\n",
    "stats.ttest_rel(Before, After)"
   ]
  },
  {
   "cell_type": "code",
   "execution_count": null,
   "id": "2b73c09e",
   "metadata": {},
   "outputs": [],
   "source": []
  }
 ],
 "metadata": {
  "kernelspec": {
   "display_name": "Python 3 (ipykernel)",
   "language": "python",
   "name": "python3"
  },
  "language_info": {
   "codemirror_mode": {
    "name": "ipython",
    "version": 3
   },
   "file_extension": ".py",
   "mimetype": "text/x-python",
   "name": "python",
   "nbconvert_exporter": "python",
   "pygments_lexer": "ipython3",
   "version": "3.9.13"
  }
 },
 "nbformat": 4,
 "nbformat_minor": 5
}
