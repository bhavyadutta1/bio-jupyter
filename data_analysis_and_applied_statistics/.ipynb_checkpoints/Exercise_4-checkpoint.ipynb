{
 "cells": [
  {
   "cell_type": "markdown",
   "id": "aa8b9970",
   "metadata": {},
   "source": [
    "# Chapter 4"
   ]
  },
  {
   "cell_type": "code",
   "execution_count": null,
   "id": "9c337871",
   "metadata": {},
   "outputs": [],
   "source": [
    "# Use hashtags for comments\n",
    "x= 76\n",
    "print(type(x))  # (type) will give variable's data type which can be integer (45,67) float(1.22 , 3.409), string(alpha , beta) or boolean(True or False)\n",
    "\n",
    "#Arithmatic operators:\n",
    "Addition: +\n",
    "Substraction: -\n",
    "Multiplication: *\n",
    "Exponential: **\n",
    "Division: /\n",
    "\n",
    "#"
   ]
  },
  {
   "cell_type": "code",
   "execution_count": 19,
   "id": "f6994866",
   "metadata": {},
   "outputs": [],
   "source": [
    "# Importing required libraries\n",
    " \n",
    "import numpy as np\n",
    "import math"
   ]
  },
  {
   "cell_type": "markdown",
   "id": "a3c3d39b",
   "metadata": {},
   "source": [
    "## Normal Distribution\n",
    "\n",
    "The standard normal distribution is a normal distribution of standardized values called **z-scores**. A z-score (*z*) is measured in units of the standard deviation. The z-score tells how many standard deviations a particular x is away from the mean.\n",
    "\n",
    "If X is a normally distributed random variable and X ~ N(μ, σ), then the z-score for a particular x is:\n",
    "\n",
    "$$\n",
    "z=\\frac{x-\\mu}{\\sigma}\n",
    "$$\n",
    "\n",
    "The transformation produces the standard normal distribution Z ~ N(0, 1). The value x in the given equation comes from a known normal distribution with known mean *μ* and known standard deviation *σ*. \n",
    "\n",
    "#### The Emperical rule:\n",
    "\n",
    "About 68% of the x values lie between –1σ and +1σ of the mean µ (within one standard deviation of the mean).\n",
    "About 95% of the x values lie between –2σ and +2σ of the mean µ (within two standard deviations of the mean).\n",
    "About 99.7% of the x values lie between –3σ and +3σ of the mean µ (within three standard deviations of the mean). \n",
    "\n",
    "#### Probability density function:\n",
    "\n",
    "$$\n",
    "f(x) = \\frac{1}{\\sigma* \\sqrt {2\\pi}} * e^{\\frac {-1}{2} * (\\frac{x-\\mu}{\\sigma})^2}\n",
    "$$\n",
    "\n",
    "#### EX 1. The golf scores for a school team were normally distributed with a mean of 68 and a standard deviation of three. Find the probability that a golfer scored between 66 and 70."
   ]
  },
  {
   "cell_type": "code",
   "execution_count": 23,
   "id": "0640b109",
   "metadata": {},
   "outputs": [
    {
     "data": {
      "text/plain": [
       "0.10648266850745075"
      ]
     },
     "execution_count": 23,
     "metadata": {},
     "output_type": "execute_result"
    }
   ],
   "source": [
    "mean= 68\n",
    "sd= 3\n",
    "x=66\n",
    "def normal_dist(x , mean , sd):\n",
    "    p = 1/(sd*math.sqrt(2*math.pi)) * math.exp(-0.5*((x-mean)/sd)**2)\n",
    "    return p\n",
    "\n",
    " \n",
    "#Apply function to the data.\n",
    "normal_dist(x,mean,sd)"
   ]
  },
  {
   "cell_type": "code",
   "execution_count": 30,
   "id": "6e79c690",
   "metadata": {},
   "outputs": [
    {
     "data": {
      "text/plain": [
       "0.3673373689598949"
      ]
     },
     "execution_count": 30,
     "metadata": {},
     "output_type": "execute_result"
    }
   ],
   "source": [
    "mean= 5.85\n",
    "sd= 0.24\n",
    "y=6\n",
    "def normal_dist(y , mean , sd):\n",
    "    p = 1/(sd*math.sqrt(2*math.pi)) * math.exp(-0.5*((y-mean)/sd)**2)\n",
    "    return p\n",
    "\n",
    " \n",
    "#Apply function to the data.\n",
    "normal_dist(y,mean,sd)-1\n"
   ]
  },
  {
   "cell_type": "code",
   "execution_count": null,
   "id": "18ba15c6",
   "metadata": {},
   "outputs": [],
   "source": []
  }
 ],
 "metadata": {
  "kernelspec": {
   "display_name": "Python 3 (ipykernel)",
   "language": "python",
   "name": "python3"
  },
  "language_info": {
   "codemirror_mode": {
    "name": "ipython",
    "version": 3
   },
   "file_extension": ".py",
   "mimetype": "text/x-python",
   "name": "python",
   "nbconvert_exporter": "python",
   "pygments_lexer": "ipython3",
   "version": "3.9.7"
  }
 },
 "nbformat": 4,
 "nbformat_minor": 5
}
