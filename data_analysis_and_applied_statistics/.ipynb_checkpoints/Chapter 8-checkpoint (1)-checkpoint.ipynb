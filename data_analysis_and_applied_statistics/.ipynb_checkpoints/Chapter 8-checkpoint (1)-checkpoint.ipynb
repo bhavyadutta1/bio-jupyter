{
 "cells": [
  {
   "cell_type": "code",
   "execution_count": 4,
   "id": "a15fe642",
   "metadata": {},
   "outputs": [],
   "source": [
    "from scipy.stats import chi2_contingency\n",
    "from scipy.stats import chi2"
   ]
  },
  {
   "cell_type": "markdown",
   "id": "19b76c6b",
   "metadata": {},
   "source": [
    "# The Chi square Distribution\n",
    "\n",
    "Used to measure sum of squares. Always one-tailed. \n",
    "\n",
    "$X$ ~ $X^2_{df}$\n",
    "\n",
    "1. For each term calculate:\n",
    "\n",
    "$$\n",
    "\\frac{(O-E)^2}{E}\n",
    "$$\n",
    "\n",
    "where O= real observation and E = expected observation\n",
    "\n",
    "2. Sum of squares = chi\n",
    "\n",
    "3. Degree of freedom:\n",
    "\n",
    "$$\n",
    "df =  total values -1\n",
    "$$\n",
    "\n",
    "\n",
    "For the $X^2$ distribution, mean $\\mu = df$ and population standard deviation $\\sigma = \\sqrt {2 (df)} $ "
   ]
  },
  {
   "cell_type": "markdown",
   "id": "afd33840",
   "metadata": {},
   "source": [
    "# Contingency table\n",
    "\n",
    "Measures combinations of various characteristics.\n",
    "\n",
    "#### Example: Check relation between smokers/non-smokers and Cancer/not cancer\n",
    "n= 12;\n",
    "smokers= 3;\n",
    "non-smokers= 9;\n",
    "Cancer= 4;\n",
    "non-cancer= 8\n",
    "\n",
    "**Formula:** $\\frac{row total* column total}{total number}$\n",
    "\n",
    "\n",
    "smokers with cancer = $\\frac{3*4}{12} = 1$;\n",
    "\n",
    "smokers without cancer = $\\frac{3*8}{12} = 2$;\n",
    "\n",
    "non-smokers with cancer = $\\frac{9*4}{12} = 3$;\n",
    "\n",
    "non-smokers without cancer = $\\frac{9*8}{12} = 6$;\n",
    "\n",
    "Table 1: Expected values\n",
    "\n",
    "|  | Smokers | Non-smokers |\n",
    "| --- | --- | --- |\n",
    "|Cancer | 1 | 3 |\n",
    "|not Cancer | 2 | 6 |\n",
    "\n",
    "Table 2: Observed values\n",
    "\n",
    "|  | Smokers | Non-smokers |\n",
    "| --- | --- | --- |\n",
    "|Cancer | 2 | 1 |\n",
    "|not Cancer | 1 | 8 |\n",
    "\n",
    "H0= both characteristics do not have a significant relation\n",
    "\n",
    "HA= both characteristics have a significant relation"
   ]
  },
  {
   "cell_type": "code",
   "execution_count": 6,
   "id": "29a06040",
   "metadata": {},
   "outputs": [
    {
     "name": "stdout",
     "output_type": "stream",
     "text": [
      "[[2, 1], [1, 8]]\n",
      "p value is 0.24821307898992026\n",
      "Independent (accept H0)\n"
     ]
    }
   ],
   "source": [
    "# contingency table\n",
    "observed_data = [ [2, 1],\n",
    " [1,  8]]\n",
    "print(table)\n",
    "stat, p, dof, expected = chi2_contingency(observed_data)\n",
    "\n",
    "# interpret p-value\n",
    "alpha = 0.05\n",
    "print(\"p value is \" + str(p))\n",
    "if p <= alpha:\n",
    "    print('Dependent (reject H0)')\n",
    "else:\n",
    "    print('Independent (accept H0)')"
   ]
  },
  {
   "cell_type": "code",
   "execution_count": null,
   "id": "270b5cd4",
   "metadata": {},
   "outputs": [],
   "source": []
  },
  {
   "cell_type": "code",
   "execution_count": null,
   "id": "24fbb46e",
   "metadata": {},
   "outputs": [],
   "source": []
  }
 ],
 "metadata": {
  "kernelspec": {
   "display_name": "Python 3 (ipykernel)",
   "language": "python",
   "name": "python3"
  },
  "language_info": {
   "codemirror_mode": {
    "name": "ipython",
    "version": 3
   },
   "file_extension": ".py",
   "mimetype": "text/x-python",
   "name": "python",
   "nbconvert_exporter": "python",
   "pygments_lexer": "ipython3",
   "version": "3.9.13"
  }
 },
 "nbformat": 4,
 "nbformat_minor": 5
}
