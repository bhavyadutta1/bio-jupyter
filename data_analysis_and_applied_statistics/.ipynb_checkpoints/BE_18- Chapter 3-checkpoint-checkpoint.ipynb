{
 "cells": [
  {
   "cell_type": "markdown",
   "id": "1d23f1ae",
   "metadata": {},
   "source": [
    "# <center> <font color=navy> BE_18- Data Analysis and Applied Statistics WS 22/23 </font> </center>\n",
    "## <center> <font color=\t#FF4500> Chapter 3 : Random variables and Distributions </font> </center>  "
   ]
  },
  {
   "cell_type": "code",
   "execution_count": 3,
   "id": "3ad2074e",
   "metadata": {},
   "outputs": [],
   "source": [
    "import pandas as pd\n",
    "import numpy as np\n",
    "import matplotlib.pyplot as plt\n",
    "from scipy import stats as st\n",
    "from scipy.special import comb\n",
    "from scipy.stats import hypergeom\n",
    "from scipy.stats import binom\n",
    "from scipy.stats import geom\n",
    "from scipy.stats import poisson\n",
    "from scipy.stats import uniform\n",
    "from scipy.stats import expon\n",
    "import math"
   ]
  },
  {
   "cell_type": "markdown",
   "id": "e6cb6634",
   "metadata": {},
   "source": [
    "## <font color= \t#483D8B> Combinatorics </font>\n",
    "\n",
    "Number of ways to choose *x* (without replacement) out of *n* (total number). Formally called <font color=\t#FF4500>**Binomial Formula**</font>.\n",
    "\n",
    "<br> \n",
    "<div style=\"border: 2px solid royalblue\">\n",
    "<br> $$ \\pmatrix{n \\\\ x} = C_{n/x}$$ <p style=\"text-align:right\">  (1) &nbsp;\n",
    "</div> \n",
    "\n"
   ]
  },
  {
   "cell_type": "markdown",
   "id": "6379a1ef",
   "metadata": {},
   "source": [
    "## <font color= \t#483D8B> 1. Hypergeometric distribution </font>\n",
    "\n",
    "A discrete probability distribution with only two independent subsets (eg. Aces/non-Aces); used to find probility of obtaining successes without replacement. It is similar t binomial distribution, but probability of success is unknown.\n",
    "\n",
    "<font color=\t#FF4500>**Probability Mass Function** (PMF)</font> allows to compute probability of a single success: \n",
    "\n",
    "\n",
    "<br> \n",
    "<div style=\"border: 2px solid royalblue\">\n",
    "<br> $$ P(x)= \\frac{\\pmatrix{A \\\\ x}  \\pmatrix{ N-A \\\\ n-x}}{\\pmatrix{N \\\\ n}}$$ <p style=\"text-align:right\">  (2) &nbsp;\n",
    "</div> \n",
    "\n",
    "\n",
    "\n",
    "\n",
    "#### EX 1. Pick 5 cards out of a deck, how many ways to get 2 aces?\n",
    "\n",
    "N= 52, A = 5, n= 4, x = 2"
   ]
  },
  {
   "cell_type": "code",
   "execution_count": 10,
   "id": "da0c5ac5",
   "metadata": {},
   "outputs": [
    {
     "data": {
      "text/plain": [
       "0.03992981808107859"
      ]
     },
     "execution_count": 10,
     "metadata": {},
     "output_type": "execute_result"
    }
   ],
   "source": [
    " #Pmf=probability mass function, probability of exactly 2 sucesses.\n",
    "    \n",
    "def hypergeom_pmf(N,A,n,x):\n",
    "    \n",
    "    '''\n",
    "    Probability Mass Function for Hypergeometric Distribution\n",
    "    :param N: population size\n",
    "    :param A: total number of desired items in N\n",
    "    :param n: number of draws made from N\n",
    "    :param x: number of desired items in our draw of n items\n",
    "    :returns: PMF computed at x\n",
    "    '''\n",
    "    Achoosex = comb(A,x)\n",
    "    NAchoosenx = comb(N-A, n-x)\n",
    "    Nchoosen = comb(N,n)\n",
    "    \n",
    "    return (Achoosex)*NAchoosenx/Nchoosen\n",
    "\n",
    "hypergeom_pmf(52,5,4,2) "
   ]
  },
  {
   "cell_type": "markdown",
   "id": "535c35f3",
   "metadata": {},
   "source": [
    "#### EX 2. Pick 5 cards out of a deck, how many ways to get 2 or less aces?\n",
    "\n",
    "N= 52, A = 5, n= 4, x = 2\n",
    "\n",
    "In this example, <font color=\t#FF4500>**Cumulative Distribution Function** (CDF)</font> is used to compute total probabilities for a range of values of x.\n",
    "\n",
    "<br> \n",
    "<div style=\"border: 2px solid royalblue\">\n",
    "<br> $$ P(X \\ge x)= \\sum_{x=0}^t \\frac{\\pmatrix{A \\\\ x}  \\pmatrix{ N-A \\\\ n-x}}{\\pmatrix{N \\\\ n}}$$ <p style=\"text-align:right\">  (3) &nbsp;\n",
    "</div>"
   ]
  },
  {
   "cell_type": "code",
   "execution_count": 12,
   "id": "1551f598",
   "metadata": {},
   "outputs": [
    {
     "data": {
      "text/plain": [
       "0.9982454520269646"
      ]
     },
     "execution_count": 12,
     "metadata": {},
     "output_type": "execute_result"
    }
   ],
   "source": [
    "#cdf for probability of at most 2 successes.\n",
    "\n",
    "def hypergeom_cdf(N, A, n, t, min_value=None):\n",
    "    \n",
    "    '''\n",
    "    Cumulative Density Funtion for Hypergeometric Distribution\n",
    "    :param N: population size\n",
    "    :param A: total number of desired items in N\n",
    "    :param n: number of draws made from N\n",
    "    :param t: number of desired items in our draw of n items up to t\n",
    "    :returns: CDF computed up to t\n",
    "    '''\n",
    "    if min_value:\n",
    "        return np.sum([hypergeom_pmf(N, A, n, x) for x in range(min_value, t+1)])\n",
    "    \n",
    "    return np.sum([hypergeom_pmf(N, A, n, x) for x in range(t+1)])\n",
    "hypergeom_cdf(52,5,4,2)"
   ]
  },
  {
   "cell_type": "markdown",
   "id": "0f59f423",
   "metadata": {},
   "source": [
    "#### EX 3. Pick 5 cards out of a deck, how many ways to get 2 or more aces?\n",
    "\n",
    "N= 52, A = 5, n= 4, x = 2\n",
    "\n",
    "In this example, substract probability of getting two or less aces (by cdf) from 1. This is also called **Survival frequency**.\n",
    "\n",
    "<br> \n",
    "<div style=\"border: 2px solid royalblue\">\n",
    "<br> $$ SF = 1- CDF$$ <p style=\"text-align:right\">  (4) &nbsp;\n",
    "</div> \n",
    "\n"
   ]
  },
  {
   "cell_type": "code",
   "execution_count": 13,
   "id": "d6c4a9c1",
   "metadata": {},
   "outputs": [
    {
     "data": {
      "text/plain": [
       "0.0017545479730354252"
      ]
     },
     "execution_count": 13,
     "metadata": {},
     "output_type": "execute_result"
    }
   ],
   "source": [
    "#sf=survival frequency, probability of atleast 2 successes.\n",
    "\n",
    "1-hypergeom_cdf(52,5,4,2)   "
   ]
  },
  {
   "cell_type": "markdown",
   "id": "97f920eb",
   "metadata": {},
   "source": [
    "## <font color= \t#483D8B> 2. Binomial Distribution </font>\n",
    "\n",
    "A probability distribution with only two independent outcomes (success/failure); used to find probility of obtaining exact number of successes with replacement. Probability of success (p) doesn't change.\n",
    "\n",
    "<br> \n",
    "<div style=\"border: 2px solid royalblue\">\n",
    "<br> $$ P(x)= \\pmatrix{n \\\\ x} p^x q^{n-x}$$ <p style=\"text-align:right\">  (5) &nbsp;\n",
    "</div> \n",
    "\n",
    "\n",
    "where p is the probability of x successes out of n and q is the probability of failure. \n",
    "\n",
    "<br> \n",
    "<div style=\"border: 2px solid royalblue\">\n",
    "<br> $$ q= 1-p$$ <p style=\"text-align:right\">  (6) &nbsp;\n",
    "</div> \n",
    "\n"
   ]
  },
  {
   "cell_type": "markdown",
   "id": "c6c1bc5b",
   "metadata": {},
   "source": [
    "#### EX 4. A trainer is teaching a dolphin to do tricks. The probability that the dolphin successfully performs the trick is 35%, and the probability that the dolphin does not successfully perform the trick is 65%. Out of 20 attempts, you want to find the probability that the dolphin succeeds 12 times. Find the P(X=12).\n",
    "\n",
    "n= 20\n",
    "x= 12\n",
    "p= 0.35"
   ]
  },
  {
   "cell_type": "code",
   "execution_count": 17,
   "id": "f587afd1",
   "metadata": {},
   "outputs": [
    {
     "data": {
      "text/plain": [
       "0.013564085376714451"
      ]
     },
     "execution_count": 17,
     "metadata": {},
     "output_type": "execute_result"
    }
   ],
   "source": [
    "\n",
    "def binom_pmf(n,x,p):\n",
    "    \n",
    "    '''\n",
    "    Probability Mass Function for Binomial Distribution\n",
    "    :param n: number of attempts\n",
    "    :param x: number of desired attempts out of n \n",
    "    :param p: probability of success\n",
    "    :returns: PMF computed at x\n",
    "    '''\n",
    "    \n",
    "    return comb(n,x)* p**x * (1-p)**(n-x)\n",
    "binom_pmf(20,12,0.35)"
   ]
  },
  {
   "cell_type": "markdown",
   "id": "258adb37",
   "metadata": {},
   "source": [
    "#### EX 4. A trainer is teaching a dolphin to do tricks. The probability that the dolphin successfully performs the trick is 35%, and the probability that the dolphin does not successfully perform the trick is 65%. Out of 20 attempts, you want to find the probability that the dolphin succeeds 12 times. Find the P(X<=12).\n",
    "\n",
    "n= 20\n",
    "x= 12\n",
    "p= 0.35\n",
    "\n",
    "In this example, **Cumulative Distribution Function** (CDF) is used to compute total probabilities for a range of values of x.\n",
    "\n",
    "<br> \n",
    "<div style=\"border: 2px solid royalblue\">\n",
    "<br> $$ P(X \\ge x)= \\sum_{x=0}^t \\pmatrix{n \\\\ x} p^x q^{n-x}$$ <p style=\"text-align:right\">  (7) &nbsp;\n",
    "</div> \n"
   ]
  },
  {
   "cell_type": "code",
   "execution_count": 19,
   "id": "e234762f",
   "metadata": {},
   "outputs": [
    {
     "data": {
      "text/plain": [
       "0.9939847300418231"
      ]
     },
     "execution_count": 19,
     "metadata": {},
     "output_type": "execute_result"
    }
   ],
   "source": [
    "#cdf for probability of at most 2 successes.\n",
    "\n",
    "def binom_cdf(n,t,p, min_value=None):\n",
    "    \n",
    "    '''\n",
    "    Cumulative Density Funtion for Binomial Distribution\n",
    "    :param n: number of attempts\n",
    "    :param x: number of desired attempts out of n \n",
    "    :param p: probability of success\n",
    "    :param t: number of desired items in our draw of n items up to t\n",
    "    :returns: CDF computed up to t\n",
    "    '''\n",
    "    if min_value:\n",
    "        return np.sum([binom_pmf(n, x, p) for x in range(min_value, t+1)])\n",
    "    \n",
    "    return np.sum([binom_pmf(n, x, p) for x in range(t+1)])\n",
    "binom_cdf(20,12,0.35)"
   ]
  },
  {
   "cell_type": "markdown",
   "id": "38d4e1ad",
   "metadata": {},
   "source": [
    "#### EX 5. A trainer is teaching a dolphin to do tricks. The probability that the dolphin successfully performs the trick is 35%, and the probability that the dolphin does not successfully perform the trick is 65%. Out of 20 attempts, you want to find the probability that the dolphin succeeds 12 times. Find the P(X>=12).\n",
    "\n",
    "n= 20\n",
    "x= 12\n",
    "p= 0.35\n",
    "\n",
    "In this example, substract probability of getting two or less aces (by cdf) from 1. This is also called <font color=\t#FF4500>**Survival frequency**</font> .\n",
    "\n",
    "<br> \n",
    "<div style=\"border: 2px solid royalblue\">\n",
    "<br> $$ SF = 1- CDF$$ <p style=\"text-align:right\">  (4) &nbsp;\n",
    "</div>\n"
   ]
  },
  {
   "cell_type": "code",
   "execution_count": 20,
   "id": "eba90376",
   "metadata": {},
   "outputs": [
    {
     "data": {
      "text/plain": [
       "0.0060152699581769165"
      ]
     },
     "execution_count": 20,
     "metadata": {},
     "output_type": "execute_result"
    }
   ],
   "source": [
    "#sf=survival frequency, probability of atleast 12 successes.\n",
    "\n",
    "1-binom_cdf(20,12,0.35)   "
   ]
  },
  {
   "cell_type": "markdown",
   "id": "70d2dbab",
   "metadata": {},
   "source": [
    "## <font color= \t#483D8B> 3. Geometric distribution </font>\n",
    "\n",
    "A discrete probability distribution of the probability (*p*) for an event to take place after *X* number of independent trials. *p* remains same for each trial.\n",
    "\n",
    "For $X_s$ = first round of success;\n",
    "\n",
    "<br> \n",
    "<div style=\"border: 2px solid royalblue\">\n",
    "<br> $$ P(X_s=x) = (1-p)^{x-1}  p $$ <p style=\"text-align:right\">  (8) &nbsp;\n",
    "</div> \n",
    "\n",
    "\n",
    "For $X_f$ = number of failures before first success;\n",
    "\n",
    "<br> \n",
    "<div style=\"border: 2px solid royalblue\">\n",
    "<br> $$ P(X_f=x) = (1-p)^x  p$$ <p style=\"text-align:right\">  (9) &nbsp;\n",
    "</div>\n",
    " "
   ]
  },
  {
   "cell_type": "markdown",
   "id": "bc7cef9c",
   "metadata": {},
   "source": [
    "#### EX 6. The probability that Bob hits a free throw in basketball is 20%. What is the probability that he will miss five times before making one (makes the first in 6th try)?\n",
    "\n",
    "$X_f$ = 5, p= 0.20"
   ]
  },
  {
   "cell_type": "code",
   "execution_count": 23,
   "id": "479b7a9c",
   "metadata": {},
   "outputs": [
    {
     "data": {
      "text/plain": [
       "0.06553600000000002"
      ]
     },
     "execution_count": 23,
     "metadata": {},
     "output_type": "execute_result"
    }
   ],
   "source": [
    "def geom(s,p):\n",
    "    \n",
    "    '''\n",
    "    Geometric distribution\n",
    "    :param s: attempt of first success\n",
    "    :param p: probability of success\n",
    "    :returns: Probability of first success\n",
    "    '''\n",
    "    \n",
    "    return (1-p)**(s-1) *p\n",
    "geom(6,0.2)"
   ]
  },
  {
   "cell_type": "markdown",
   "id": "98c573f0",
   "metadata": {},
   "source": [
    "## <font color= \t#483D8B> 4. Poisson distribution </font>\n",
    "\n",
    "A probability distribution for events that occur at an average rate. Events are independent of each other and rate doesn't change.\n",
    "\n",
    "<br> \n",
    "<div style=\"border: 2px solid royalblue\">\n",
    "<br> $$ P(x)= \\frac {\\mu^x e^{-\\mu}}{x!}$$ <p style=\"text-align:right\">  (10) &nbsp;\n",
    "</div>\n",
    "\n",
    "\n",
    "where $\\mu$ is rate of events per unit time, x is the number of successes and e is Euler's constant (equal to approx 2.71828)."
   ]
  },
  {
   "cell_type": "markdown",
   "id": "f49716b6",
   "metadata": {},
   "source": [
    "#### EX 6. According to a survey a university professor gets, on average, 7 emails per day. Let X = the number of emails a professor receives per day. The discrete random variable X takes on the values x = 0, 1, 2 …. The random variable X has a Poisson distribution: X ~ P(7). The mean is 7 emails. What is the probability that an email user receives exactly 2 emails per day?\n"
   ]
  },
  {
   "cell_type": "code",
   "execution_count": 13,
   "id": "854b813c",
   "metadata": {},
   "outputs": [
    {
     "data": {
      "text/plain": [
       "0.022341108156085643"
      ]
     },
     "execution_count": 13,
     "metadata": {},
     "output_type": "execute_result"
    }
   ],
   "source": [
    "def poisson_pmf(x,mu):\n",
    "    \n",
    "    '''\n",
    "    Poisson distribution\n",
    "    :param x: number of successes\n",
    "    :param mu: mean number of successes in unit time\n",
    "    :returns: PMF computed at x\n",
    "    '''\n",
    "    \n",
    "    return mu^{x} * (math.e)^{-mu}/comb(x)\n",
    "poisson.pmf(2,7)"
   ]
  },
  {
   "cell_type": "code",
   "execution_count": 11,
   "id": "225badea",
   "metadata": {},
   "outputs": [
    {
     "data": {
      "text/plain": [
       "0.022341108156085643"
      ]
     },
     "execution_count": 11,
     "metadata": {},
     "output_type": "execute_result"
    }
   ],
   "source": [
    "def poisson_pmf(x,mu):\n",
    "    \n",
    "    '''\n",
    "    Probability mass function for Poisson distribution\n",
    "    :param x: number of successes\n",
    "    :param mu: mean number of successes in unit time\n",
    "    :returns: PMF computed at x\n",
    "    '''\n",
    "    \n",
    "    return mu^{x} * np.exp(-mu)/comb(x)\n",
    "poisson.pmf(2,7)"
   ]
  },
  {
   "cell_type": "code",
   "execution_count": 12,
   "id": "89af5f3e",
   "metadata": {},
   "outputs": [
    {
     "ename": "TypeError",
     "evalue": "unsupported operand type(s) for *: 'set' and 'float'",
     "output_type": "error",
     "traceback": [
      "\u001b[1;31m---------------------------------------------------------------------------\u001b[0m",
      "\u001b[1;31mTypeError\u001b[0m                                 Traceback (most recent call last)",
      "\u001b[1;32m~\\AppData\\Local\\Temp\\ipykernel_21700\\3041596057.py\u001b[0m in \u001b[0;36m<module>\u001b[1;34m\u001b[0m\n\u001b[0;32m     14\u001b[0m \u001b[1;33m\u001b[0m\u001b[0m\n\u001b[0;32m     15\u001b[0m     \u001b[1;32mreturn\u001b[0m \u001b[0mnp\u001b[0m\u001b[1;33m.\u001b[0m\u001b[0msum\u001b[0m\u001b[1;33m(\u001b[0m\u001b[1;33m[\u001b[0m\u001b[0mpoisson_pmf\u001b[0m\u001b[1;33m(\u001b[0m\u001b[0mx\u001b[0m\u001b[1;33m,\u001b[0m\u001b[0mmu\u001b[0m\u001b[1;33m)\u001b[0m \u001b[1;32mfor\u001b[0m \u001b[0mx\u001b[0m \u001b[1;32min\u001b[0m \u001b[0mrange\u001b[0m\u001b[1;33m(\u001b[0m\u001b[0mt\u001b[0m\u001b[1;33m+\u001b[0m\u001b[1;36m1\u001b[0m\u001b[1;33m)\u001b[0m\u001b[1;33m]\u001b[0m\u001b[1;33m)\u001b[0m\u001b[1;33m\u001b[0m\u001b[1;33m\u001b[0m\u001b[0m\n\u001b[1;32m---> 16\u001b[1;33m \u001b[0mpoisson_cdf\u001b[0m\u001b[1;33m(\u001b[0m\u001b[1;36m2\u001b[0m\u001b[1;33m,\u001b[0m\u001b[1;36m7\u001b[0m\u001b[1;33m)\u001b[0m\u001b[1;33m\u001b[0m\u001b[1;33m\u001b[0m\u001b[0m\n\u001b[0m",
      "\u001b[1;32m~\\AppData\\Local\\Temp\\ipykernel_21700\\3041596057.py\u001b[0m in \u001b[0;36mpoisson_cdf\u001b[1;34m(t, mu, min_value)\u001b[0m\n\u001b[0;32m     13\u001b[0m         \u001b[1;32mreturn\u001b[0m \u001b[0mnp\u001b[0m\u001b[1;33m.\u001b[0m\u001b[0msum\u001b[0m\u001b[1;33m(\u001b[0m\u001b[1;33m[\u001b[0m\u001b[0mpoisson_pmf\u001b[0m\u001b[1;33m(\u001b[0m\u001b[0mx\u001b[0m\u001b[1;33m,\u001b[0m\u001b[0mmu\u001b[0m\u001b[1;33m)\u001b[0m \u001b[1;32mfor\u001b[0m \u001b[0mx\u001b[0m \u001b[1;32min\u001b[0m \u001b[0mrange\u001b[0m\u001b[1;33m(\u001b[0m\u001b[0mmin_value\u001b[0m\u001b[1;33m,\u001b[0m \u001b[0mt\u001b[0m\u001b[1;33m+\u001b[0m\u001b[1;36m1\u001b[0m\u001b[1;33m)\u001b[0m\u001b[1;33m]\u001b[0m\u001b[1;33m)\u001b[0m\u001b[1;33m\u001b[0m\u001b[1;33m\u001b[0m\u001b[0m\n\u001b[0;32m     14\u001b[0m \u001b[1;33m\u001b[0m\u001b[0m\n\u001b[1;32m---> 15\u001b[1;33m     \u001b[1;32mreturn\u001b[0m \u001b[0mnp\u001b[0m\u001b[1;33m.\u001b[0m\u001b[0msum\u001b[0m\u001b[1;33m(\u001b[0m\u001b[1;33m[\u001b[0m\u001b[0mpoisson_pmf\u001b[0m\u001b[1;33m(\u001b[0m\u001b[0mx\u001b[0m\u001b[1;33m,\u001b[0m\u001b[0mmu\u001b[0m\u001b[1;33m)\u001b[0m \u001b[1;32mfor\u001b[0m \u001b[0mx\u001b[0m \u001b[1;32min\u001b[0m \u001b[0mrange\u001b[0m\u001b[1;33m(\u001b[0m\u001b[0mt\u001b[0m\u001b[1;33m+\u001b[0m\u001b[1;36m1\u001b[0m\u001b[1;33m)\u001b[0m\u001b[1;33m]\u001b[0m\u001b[1;33m)\u001b[0m\u001b[1;33m\u001b[0m\u001b[1;33m\u001b[0m\u001b[0m\n\u001b[0m\u001b[0;32m     16\u001b[0m \u001b[0mpoisson_cdf\u001b[0m\u001b[1;33m(\u001b[0m\u001b[1;36m2\u001b[0m\u001b[1;33m,\u001b[0m\u001b[1;36m7\u001b[0m\u001b[1;33m)\u001b[0m\u001b[1;33m\u001b[0m\u001b[1;33m\u001b[0m\u001b[0m\n",
      "\u001b[1;32m~\\AppData\\Local\\Temp\\ipykernel_21700\\3041596057.py\u001b[0m in \u001b[0;36m<listcomp>\u001b[1;34m(.0)\u001b[0m\n\u001b[0;32m     13\u001b[0m         \u001b[1;32mreturn\u001b[0m \u001b[0mnp\u001b[0m\u001b[1;33m.\u001b[0m\u001b[0msum\u001b[0m\u001b[1;33m(\u001b[0m\u001b[1;33m[\u001b[0m\u001b[0mpoisson_pmf\u001b[0m\u001b[1;33m(\u001b[0m\u001b[0mx\u001b[0m\u001b[1;33m,\u001b[0m\u001b[0mmu\u001b[0m\u001b[1;33m)\u001b[0m \u001b[1;32mfor\u001b[0m \u001b[0mx\u001b[0m \u001b[1;32min\u001b[0m \u001b[0mrange\u001b[0m\u001b[1;33m(\u001b[0m\u001b[0mmin_value\u001b[0m\u001b[1;33m,\u001b[0m \u001b[0mt\u001b[0m\u001b[1;33m+\u001b[0m\u001b[1;36m1\u001b[0m\u001b[1;33m)\u001b[0m\u001b[1;33m]\u001b[0m\u001b[1;33m)\u001b[0m\u001b[1;33m\u001b[0m\u001b[1;33m\u001b[0m\u001b[0m\n\u001b[0;32m     14\u001b[0m \u001b[1;33m\u001b[0m\u001b[0m\n\u001b[1;32m---> 15\u001b[1;33m     \u001b[1;32mreturn\u001b[0m \u001b[0mnp\u001b[0m\u001b[1;33m.\u001b[0m\u001b[0msum\u001b[0m\u001b[1;33m(\u001b[0m\u001b[1;33m[\u001b[0m\u001b[0mpoisson_pmf\u001b[0m\u001b[1;33m(\u001b[0m\u001b[0mx\u001b[0m\u001b[1;33m,\u001b[0m\u001b[0mmu\u001b[0m\u001b[1;33m)\u001b[0m \u001b[1;32mfor\u001b[0m \u001b[0mx\u001b[0m \u001b[1;32min\u001b[0m \u001b[0mrange\u001b[0m\u001b[1;33m(\u001b[0m\u001b[0mt\u001b[0m\u001b[1;33m+\u001b[0m\u001b[1;36m1\u001b[0m\u001b[1;33m)\u001b[0m\u001b[1;33m]\u001b[0m\u001b[1;33m)\u001b[0m\u001b[1;33m\u001b[0m\u001b[1;33m\u001b[0m\u001b[0m\n\u001b[0m\u001b[0;32m     16\u001b[0m \u001b[0mpoisson_cdf\u001b[0m\u001b[1;33m(\u001b[0m\u001b[1;36m2\u001b[0m\u001b[1;33m,\u001b[0m\u001b[1;36m7\u001b[0m\u001b[1;33m)\u001b[0m\u001b[1;33m\u001b[0m\u001b[1;33m\u001b[0m\u001b[0m\n",
      "\u001b[1;32m~\\AppData\\Local\\Temp\\ipykernel_21700\\672860232.py\u001b[0m in \u001b[0;36mpoisson_pmf\u001b[1;34m(x, mu)\u001b[0m\n\u001b[0;32m      8\u001b[0m     '''\n\u001b[0;32m      9\u001b[0m \u001b[1;33m\u001b[0m\u001b[0m\n\u001b[1;32m---> 10\u001b[1;33m     \u001b[1;32mreturn\u001b[0m \u001b[0mmu\u001b[0m\u001b[1;33m^\u001b[0m\u001b[1;33m{\u001b[0m\u001b[0mx\u001b[0m\u001b[1;33m}\u001b[0m \u001b[1;33m*\u001b[0m \u001b[0mnp\u001b[0m\u001b[1;33m.\u001b[0m\u001b[0mexp\u001b[0m\u001b[1;33m(\u001b[0m\u001b[1;33m-\u001b[0m\u001b[0mmu\u001b[0m\u001b[1;33m)\u001b[0m\u001b[1;33m/\u001b[0m\u001b[0mcomb\u001b[0m\u001b[1;33m(\u001b[0m\u001b[0mx\u001b[0m\u001b[1;33m)\u001b[0m\u001b[1;33m\u001b[0m\u001b[1;33m\u001b[0m\u001b[0m\n\u001b[0m\u001b[0;32m     11\u001b[0m \u001b[0mpoisson\u001b[0m\u001b[1;33m.\u001b[0m\u001b[0mpmf\u001b[0m\u001b[1;33m(\u001b[0m\u001b[1;36m2\u001b[0m\u001b[1;33m,\u001b[0m\u001b[1;36m7\u001b[0m\u001b[1;33m)\u001b[0m\u001b[1;33m\u001b[0m\u001b[1;33m\u001b[0m\u001b[0m\n",
      "\u001b[1;31mTypeError\u001b[0m: unsupported operand type(s) for *: 'set' and 'float'"
     ]
    }
   ],
   "source": [
    "#cdf for probability of at most 2 successes.\n",
    "\n",
    "def poisson_cdf(t,mu,min_value=None):\n",
    "    \n",
    "    '''\n",
    "    Cumulative Density Function for Poisson distribution\n",
    "    :param x: number of successes\n",
    "    :param mu: mean number of successes in unit time\n",
    "    :param t: number of desired successes up to t\n",
    "    :returns: CDF computed up to t\n",
    "    '''\n",
    "    if min_value:\n",
    "        return np.sum([poisson_pmf(x,mu) for x in range(min_value, t+1)])\n",
    "    \n",
    "    return np.sum([poisson_pmf(x,mu) for x in range(t+1)])\n",
    "poisson_cdf(2,7)"
   ]
  },
  {
   "cell_type": "markdown",
   "id": "6729497c",
   "metadata": {},
   "source": [
    "#### EX.7 According to a survey a university professor gets, on average, 7 emails per day. Let X = the number of emails a professor receives per day. The discrete random variable X takes on the values x = 0, 1, 2 …. The random variable X has a Poisson distribution: X ~ P(7). The mean is 7 emails. What is the probability that an email user receives atmost 2 emails per day?\n"
   ]
  },
  {
   "cell_type": "code",
   "execution_count": 5,
   "id": "d91a0f32",
   "metadata": {},
   "outputs": [
    {
     "data": {
      "text/plain": [
       "0.029636163880521763"
      ]
     },
     "execution_count": 5,
     "metadata": {},
     "output_type": "execute_result"
    }
   ],
   "source": [
    "poisson.cdf(2,7)"
   ]
  },
  {
   "cell_type": "markdown",
   "id": "bd511914",
   "metadata": {},
   "source": [
    "## <font color= \t#483D8B> 5. Uniform distribution </font>\n",
    "\n",
    "A probability distribution where each event has an equal chance of occuring. \n",
    "\n",
    "**Probability Density Function:**\n",
    "<br> \n",
    "<div style=\"border: 2px solid royalblue\">\n",
    "<br> $$f(x) = \\frac{1}{(b-a)}$$ <p style=\"text-align:right\">  (11) &nbsp;\n",
    "</div> \n",
    "\n",
    " \n",
    "for $a \\le x \\le b$, all values between a and b are equally likely.\n",
    "\n",
    "**Cumulative  Distribution Function:**\n",
    "<br> \n",
    "<div style=\"border: 2px solid royalblue\">\n",
    "<br> $$ f(x) = \\frac{(x-a)}{(b-a)}$$ <p style=\"text-align:right\">  (12) &nbsp;\n",
    "</div> \n",
    "\n",
    "\n",
    "\n",
    "with 0 for x<a and 1 for x>b\n",
    "\n",
    "**Mean:**\n",
    "<br> \n",
    "<div style=\"border: 2px solid royalblue\">\n",
    "<br> $$\\mu = \\frac {a+b}{2}$$ <p style=\"text-align:right\">  (13) &nbsp;\n",
    "</div> \n",
    "\n",
    "\n",
    "**Standard deviation:**\n",
    "<br> \n",
    "<div style=\"border: 2px solid royalblue\">\n",
    "<br> $$ \\sigma = \\sqrt\\frac{(b-a)^2}{12}$$ <p style=\"text-align:right\">  (14) &nbsp;\n",
    "</div> \n",
    "\n",
    "\n",
    "\n",
    "#### EX 8. The amount of time, in minutes, that a person must wait for a bus is uniformly distributed between zero and 15 minutes, inclusive.What is the probability that a person waits exactly 12.5 minutes?"
   ]
  },
  {
   "cell_type": "code",
   "execution_count": 1,
   "id": "733b2c30",
   "metadata": {},
   "outputs": [
    {
     "data": {
      "text/plain": [
       "0.06666666666666667"
      ]
     },
     "execution_count": 1,
     "metadata": {},
     "output_type": "execute_result"
    }
   ],
   "source": [
    "def uniform_pdf(x, a, b):\n",
    "    \n",
    "    '''\n",
    "    Probability mass function for Uniform distribution\n",
    "    :param a: lowest value of x\n",
    "    :param b: highest value of x\n",
    "    :returns: PMF computed at x\n",
    "   '''\n",
    "    if a <= x <= b:\n",
    "        return 1/(b-a)\n",
    "    else:\n",
    "        return 0\n",
    "uniform_pdf(12.5,0,15)"
   ]
  },
  {
   "cell_type": "markdown",
   "id": "9691d87b",
   "metadata": {},
   "source": [
    "#### EX 9. The amount of time, in minutes, that a person must wait for a bus is uniformly distributed between zero and 15 minutes, inclusive.What is the probability that a person waits fewer than 12.5 minutes?"
   ]
  },
  {
   "cell_type": "code",
   "execution_count": 2,
   "id": "7699a2f0",
   "metadata": {},
   "outputs": [
    {
     "data": {
      "text/plain": [
       "0.8333333333333334"
      ]
     },
     "execution_count": 2,
     "metadata": {},
     "output_type": "execute_result"
    }
   ],
   "source": [
    "def uniform_cdf(x, a, b):\n",
    "    \n",
    "    '''\n",
    "    Cumulative distribution function for Uniform distribution\n",
    "    :param a: lowest value of x\n",
    "    :param b: highest value of x\n",
    "    :returns: CDF computed at x\n",
    "   '''\n",
    "    if x < a:\n",
    "        return 0\n",
    "    elif a <= x <= b:\n",
    "        return (x-a) /(b-a)\n",
    "    elif x >= b:\n",
    "        return 1\n",
    "uniform_cdf(12.5,0,15)"
   ]
  },
  {
   "cell_type": "markdown",
   "id": "1860b31b",
   "metadata": {},
   "source": [
    "## <font color= \t#483D8B> 6. Exponential distribution </font>\n",
    "\n",
    "Probability distribution where lower values are more probable than higher ones.\n",
    "\n",
    "**Probability Density Function:**\n",
    "<br> \n",
    "<div style=\"border: 2px solid royalblue\">\n",
    "<br> $$ f(x) = me^{-mx}\n",
    "$$\n",
    "    \n",
    "    \n",
    "<center>OR</center>\n",
    "    \n",
    "$$\n",
    "f(x) = \\frac {1}{\\mu}e^{\\frac{-1}{\\mu}x}\n",
    "$$ <p style=\"text-align:right\">  (15) &nbsp;\n",
    "</div> \n",
    "\n",
    "\n",
    "**Cumulative Distribution function:**\n",
    "<br> \n",
    "<div style=\"border: 2px solid royalblue\">\n",
    "<br> $$\n",
    "f(x)= 1- e^{-mx}\n",
    "$$\n",
    "    \n",
    "<center>OR </center>\n",
    "    \n",
    "$$\n",
    "f(x) = 1- e^{\\frac{-1}{\\mu}x}\n",
    "$$ <p style=\"text-align:right\">  (16) &nbsp;\n",
    "</div> \n",
    "\n",
    "where m is the number of events per unit time (average rate) and $\\mu$ is average time.\n",
    "\n",
    "<br> \n",
    "<div style=\"border: 2px solid royalblue\">\n",
    "<br> $$\\mu = \\frac{1}{m}$$ <p style=\"text-align:right\">  (17) &nbsp;\n",
    "</div>"
   ]
  },
  {
   "cell_type": "markdown",
   "id": "8780330d",
   "metadata": {},
   "source": [
    "#### EX 10. On the average, a certain computer part lasts ten years. The length of time the computer part lasts is exponentially distributed. What is the probability that a computer part lasts 7 years?"
   ]
  },
  {
   "cell_type": "code",
   "execution_count": 5,
   "id": "d46f6411",
   "metadata": {},
   "outputs": [
    {
     "data": {
      "text/plain": [
       "0.04965853037914095"
      ]
     },
     "execution_count": 5,
     "metadata": {},
     "output_type": "execute_result"
    }
   ],
   "source": [
    "def expon_pdf(x, m):\n",
    "    \n",
    "    '''\n",
    "    Probability mass function for Exponential distribution\n",
    "    :param m: average rate\n",
    "    :returns: PMF computed at x\n",
    "   '''\n",
    "    return m * np.exp(-m * x)\n",
    "expon_pdf(7,0.1)"
   ]
  },
  {
   "cell_type": "markdown",
   "id": "d952f82e",
   "metadata": {},
   "source": [
    "#### EX 11. On the average, a certain computer part lasts ten years. The length of time the computer part lasts is exponentially distributed. What is the probability that a computer part lasts more than 7 years?"
   ]
  },
  {
   "cell_type": "code",
   "execution_count": 6,
   "id": "86383a6c",
   "metadata": {},
   "outputs": [
    {
     "data": {
      "text/plain": [
       "0.5034146962085906"
      ]
     },
     "execution_count": 6,
     "metadata": {},
     "output_type": "execute_result"
    }
   ],
   "source": [
    "def expon_cdf(x, m):\n",
    "    \n",
    "    '''\n",
    "    Cumulative density function for Exponential distribution\n",
    "    :param m: average rate\n",
    "    :returns: CDF computed at x\n",
    "   '''\n",
    "    return 1 - np.exp(-m * x)\n",
    "expon_cdf(7,0.1)"
   ]
  }
 ],
 "metadata": {
  "kernelspec": {
   "display_name": "Python 3 (ipykernel)",
   "language": "python",
   "name": "python3"
  },
  "language_info": {
   "codemirror_mode": {
    "name": "ipython",
    "version": 3
   },
   "file_extension": ".py",
   "mimetype": "text/x-python",
   "name": "python",
   "nbconvert_exporter": "python",
   "pygments_lexer": "ipython3",
   "version": "3.9.13"
  }
 },
 "nbformat": 4,
 "nbformat_minor": 5
}
