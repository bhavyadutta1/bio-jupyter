{
 "cells": [
  {
   "cell_type": "markdown",
   "id": "c2eef136",
   "metadata": {},
   "source": [
    "# <center> <font color=navy> BE_18- Data Analysis and Applied Statistics WS 22/23 </font> </center>\n",
    "## <center> <font color=\t#FF4500> Chapter 6: Hypothesis testing </font> </center>  \n"
   ]
  },
  {
   "cell_type": "code",
   "execution_count": 55,
   "id": "02e3cb61",
   "metadata": {},
   "outputs": [],
   "source": [
    "import numpy as np\n",
    "from scipy import stats\n",
    "import statsmodels\n",
    "from statsmodels import stats\n",
    "from statsmodels.stats.proportion import proportions_ztest\n",
    "from scipy.stats import truncnorm\n",
    "from statsmodels.stats.weightstats import ttest_ind"
   ]
  },
  {
   "cell_type": "markdown",
   "id": "5e9d8af5",
   "metadata": {},
   "source": [
    "## <font color= \t#483D8B> Hypothesis </font>\n",
    "---\n",
    "\n",
    "Theory about something.\n",
    "\n",
    "<font color=\t#FF4500>**Null Hypothesis ($H_0$):**</font> Conservatiove approach\n",
    "\n",
    "<font color=\t#FF4500>**Alternative Hypothesis ($H_A$):**</font> What is to be proven\n",
    "\n",
    "Types of errors:\n",
    "\n",
    "<font color=\t#FF4500>**Type I:**</font> Support HA but H0 is true.\n",
    "<font color=\t#FF4500>**Type II:**</font> Support H0 but HA is true.\n",
    "\n",
    "| Reality--> | H0 | HA |\n",
    "| --- | --- | --- |\n",
    "|H0 | OK | Type II |\n",
    "|HA | Type I | OK |\n",
    "\n",
    "\n",
    "<font color=\t#FF4500>**p-values:**</font> Percentage chance of getting observed result if H0 is true.\n",
    "\n",
    "<font color=\t#FF4500>**Significance alpha:**</font> Decided critical level. Standard 5% (0.05).\n",
    "\n",
    "If p-value < alpha, there is enough proof accept HA and reject H0.\n",
    "\n",
    "<font color=\t#FF4500>**Hypothesis test for the mean**</font>\n",
    "\n",
    "<br> \n",
    "<div style=\"border: 2px solid royalblue\">\n",
    "<br> $$ Z_c = \\frac{x-\\mu_0}{\\sigma / \\sqrt n} $$ <p style=\"text-align:right\">  (1) &nbsp;\n",
    "</div> \n",
    "\n",
    "\n",
    "Where $Z_c$ is (calculated Z score) the number of standard deviations the $\\mu_0$ (hypothesised value of the mean) is from sample mean (x).\n",
    "\n",
    "<font color=\t#FF4500>**Right tailed:**</font> $H_A$ includes >\n",
    "\n",
    "<br> \n",
    "<div style=\"border: 2px solid royalblue\">\n",
    "<br> $$ p-value= 1-qt$$ <p style=\"text-align:right\">  (2) &nbsp;\n",
    "</div> \n",
    "\n",
    "\n",
    "\n",
    "(where qt is the cumulative area to the left: qt(t,dof))\n",
    "\n",
    "<font color=\t#FF4500>**Left tailed:**</font> $H_A$ includes <\n",
    "\n",
    "<br> \n",
    "<div style=\"border: 2px solid royalblue\">\n",
    "<br> $$ p-value= qt $$ <p style=\"text-align:right\">  (3) &nbsp;\n",
    "</div> \n",
    "\n",
    "\n",
    "\n",
    "<font color=\t#FF4500>**Double tailed:**</font> $H_A$ includes != \n",
    "\n",
    "<br> \n",
    "<div style=\"border: 2px solid royalblue\">\n",
    "<br> $$ p-value= 2* (1-qt(\\frac{t}{2}, dof) $$ <p style=\"text-align:right\">  (4) &nbsp;\n",
    "</div> \n",
    "\n",
    "\n",
    "\n",
    "for double tailed, the p-value is split into both extremes of too high or too low and hence $\\frac{t}{2}$ is used. \n"
   ]
  },
  {
   "cell_type": "markdown",
   "id": "fddac9d7",
   "metadata": {},
   "source": [
    "## <font color= \t#483D8B> One sample t-test for means </font>\n",
    "---"
   ]
  },
  {
   "cell_type": "markdown",
   "id": "f390e260",
   "metadata": {},
   "source": [
    "**EX 1. Suppose that 10 volunteers have done an intelligence test. The mean obtained at the same test, from the entire population is 75. You want to check if there is a statistically significant difference (with a significance level of 95%) between the means of the sample and the population.**"
   ]
  },
  {
   "cell_type": "code",
   "execution_count": 1,
   "id": "9deacb41",
   "metadata": {
    "jupyter": {
     "source_hidden": true
    },
    "tags": []
   },
   "outputs": [
    {
     "name": "stdout",
     "output_type": "stream",
     "text": [
      "Test statistic is -0.783029\n",
      "p-value for one tailed test is 0.453721\n",
      "Conclusion n Sincep-value(=0.453721) > alpha(=0.05) We do not reject the null hypothesis H0.\n"
     ]
    }
   ],
   "source": [
    "ts=[65,78,88,55,48,95,66,57,79,81]\n",
    "\n",
    "\n",
    "mu=75\n",
    "\n",
    "t_value,p_value=stats.ttest_1samp(ts,mu) #1 sample t-test\n",
    "\n",
    "two_tailed_p_value=float(\"{:.6f}\".format(p_value)) \n",
    "\n",
    "print('Test statistic is %f'%float(\"{:.6f}\".format(t_value)))\n",
    "\n",
    "print('p-value for two tailed test is %f'%two_tailed_p_value)\n",
    "\n",
    "alpha = 0.05\n",
    "\n",
    "if two_tailed_p_value<=alpha:\n",
    "  print('Conclusion','n','Since p value(=%f)'%p_value,'<','alpha(=%.2f)'%alpha,'''We reject the null hypothesis H0. So we conclude that there is no significant mean difference between sample and population. i.e., μ = 75 at %.2f level of significance'''%alpha)\n",
    "\n",
    "else:\n",
    "  print('Conclusion','n','Sincep-value(=%f)'%two_tailed_p_value, '>', 'alpha(=%.2f)'%alpha,'We do not reject the null hypothesis H0.')"
   ]
  },
  {
   "cell_type": "markdown",
   "id": "06858ab2",
   "metadata": {},
   "source": [
    "## <font color= \t#483D8B> One sample z-test for propotions </font>\n",
    "---\n",
    "\n",
    "for population size >30"
   ]
  },
  {
   "cell_type": "markdown",
   "id": "e7c95d7c",
   "metadata": {},
   "source": [
    "**EX 2. We have a sample of 150 flowers and we want to test whether the\n",
    "proportion of small flowers is the same than the proportion of big\n",
    "flowers (measured by the variable size). 77 are big, 73 small**"
   ]
  },
  {
   "cell_type": "code",
   "execution_count": 50,
   "id": "c938420c",
   "metadata": {
    "jupyter": {
     "source_hidden": true
    },
    "tags": []
   },
   "outputs": [
    {
     "name": "stdout",
     "output_type": "stream",
     "text": [
      "Test statistic is 0.326715\n",
      "p-value for two tailed test is 0.743884\n",
      "Conclusion n Since p-value(=0.743884) > alpha(=0.05) We do not reject the null hypothesis H0.\n"
     ]
    }
   ],
   "source": [
    "count=77\n",
    "\n",
    "n= 150\n",
    "\n",
    "value= 0.5 #(null hypothesis propotion = 50%)\n",
    "\n",
    "z_value,p_value= statsmodels.stats.proportion.proportions_ztest(count,n,value, alternative= 'two-sided') #1 sample test for propotions\n",
    "\n",
    "two_tailed_p_value=float(\"{:.6f}\".format(p_value))\n",
    "\n",
    "print('Test statistic is %f'%float(\"{:.6f}\".format(z_value)))\n",
    "\n",
    "print('p-value for two tailed test is %f'%two_tailed_p_value)\n",
    "\n",
    "alpha = 0.05\n",
    "\n",
    "if two_tailed_p_value<=alpha:\n",
    "  print('Conclusion','n','Since p value(=%f)'%p_value,'<','alpha(=%.2f)'%alpha,'''We reject the null hypothesis H0. So we conclude that propotion of small flowers and big flowers is not the same at %.2f level of significance'''%alpha)\n",
    "\n",
    "else:\n",
    "  print('Conclusion','n','Since p-value(=%f)'%two_tailed_p_value, '>', 'alpha(=%.2f)'%alpha,'We do not reject the null hypothesis H0.')"
   ]
  },
  {
   "cell_type": "code",
   "execution_count": 53,
   "id": "ce002637",
   "metadata": {},
   "outputs": [
    {
     "data": {
      "text/plain": [
       "(0.32671481829876764, 0.743883591411392)"
      ]
     },
     "execution_count": 53,
     "metadata": {},
     "output_type": "execute_result"
    }
   ],
   "source": [
    "#Testing\n",
    "proportions_ztest(count=77, nobs=150, value=0.50, alternative = 'two-sided')"
   ]
  },
  {
   "cell_type": "markdown",
   "id": "1a7a7f55",
   "metadata": {},
   "source": [
    "## <font color= \t#483D8B>Two sample t-test for means </font>\n",
    "---"
   ]
  },
  {
   "cell_type": "markdown",
   "id": "71b268b4",
   "metadata": {},
   "source": [
    "**EX.3 Two samples are shown in Table 10.2. Both have normal distributions. The means for the two populations are thought to be the same. Is there a difference in the means? Test at the 5% level of significance.**\n",
    "\n",
    "| | Sample size | Sample mean | Sample standard deviation |\n",
    "| --- | --- | --- | --- |\n",
    "|Population A | 25 | 5 | 1 |\n",
    "|Population B | 16 | 4.7 | 1.2 |"
   ]
  },
  {
   "cell_type": "code",
   "execution_count": 52,
   "id": "6fa9d13d",
   "metadata": {
    "jupyter": {
     "source_hidden": true
    },
    "tags": []
   },
   "outputs": [
    {
     "name": "stdout",
     "output_type": "stream",
     "text": [
      "t_stat: 2.291, p_value: 0.027\n",
      "Reject the null hypothesis - suggest the alternative hypothesis is true\n"
     ]
    }
   ],
   "source": [
    "significance = 0.05\n",
    "\n",
    "\n",
    "min, max = (0, 14)\n",
    "sample_mean_v1, sample_dev_v1, sample_size_v1 = (5, 1, 25)\n",
    "sample_mean_v2, sample_dev_v2, sample_size_v2 = (4.7, 1.2, 16)\n",
    "\n",
    "sample_v1 = truncnorm(\n",
    "(min - sample_mean_v1) / sample_dev_v1,\n",
    "(max - sample_mean_v1) / sample_dev_v1,\n",
    "loc=sample_mean_v1,\n",
    "scale=sample_dev_v1).rvs(sample_size_v1)\n",
    "\n",
    "sample_v2 = truncnorm(\n",
    "(min - sample_mean_v2) / sample_dev_v2,\n",
    "(max - sample_mean_v2) / sample_dev_v2,\n",
    "loc=sample_mean_v2,\n",
    "scale=sample_dev_v2).rvs(sample_size_v2)\n",
    "\n",
    "\n",
    "(t_stat, p_value, degree_of_freedom) = ttest_ind(sample_v1, sample_v2, alternative='two-sided')\n",
    "\n",
    "\n",
    "print('t_stat: %0.3f, p_value: %0.3f' % (t_stat, p_value))\n",
    "\n",
    "if p_value > significance:\n",
    "    \n",
    "    print(\"We do not reject null hypothesis\")\n",
    "else:\n",
    "    \n",
    "    print(\"Reject the null hypothesis - suggest the alternative hypothesis is true\")"
   ]
  },
  {
   "cell_type": "code",
   "execution_count": null,
   "id": "bef150bf",
   "metadata": {},
   "outputs": [],
   "source": []
  }
 ],
 "metadata": {
  "kernelspec": {
   "display_name": "Python 3 (ipykernel)",
   "language": "python",
   "name": "python3"
  },
  "language_info": {
   "codemirror_mode": {
    "name": "ipython",
    "version": 3
   },
   "file_extension": ".py",
   "mimetype": "text/x-python",
   "name": "python",
   "nbconvert_exporter": "python",
   "pygments_lexer": "ipython3",
   "version": "3.9.13"
  }
 },
 "nbformat": 4,
 "nbformat_minor": 5
}
