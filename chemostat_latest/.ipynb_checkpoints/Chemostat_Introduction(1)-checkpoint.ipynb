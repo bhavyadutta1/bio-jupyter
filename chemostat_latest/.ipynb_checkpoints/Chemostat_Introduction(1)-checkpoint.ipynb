{
 "cells": [
  {
   "cell_type": "markdown",
   "id": "ffd4c722",
   "metadata": {},
   "source": [
    "# <center> <font color=8AAA79> Continuous culture </font> </center> \n",
    "\n",
    "##  <font color=E07A5F> Introduction </font>\n",
    "\n",
    "Continuous culture is a continuous stirred-tank reactor (CSTR) employed for the continuous production of microbial biomass, based on the continuous addition of sterilized nutrient medium and the elution of the culture fluid at the same steady flow rate in the bioreactor. It's a cultural process in which the cell population grows at a constant concentration and volume, meaning that cells' growth rate is maintained in the exponential phase: this process is defined as ' steady-state of growth'.\n",
    "\n",
    "Continuous cultures present various advantages:\n"
   ]
  },
  {
   "cell_type": "markdown",
   "id": "b5cadb7c",
   "metadata": {},
   "source": [
    "- Easy control over various environmental parameters (pH, population density, product concentration, etc.) \n",
    "- Long time maintenance of the exponential phase\n",
    "- Continuous product elution prevents the accumulation of toxic secondary metabolites\n",
    "- Constant working volume simplifies culture scale-up\n",
    "- Cost-effective, time and energy conservation on the industrial scale as the number of stages of the process are reduced (cleaning, sterilization, preparation of starter cultures, etc.)"
   ]
  },
  {
   "cell_type": "markdown",
   "id": "499917ba",
   "metadata": {},
   "source": [
    "As well as disadvantages:"
   ]
  },
  {
   "cell_type": "markdown",
   "id": "edc3a6ac",
   "metadata": {},
   "source": [
    "- high risk of contamination due to the absence of proper cleaning and sterilization steps\n",
    "- need of specific equipment\n",
    "- need of high technical skills to maintain the cells' steady-state"
   ]
  },
  {
   "cell_type": "markdown",
   "id": "1e77df78",
   "metadata": {},
   "source": [
    "A commonly used continuous culture method is the chemostat: a fermenter in which the cell density is kept constant by keeping the dilution rate and flow rate of nutrient medium constant. The sterile nutrient medium is added into the reservoir along with the microbial cells. Substrate is continuously added into the reservoir, and the by-products are continuously eluted allowing the  cells to grow at a constant rate (exponential phase) as there will be no nutrient depletion due to continuous nutrient supply into the reservoir.\n",
    "Growth rate is determined by the rate at which the new medium is fed into the reservoir, while dilution rate controls the substrate concentration \n",
    "This system depends on the fact that the concentration of essential nutrients within the culture vessel will control the growth rate of the cell."
   ]
  },
  {
   "cell_type": "markdown",
   "id": "c256605f",
   "metadata": {},
   "source": [
    "Chemostat depends upon two factors:"
   ]
  },
  {
   "cell_type": "markdown",
   "id": "3c21a0d4",
   "metadata": {},
   "source": [
    "1. Dilution rate: flow of the nutrient medium into the reservoir divided by the culture volume within the vessel. A change in dilution rate changes the cells' growth rate (both cell growth and cell density). \n",
    "\n",
    "2. Concentration of limiting nutrient: an essential nutrient or amino acid is added in limited quantity in the reactor. Limiting the concentration of this nutrient allows the determination of the nutrient medium’s flow rate into the reservoir and therefore the determination of the cells’ growth rate. "
   ]
  },
  {
   "cell_type": "markdown",
   "id": "8319523d",
   "metadata": {},
   "source": [
    "## <font color=E07A5F> Kinetic parameters </font>\n",
    "\n",
    "Cell growth can be described through 4 main parameters: the two kinetic parameters μmax and Ks, and the two stoichiometric parameters YX/s and Smin. The Monod model is the most common mathematical model that describes the relationship between growth rate and the concentration of a single growth-controlling substrate through the maximum specific growth rate (μmax), and the substrate affinity constant (Ks). This model shows that biomass grows in proportion to the substrate consumption, expressed by the following formula:"
   ]
  },
  {
   "cell_type": "markdown",
   "id": "54d207db",
   "metadata": {},
   "source": [
    "\\begin{equation}\n",
    "µ=\\frac{µmax*S}{Ks+S}\n",
    "\\end{equation}\n",
    "<div style=\"direction:rtl\"> (1) </div>"
   ]
  },
  {
   "cell_type": "markdown",
   "id": "7502d467",
   "metadata": {},
   "source": [
    "Which is analogous to the Michaelis-Menten expression for enzyme kinetics:"
   ]
  },
  {
   "cell_type": "markdown",
   "id": "8b5d6460",
   "metadata": {},
   "source": [
    "\\begin{equation}\n",
    "v0=\\frac{vmax*S}{Km+S}\n",
    "\\end{equation} \n",
    "<div style=\"direction:rtl\"> (2) </div>"
   ]
  },
  {
   "cell_type": "markdown",
   "id": "398077b3",
   "metadata": {},
   "source": [
    "As inflow equals outflow:"
   ]
  },
  {
   "cell_type": "markdown",
   "id": "2b53529a",
   "metadata": {},
   "source": [
    "\\begin{equation}\n",
    "V=constant\n",
    "\\end{equation}\n",
    "<div style=\"direction:rtl\"> (3) </div>"
   ]
  },
  {
   "cell_type": "markdown",
   "id": "237d8e98",
   "metadata": {},
   "source": [
    "At a steady-state, specific groth rate (µ) equals the dilution rate (D):"
   ]
  },
  {
   "cell_type": "markdown",
   "id": "2acb5a91",
   "metadata": {},
   "source": [
    "\\begin{equation}\n",
    "µ=D\n",
    "\\end{equation}\n",
    "<div style=\"direction:rtl\"> (4) </div>"
   ]
  },
  {
   "cell_type": "markdown",
   "id": "1807e2a2",
   "metadata": {},
   "source": [
    "Where dilution rate (D) is equal to flow rate (F) over volume (V):\n"
   ]
  },
  {
   "cell_type": "markdown",
   "id": "c02d4c84",
   "metadata": {},
   "source": [
    "\\begin{equation}\n",
    "D=\\frac{F}{V}\n",
    "\\end{equation}\n",
    "<div style=\"direction:rtl\"> (5) </div>"
   ]
  },
  {
   "cell_type": "markdown",
   "id": "0ec0da90",
   "metadata": {},
   "source": [
    "The maximum operating flow rate corresponds to the critical dilution rate (Dcrit):"
   ]
  },
  {
   "cell_type": "markdown",
   "id": "227be34c",
   "metadata": {},
   "source": [
    "\\begin{equation}\n",
    "Dcrit=\\frac{µmax*S}{Ks+S}\n",
    "\\end{equation}\n",
    "<div style=\"direction:rtl\"> (6) </div>"
   ]
  },
  {
   "cell_type": "code",
   "execution_count": 1,
   "id": "2bd7add6-62a7-405c-8da9-c60b46ff86da",
   "metadata": {
    "tags": []
   },
   "outputs": [
    {
     "data": {
      "text/html": [
       "\n",
       "        <iframe\n",
       "            width=\"400\"\n",
       "            height=\"300\"\n",
       "            src=\"https://www.youtube.com/embed/poUzTlCHRJQ\"\n",
       "            frameborder=\"0\"\n",
       "            allowfullscreen\n",
       "            \n",
       "        ></iframe>\n",
       "        "
      ],
      "text/plain": [
       "<IPython.lib.display.YouTubeVideo at 0x10784c5d0>"
      ]
     },
     "execution_count": 1,
     "metadata": {},
     "output_type": "execute_result"
    }
   ],
   "source": [
    "from IPython.display import YouTubeVideo\n",
    "# a talk about IPython at Sage Days at U. Washington, Seattle.\n",
    "# Video credit: William Stein.\n",
    "YouTubeVideo('poUzTlCHRJQ')"
   ]
  },
  {
   "cell_type": "code",
   "execution_count": 2,
   "id": "7c490133-f7ba-4ad3-ad54-74d830d17441",
   "metadata": {
    "tags": []
   },
   "outputs": [],
   "source": [
    "import matplotlib.pyplot as plt\n",
    "import matplotlib.patches as mpatches\n",
    "import numpy as np\n",
    "import math\n",
    "import ipywidgets\n",
    "%run IndFermSim_functions.ipynb\n"
   ]
  },
  {
   "cell_type": "code",
   "execution_count": 3,
   "id": "127a786d-b802-4fa2-9d7a-ccba0a236067",
   "metadata": {
    "tags": []
   },
   "outputs": [],
   "source": [
    "# K_s = 0.2\n",
    "# #Y_xs1 = 0.06\n",
    "# #mu_max1 = 0.3\n",
    "# #s_in1 = 12\n",
    "\n",
    "# Dcrit1 = mu_max1 * (s_in1 / (K_s + s_in1))\n",
    "# Dopt1 = mu_max1 * ( 1 - (math.sqrt( K_s / (K_s +s_in1))))\n",
    "# D1 = np.linspace(0, Dcrit1, 1000)   # in 1/h\n",
    "\n",
    "# s1 = K_s * (D1 / (mu_max1 - D1))\n",
    "# x1 = Y_xs1 * ( s_in1 - s1)\n",
    "# Dx1 = ( mu_max1 * (s1 / (K_s + s1))) * (Y_xs1 * ( s_in1 - s1))\n",
    "\n",
    "\n",
    "# print (\"D optimal :\",Dopt1)\n",
    "# print (\"Max Biomass Concentratin :\",max(x1))\n",
    "\n",
    "# print (\"\\n\")\n",
    "    \n",
    "# import numpy as np\n",
    "# import matplotlib.pyplot as plt\n",
    "# from ipywidgets import interact, FloatSlider\n",
    "# import math\n",
    "\n",
    "# K_s = 0.2\n",
    "# interact(plot_graph,Y_xs=FloatSlider(value=0.06, min=0, max=0.2, step=0.01, description='Y_xs'),\n",
    "#                     mu_max=FloatSlider(value=0.3, min=0.1, max=0.5, step=0.01, description='mu_max'),\n",
    "#                     s_in=FloatSlider(value=12, min=8, max=20, step=1, description='s_in'));"
   ]
  },
  {
   "cell_type": "code",
   "execution_count": 4,
   "id": "d77006a1-9614-400b-adf3-d21cc4f75ae7",
   "metadata": {
    "tags": []
   },
   "outputs": [
    {
     "name": "stdin",
     "output_type": "stream",
     "text": [
      "Enter the first desired Y_xs value:  0.06\n",
      "Enter the first desired mu_max value:  0.3\n",
      "Enter the first desired s_in value:  12\n"
     ]
    },
    {
     "name": "stdout",
     "output_type": "stream",
     "text": [
      "\n",
      "\n"
     ]
    },
    {
     "data": {
      "application/vnd.jupyter.widget-view+json": {
       "model_id": "46a285fd42d646baa78b4769fbfadd9b",
       "version_major": 2,
       "version_minor": 0
      },
      "text/plain": [
       "interactive(children=(FloatSlider(value=0.06, description='Y_xs', max=0.2, step=0.01), FloatSlider(value=0.3, …"
      ]
     },
     "metadata": {},
     "output_type": "display_data"
    },
    {
     "data": {
      "text/plain": [
       "<function __main__.plot_graph(Y_xs, mu_max, s_in)>"
      ]
     },
     "execution_count": 4,
     "metadata": {},
     "output_type": "execute_result"
    }
   ],
   "source": [
    "import plotly.graph_objects as go\n",
    "import numpy as np\n",
    "import math\n",
    "import ipywidgets\n",
    "from ipywidgets import interact, FloatSlider\n",
    "%run IndFermSim_functions.ipynb\n",
    "\n",
    "Y_xs1 = get_float_input(\"Enter the first desired Y_xs value: \")\n",
    "mu_max1 = get_float_input(\"Enter the first desired mu_max value: \")\n",
    "s_in1 = get_float_input(\"Enter the first desired s_in value: \")\n",
    "\n",
    "K_s = 0.2\n",
    "\n",
    "Dcrit1 = mu_max1 * (s_in1 / (K_s + s_in1))\n",
    "Dopt1 = mu_max1 * (1 - (math.sqrt(K_s / (K_s + s_in1))))\n",
    "D1 = np.linspace(0, Dcrit1, 1000)   # in 1/h\n",
    "\n",
    "s1 = K_s * (D1 / (mu_max1 - D1))\n",
    "x1 = Y_xs1 * (s_in1 - s1)\n",
    "Dx1 = (mu_max1 * (s1 / (K_s + s1))) * (Y_xs1 * (s_in1 - s1))\n",
    "\n",
    "print(\"\\n\")\n",
    "\n",
    "K_s = 0.2\n",
    "interact(\n",
    "    plot_graph,\n",
    "    Y_xs=FloatSlider(value=0.06, min=0, max=0.2, step=0.01, description='Y_xs'),\n",
    "    mu_max=FloatSlider(value=0.3, min=0.1, max=0.5, step=0.01, description='mu_max'),\n",
    "    s_in=FloatSlider(value=12, min=8, max=20, step=1, description='s_in')\n",
    ")\n"
   ]
  },
  {
   "cell_type": "code",
   "execution_count": 10,
   "id": "d281cebc-8b7e-4392-b85a-04ae6e759d68",
   "metadata": {
    "scrolled": true
   },
   "outputs": [
    {
     "name": "stdout",
     "output_type": "stream",
     "text": [
      "Dash app running on http://127.0.0.1:8090/\n"
     ]
    },
    {
     "data": {
      "application/javascript": [
       "window.open('http://127.0.0.1:8090/')"
      ],
      "text/plain": [
       "<IPython.core.display.Javascript object>"
      ]
     },
     "metadata": {},
     "output_type": "display_data"
    },
    {
     "name": "stdout",
     "output_type": "stream",
     "text": [
      "Click on the url\n"
     ]
    }
   ],
   "source": [
    "import dash\n",
    "from dash import dash_table\n",
    "import pandas as pd\n",
    "import dash_core_components as dcc\n",
    "from dash import html\n",
    "import plotly.express as px\n",
    "from dash.dependencies import Input, Output\n",
    "\n",
    "\n",
    "# Initialize the Dash app\n",
    "app = dash.Dash(__name__)\n",
    "\n",
    "# Create a sample DataFrame\n",
    "data = [\n",
    "    {\n",
    "        \"time\": i,\n",
    "        \"volume\": i*0,\n",
    "        \"od1\": i * 5,\n",
    "        \"od2\": i * 3,\n",
    "        \"od_mean\": i * 4,\n",
    "        \"tcc\": i * 2,\n",
    "        \"glucose\": i * 6,\n",
    "        \"empty_tube\": i * 7,\n",
    "        \"tube_speed\": i * 1,\n",
    "        \"remark\": i * 8,\n",
    "    }\n",
    "    for i in range(10)\n",
    "]\n",
    "df = pd.DataFrame(data)\n",
    "\n",
    "# Define the layout\n",
    "app.layout = html.Div([\n",
    "    dash_table.DataTable(\n",
    "        id='editable-table',\n",
    "        columns=[\n",
    "            {\"name\": [\"\", \"Time\"], \"id\": \"time\"},\n",
    "            {\"name\": [\"\", \"Sample + waste (volume)\"], \"id\": \"volume\"},\n",
    "            {\"name\": [\"OD\", \"OD1\"], \"id\": \"od1\"},\n",
    "            {\"name\": [\"OD\", \"OD2\"], \"id\": \"od2\"},\n",
    "            {\"name\": [\"OD\", \"OD3\"], \"id\": \"od3\"},\n",
    "            {\"name\": [\"OD\", \"OD mean\"], \"id\": \"od_mean\"},\n",
    "            {\"name\": [\"\", \"TCC\"], \"id\": \"tcc\"},\n",
    "            {\"name\": [\"\", \"Glucose\"], \"id\": \"glucose\"},\n",
    "            {\"name\": [\"Biomass measurement\", \"Empty tube weight\"], \"id\": \"empty_tube\"},\n",
    "            {\"name\": [\"Biomass measurement\", \"Tube after speed Vac.\"], \"id\": \"tube_speed\"},\n",
    "            {\"name\": [\"\", \"Remark\"], \"id\": \"remark\"},\n",
    "        ],\n",
    "        data=df.to_dict('records'),  # Use the DataFrame data as input to the table\n",
    "        merge_duplicate_headers=True,\n",
    "        editable=True,\n",
    "        export_format='xlsx',\n",
    "        style_cell={'textAlign': 'left'},\n",
    "    ),\n",
    "    dcc.Graph(id='graph')\n",
    "], style={'width': '100%', 'height': '100px'})  # Set width and height to control the app size\n",
    "\n",
    "# Define the callback to update the graph based on the data from the table\n",
    "@app.callback(\n",
    "    Output('graph', 'figure'),\n",
    "    Input('editable-table', 'data'),\n",
    ")\n",
    "def update_graph(data):\n",
    "    df = pd.DataFrame(data)\n",
    "\n",
    "    fig = px.scatter(df, x=\"time\", y=\"volume\",#trendline=\"lowess\",\n",
    "                     title=\"\")\n",
    "\n",
    "    fig.update_layout(\n",
    "        yaxis_title='Volume',\n",
    "        xaxis_title='Time',\n",
    "        width=1200,  # Set the width of the figure\n",
    "        height=800,  # Set the height of the figure\n",
    "    )\n",
    "\n",
    "    return fig\n",
    "\n",
    "# Run the app\n",
    "if __name__ == '__main__':\n",
    "    app.run_server(jupyter_mode=\"tab\", port = 8090, debug=False,)\n",
    "\n",
    "    print(\"Click on the url\")\n"
   ]
  },
  {
   "cell_type": "code",
   "execution_count": null,
   "id": "36cd92f1-063e-45f5-af55-2a40e3569ebf",
   "metadata": {},
   "outputs": [],
   "source": []
  }
 ],
 "metadata": {
  "kernelspec": {
   "display_name": "Python 3 (ipykernel)",
   "language": "python",
   "name": "python3"
  },
  "language_info": {
   "codemirror_mode": {
    "name": "ipython",
    "version": 3
   },
   "file_extension": ".py",
   "mimetype": "text/x-python",
   "name": "python",
   "nbconvert_exporter": "python",
   "pygments_lexer": "ipython3",
   "version": "3.11.4"
  }
 },
 "nbformat": 4,
 "nbformat_minor": 5
}
