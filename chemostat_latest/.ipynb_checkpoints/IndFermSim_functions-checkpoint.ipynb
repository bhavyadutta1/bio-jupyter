{
 "cells": [
  {
   "cell_type": "code",
   "execution_count": 1,
   "id": "2815d2fe-9f66-4452-ba54-b8746f813be3",
   "metadata": {},
   "outputs": [],
   "source": [
    "import matplotlib.pyplot as plt\n",
    "import matplotlib.patches as mpatches\n",
    "import numpy as np\n",
    "import math\n",
    "import ipywidgets\n",
    "\n"
   ]
  },
  {
   "cell_type": "code",
   "execution_count": 2,
   "id": "034544f7-f1de-4821-b8ec-c8eb17d3383e",
   "metadata": {
    "tags": []
   },
   "outputs": [],
   "source": [
    "def get_float_input(prompt):\n",
    "    while True:\n",
    "        try:\n",
    "            value = float(input(prompt))\n",
    "            return value\n",
    "        except ValueError:\n",
    "            print(\"Invalid input: please enter a numeric value.\")\n"
   ]
  },
  {
   "cell_type": "code",
   "execution_count": 3,
   "id": "a332bb56-b4a6-47eb-bbf7-d659a2b35d6d",
   "metadata": {
    "tags": []
   },
   "outputs": [],
   "source": [
    "def set_ylim(Y_xs1, Y_xs2, s_in1, s_in2, s1, s2):\n",
    "    if Y_xs1 > Y_xs2:\n",
    "        if s_in1 > s_in2:\n",
    "            plt.ylim([-0.05 ,Y_xs1 * ( s_in1 - s1[0]+ 3)])\n",
    "        else:\n",
    "             plt.ylim([-0.05 ,Y_xs1 * ( s_in2 - s2[0]+ 3)])   \n",
    "    else:\n",
    "        if s_in1 > s_in2:\n",
    "            plt.ylim([-0.05 ,Y_xs2 * ( s_in1 - s1[0]+ 3)])\n",
    "        else:\n",
    "             plt.ylim([-0.05 ,Y_xs2 * ( s_in2 - s2[0]+ 3)]) "
   ]
  },
  {
   "cell_type": "code",
   "execution_count": 4,
   "id": "b09531b2-1967-4369-b515-3a4d060ff359",
   "metadata": {
    "tags": []
   },
   "outputs": [],
   "source": []
  },
  {
   "cell_type": "code",
   "execution_count": 2,
   "id": "47d15d98",
   "metadata": {},
   "outputs": [],
   "source": [
    "def plot_graph(Y_xs, mu_max, s_in):\n",
    "    \n",
    "    Dcrit = mu_max * (s_in / (K_s + s_in))\n",
    "    Dopt = mu_max * (1 - (math.sqrt(K_s / (K_s + s_in))))\n",
    "    D = np.linspace(0, Dcrit, 1000)   # in 1/h\n",
    "    \n",
    "    s = K_s * (D / (mu_max - D))  \n",
    "    x = Y_xs * (s_in - s) \n",
    "    Dx = (mu_max * (s / (K_s + s))) * x  # Updated this line to use the new 'x'\n",
    "    \n",
    "    fig = go.Figure()\n",
    "    fig.add_trace(go.Scatter(x=D, y=s, name=\"Substrate Concentration 2\"))\n",
    "    fig.add_trace(go.Scatter(x=D, y=x, name=\"Biomass Concentration 2\"))\n",
    "    fig.add_trace(go.Scatter(x=D, y=Dx, name=\"Dx2\"))\n",
    "    fig.add_trace(go.Scatter(x=[Dcrit], y=[0.0], mode='markers', name='Dcrit', marker=dict(symbol='x')))\n",
    "    fig.add_trace(go.Scatter(x=[Dopt], y=[np.max(Dx)], mode='markers', name='Dopt', marker=dict(symbol='square'))) # types of markers - 'circle-dot', 'circle', 'circle-open'\n",
    "\n",
    "    fig.update_layout(\n",
    "        title=\"Continuous Process - Chemostat\",\n",
    "        xaxis_title=\"D [h⁻¹]\",\n",
    "        yaxis_title=\"s [gL⁻¹], x [gL⁻¹], Dx [gL⁻¹h⁻¹]\",\n",
    "        legend=dict(\n",
    "            x=0.5,\n",
    "            y=1.0,\n",
    "            bgcolor=\"rgba(255, 255, 255, 0.5)\",\n",
    "            bordercolor=\"rgba(0, 0, 0, 0.4)\"\n",
    "        ),\n",
    "        showlegend=True,\n",
    "        grid=dict(\n",
    "            rows=1,\n",
    "            columns=1,\n",
    "            pattern='independent',\n",
    "            roworder='top to bottom'\n",
    "        ),\n",
    "        height=600,  # Adjust the height of the graph\n",
    "        width=800,    # Adjust the width of the graph\n",
    "        \n",
    "    )\n",
    "    fig.update_xaxes(range=[0, 0.35],hoverformat = '.2f')\n",
    "    fig.update_yaxes(range=[0, 3],hoverformat = '.3f')\n",
    "\n",
    "    \n",
    "    fig.show()"
   ]
  },
  {
   "cell_type": "code",
   "execution_count": null,
   "id": "b0676671-3547-463b-8a97-3f83e57485aa",
   "metadata": {},
   "outputs": [],
   "source": []
  }
 ],
 "metadata": {
  "kernelspec": {
   "display_name": "Python 3 (ipykernel)",
   "language": "python",
   "name": "python3"
  },
  "language_info": {
   "codemirror_mode": {
    "name": "ipython",
    "version": 3
   },
   "file_extension": ".py",
   "mimetype": "text/x-python",
   "name": "python",
   "nbconvert_exporter": "python",
   "pygments_lexer": "ipython3",
   "version": "3.11.4"
  }
 },
 "nbformat": 4,
 "nbformat_minor": 5
}
