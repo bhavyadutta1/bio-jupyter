{
 "cells": [
  {
   "cell_type": "markdown",
   "id": "81485330",
   "metadata": {},
   "source": [
    "# III. Evaluation\n",
    "\n",
    "<font color=\"green\"> ***First of all the necessary libraries will be imported and the collected data will be written in Lists. Also, Data can be converted if needed.***\n",
    "\n",
    "#### Step 1: The data"
   ]
  },
  {
   "cell_type": "code",
   "execution_count": 1,
   "id": "e1d6d423",
   "metadata": {},
   "outputs": [],
   "source": [
    "# used libraries:\n",
    "from numpy import arange\n",
    "from scipy.optimize import curve_fit\n",
    "import matplotlib.pyplot as plt\n",
    "import math \n",
    "\n",
    "# Corresponding Data for each part of the experiment:\n",
    "# 2) Measurement of the focal length of the eye\n",
    "# Measured:\n",
    "N = 11.2 # in cm\n",
    "d01 = 10 # in cm\n",
    "a = 28 # in cm \n",
    "de = 2 # typical diameter of an eyeball in cm\n",
    "\n",
    "# 3) Measurement of the focal length of a converging lens with the Bessel method\n",
    "# Measured:\n",
    "s = [45.0, 49.0, 53.0, 57.0, 61.0, 65.0, 69.0] # distance s in cm\n",
    "ho=[2.1,2.1,2.1,2.1,2.1,2.1,2.1] # object hight\n",
    "do1=[30.0,34.5,39.5,43.5,48.,52.5,56.5] # object distances in cm (reduced image)\n",
    "di1=[15.0,14.5,13.5,13.5,13.0,12.5,12.5] # image distances in cm (reduced image)\n",
    "h1=[1.0,0.8,0.7,0.7,0.7,0.5,0.5] # reduced image hights\n",
    "do2=[15.0,14.0,13.5,13.0,13.0,12.5,12.0] # object distances in cm (magnified image)\n",
    "di2=[30.0,35.0,40.0,44.0,48.0,52.5,57.0] # image distances in cm (magnified image)\n",
    "h2=[4.5,6.1,7.9,7.9,8.5,9.8,11.0] # magnified image hights\n",
    "\n",
    "#Calculated:\n",
    "f = [10.0,10.1,9.9,10.2,10.2,10.1,10.1] # corresponding values f for s\n",
    "di01=[1/30.0,1/34.5,1/39.5,1/43.5,1/48.,1/52.5,1/56.5] # inverse image distances (reduced image)\n",
    "di02=[1/15.0,1/14.5,1/13.5,1/13.5,1/13.0,1/12.5,1/12.5] # inverse object distances (reduced image)\n",
    "di3=[1/15.0,1/14.0,1/13.0,1/13.0,1/13.0,1/12.5,1/12.0] # inverse image distances (magnified image)\n",
    "di4=[1/30.0,1/35.0,1/40.0,1/44.0,1/48.0,1/52.5,1/57.0] # inverse object distances (magnified image)\n",
    "D1=[1/30.0,1/34.5,1/39.5,1/43.5,1/48.,1/52.5,1/56.5,1/15.0,1/14.0,1/13.0,1/13.0,1/13.0,1/12.5,1/12.0] # inverse image distances (reduced + magnified)\n",
    "D2=[1/15.0,1/14.5,1/13.5,1/13.5,1/13.0,1/12.5,1/12.5,1/30.0,1/35.0,1/40.0,1/44.0,1/48.0,1/52.5,1/57.0] # inverse object distances (reduced + magnified)\n",
    "y1=[57/12.0,52.5/12.5,48/13.0,44/13.0,40/14.0,35/13,30/15.0,15/30.0,14.5/34.5,13.5/39.5,13.5/43.5,13/48.0,12.5/52.5,12.5/56.5] # image distances / object distances\n",
    "x1=[11.0/2.1,9.8/2.1,8.5/2.1,7.9/2.1,7.9/2.1,6.1/2.1,4.5/2.1,1.0/2.1,0.8/2.1,0.7/2.1,0.7/2.1,0.7/2.1,0.5/2.1,0.5/2.1] # image hights / object hight (reduced + magnified)\n",
    "\n",
    "#4) Setup of a microscope\n",
    "# Measured:\n",
    "D = 4 # diameter of the eyepiece in cm\n",
    "d = 20 # distance of the two lenses in cm\n",
    "l = 40 # bar length in cm"
   ]
  },
  {
   "cell_type": "markdown",
   "id": "b0d7dd56",
   "metadata": {},
   "source": [
    "<font color=\"green\"> ***Now it is possible to calculate and plot the data. It is unnecessary to write down the numbers again, using the variables is enough.***\n",
    "\n",
    "### 1) The magnifying glass\n",
    "<font color=\"green\"> *In the first part of the experiment no calculations or plots are needed.*\n",
    "\n",
    "### 2) Measurement of the focal length of the eye\n",
    "\n",
    "<font color=\"green\"> ***To make the calculations more understandable the used formulas are presented.*** \n",
    "#### Step 2: The calculations\n",
    "\n",
    "lens equation:\n",
    "$${1 \\over f} = {1 \\over d_O} + {1 \\over d_I}$$ \n",
    "\n",
    "$$ f = {1 \\over ({1 \\over d_O} + {1 \\over d_I})} $$\n",
    "\n",
    "\n",
    "    \n",
    "<font color=\"green\"> ***Using the formulas the focal length of the eye is calculated and the solution is shown.***"
   ]
  },
  {
   "cell_type": "code",
   "execution_count": 2,
   "id": "46c41899",
   "metadata": {},
   "outputs": [
    {
     "name": "stdout",
     "output_type": "stream",
     "text": [
      "f_eye = 1.7999999999999998\n"
     ]
    }
   ],
   "source": [
    "d02 = a-d01\n",
    "fe = 1/((1/d02)+(1/de))\n",
    "\n",
    "print ('f_eye =',fe )"
   ]
  },
  {
   "cell_type": "markdown",
   "id": "78384bd9",
   "metadata": {},
   "source": [
    "\n",
    "### 3) Measurement of the focal length of a converging lens with the Bessel method\n",
    "\n",
    "<font color=\"green\"> ***In this part of the evaluation of the experiment, two plots are needed. Both plots have an independent calculation for their regression lines even if in this case it is for both a simple polynomial with a slope \"a\", a constant \"b\" and no exponential. If needed functions with exponent, without constant, roots or similar things can be used.***\n",
    "    \n",
    "#### Step 2: the plots\n",
    "\n",
    "<font color=\"green\"> ***The first Graph is the plot for the lens equation, therefore a coordinate system with the inverse image distance on the horizontal axis and the inverse object distances on the vertical axis is created. Then all data points of the lens ( that means both the Data of the magnified and the reduced case) are plotted into the coordinate system and calculate one regression line through all data points.*** \n",
    "    \n",
    "##### Plot 1. lens equation"
   ]
  },
  {
   "cell_type": "code",
   "execution_count": 3,
   "id": "ebaff022",
   "metadata": {},
   "outputs": [
    {
     "name": "stdout",
     "output_type": "stream",
     "text": [
      "Regression line: -0.97054 * x + 0.09768\n"
     ]
    },
    {
     "data": {
      "image/png": "[encoded data removed]",
      "text/plain": [
       "<Figure size 432x288 with 1 Axes>"
      ]
     },
     "metadata": {
      "needs_background": "light"
     },
     "output_type": "display_data"
    }
   ],
   "source": [
    "# define the true objective function\n",
    "def objective(x, a, b):\n",
    "    return a * x + b\n",
    "\n",
    "# choose the variables for the x-achse (horizontal) ande the y-achse (vertical)\n",
    "x, y = D1, D2\n",
    "\n",
    "# fit the curve to get a regression line\n",
    "popt, p = curve_fit(objective, x, y)\n",
    "\n",
    "# summarize the parameter values  \n",
    "a, b = popt\n",
    "print('Regression line:'+' %.5f * x + %.5f' % (a, b))\n",
    "\n",
    "# define a sequence of inputs between the smallest and largest known inputs and define the step size\n",
    "x_line = arange(min(x), max(x), 0.001)\n",
    "\n",
    "# calculate the output for the range\n",
    "y_line = objective(x_line, a, b)\n",
    "\n",
    "# plot the graph with the regression line \n",
    "plt.scatter(x, y)\n",
    "plt.plot(x_line, y_line, '--', color='red') \n",
    "\n",
    "# label the graph\n",
    "plt.title('lens equation')\n",
    "plt.xlabel('inverse image distance in cm')\n",
    "plt.ylabel('inverse object distance in cm')\n",
    "plt.grid() \n",
    "plt.show()\n"
   ]
  },
  {
   "cell_type": "markdown",
   "id": "4cb95aad",
   "metadata": {},
   "source": [
    "\n",
    "<font color=\"green\"> ***The second graph is the plot of the Magnification therefore a coordinate system with ${|h_I| \\over h_O}$ on the horizontal axis and  ${d_I \\over d_O}$ on the vertical axis is created. Then again all data points of the lens are plotted and one regression line is calculated.***\n",
    "\n",
    "##### Plot 2. Magnification plot"
   ]
  },
  {
   "cell_type": "code",
   "execution_count": 4,
   "id": "dadb433c",
   "metadata": {},
   "outputs": [
    {
     "name": "stdout",
     "output_type": "stream",
     "text": [
      "Regression line: 0.88018 * x + 0.03424\n"
     ]
    },
    {
     "data": {
      "image/png": "[encoded data removed]",
      "text/plain": [
       "<Figure size 432x288 with 1 Axes>"
      ]
     },
     "metadata": {
      "needs_background": "light"
     },
     "output_type": "display_data"
    }
   ],
   "source": [
    "# define the true objective function\n",
    "def objective(x, a, b):\n",
    "    return a * x + b\n",
    "\n",
    "# choose the variables for the x-achse (horizontal) ande the y-achse (vertical)\n",
    "x, y = x1, y1\n",
    "\n",
    "# fit the curve to get a regression line\n",
    "popt, p = curve_fit(objective, x, y)\n",
    "\n",
    "# summarize the parameter values  \n",
    "a, b = popt\n",
    "print('Regression line:'+' %.5f * x + %.5f' % (a, b))\n",
    "\n",
    "# define a sequence of inputs between the smallest and largest known inputs and define the step size\n",
    "x_line = arange(min(x), max(x), 0.001)\n",
    "\n",
    "# calculate the output for the range\n",
    "y_line = objective(x_line, a, b)\n",
    "\n",
    "# plot the graph with the regression line \n",
    "plt.scatter(x, y)\n",
    "plt.plot(x_line, y_line, '--', color='red') \n",
    "\n",
    "# label the graph\n",
    "plt.title('lens equation')\n",
    "plt.xlabel('inverse image distance in cm')\n",
    "plt.ylabel('inverse object distance in cm')\n",
    "plt.grid() \n",
    "plt.show()\n"
   ]
  },
  {
   "cell_type": "markdown",
   "id": "21274910",
   "metadata": {},
   "source": [
    "### 4) Setup of a microscope\n",
    "\n",
    "<font color=\"green\"> ***Before the real calculation with the Jupyter Notebook, the necessary formulas are written down, to show what will be calculated later.***\n",
    "\n",
    "#### Step 2: the calculation\n",
    "Formula:\n",
    "$$ Mmicr ≈ {d·N \\over f_1·f_2} $$\n",
    "\n",
    "Since the eyepiece and objective lens have opposite focal lengths, we can set $f_1 = -f_2$, where the negative sign indicates that the focal length is on the opposite side of the lens from the object being observed.  \n",
    "$$ Mmicr ≈  {d · N  \\over -f_2^2}$$\n"
   ]
  },
  {
   "cell_type": "markdown",
   "id": "0142ed0a",
   "metadata": {},
   "source": [
    "<font color=\"green\"> ***Now the variables are plugged into the formulas and the solution is presented.***"
   ]
  },
  {
   "cell_type": "code",
   "execution_count": 5,
   "id": "8a32e2a9",
   "metadata": {},
   "outputs": [
    {
     "name": "stdout",
     "output_type": "stream",
     "text": [
      "M_measured = 10.0\n",
      "M_calculated =  69.13580246913581\n"
     ]
    }
   ],
   "source": [
    "Mmeasured = l/D\n",
    "Mcalculated = (d*N)/(-fe)**2\n",
    "print('M_measured =', Mmeasured)\n",
    "print ('M_calculated = ', Mcalculated)"
   ]
  },
  {
   "cell_type": "markdown",
   "id": "b1f312b8",
   "metadata": {},
   "source": [
    "### 5) Setup of a Keplerian and a Galilean\n",
    "<font color=\"green\"> *In this part of the experiment no calculations or plots are needed.*\n"
   ]
  },
  {
   "cell_type": "code",
   "execution_count": null,
   "id": "bb1ecb51",
   "metadata": {},
   "outputs": [],
   "source": []
  }
 ],
 "metadata": {
  "kernelspec": {
   "display_name": "Python 3 (ipykernel)",
   "language": "python",
   "name": "python3"
  },
  "language_info": {
   "codemirror_mode": {
    "name": "ipython",
    "version": 3
   },
   "file_extension": ".py",
   "mimetype": "text/x-python",
   "name": "python",
   "nbconvert_exporter": "python",
   "pygments_lexer": "ipython3",
   "version": "3.9.12"
  }
 },
 "nbformat": 4,
 "nbformat_minor": 5
}
