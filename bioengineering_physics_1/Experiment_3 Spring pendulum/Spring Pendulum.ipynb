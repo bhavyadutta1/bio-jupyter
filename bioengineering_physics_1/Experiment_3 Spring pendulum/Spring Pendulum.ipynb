{
 "cells": [
  {
   "cell_type": "markdown",
   "id": "defccdda",
   "metadata": {},
   "source": [
    "# <font color=\"darkblue\"> **Experiment Spring Pendulum**"
   ]
  },
  {
   "cell_type": "markdown",
   "id": "c7106e6f",
   "metadata": {},
   "source": [
    "## <font color=\"royalblue\"> Tasks\n",
    "    \n",
    " <br><font color=\"deepskyblue\"> 1) Record the spring characteristic.\n",
    "<br> <font color=\"deepskyblue\"> 2) Determine the spring constant of a parallel and a serial connection.\n",
    "   <br> <font color=\"deepskyblue\"> 3) Determine the spring constant by measuring the oscillation time.\n"
   ]
  },
  {
   "cell_type": "markdown",
   "id": "c54749df",
   "metadata": {},
   "source": [
    "## <font color=\"royalblue\"> 1 Theory\n",
    "### <font color=\"royalblue\"> 1.1 Hooke’s Law\n",
    "\n",
    "Pulling with a force F on a spring elongates the spring by an elongation ∆l. The elongation ∆l is proportional\n",
    "to the applied force F. This relation is expressed by Hooke’s law:   \n",
    "    \n",
    "<p style=\"text-align:center\"> $$ F=k∆l. $$ <p style=\"text-align:right\"> (1) </p>"
   ]
  },
  {
   "cell_type": "markdown",
   "id": "6f8957e6",
   "metadata": {},
   "source": [
    "The constant of proportionality k is the spring constant, that can be determined by measuring the elongations\n",
    "for given forces. The linear behaviour of the spring described by Hooke’s law is only valid in certain limits,\n",
    "if the spring is for example overstretched the relation between force and elongation is no longer linear.\n",
    "Several springs with spring constants k1, k2, . . . , kn can be combined in two elementary ways (see figure\n",
    "1). On the one hand side it is possible to combine the springs in a parallel connection. Then the force F\n",
    "that pulls on all springs is distributed on the single springs and the elongation ∆l of the springs is the same\n",
    "for all springs, i.e\n",
    "\n",
    "<p style=\"text-align:center\"> $$F = F_1 + F_2 + · · · + F_n$$ <p style=\"text-align:right\"> (2) </p>\n",
    "<p style=\"text-align:center\"> $$k_{tot}∆l = k_1∆l + k_2∆l + · · · + k_n∆l. $$ <p style=\"text-align:right\"> (3) </p>\n",
    "\n"
   ]
  },
  {
   "attachments": {
    "Screenshot%202022-12-30%20063426.png": {
     "image/png": "[encoded data removed]"
    }
   },
   "cell_type": "markdown",
   "id": "54681653",
   "metadata": {},
   "source": [
    "![Screenshot%202022-12-30%20063426.png](attachment:Screenshot%202022-12-30%20063426.png)\n",
    "<p style=\"text-align:center\">  <font color=\"blue\"> Figure 1: Parallel and serial connection of springs. <p>\n",
    " "
   ]
  },
  {
   "cell_type": "markdown",
   "id": "4933a063",
   "metadata": {},
   "source": [
    "\n",
    "<br> <br>\n",
    "<div style=\"border: 2px solid royalblue\">\n",
    "<br> <p style=\"text-align:center\"> $$k_{tot} = k_1 + k_2 + · · · + k_n(paralle-   connection).$$   <p style=\"text-align:right\"> (4) <br> </p> </div>\n",
    "<br>\n",
    "\n",
    "\n"
   ]
  },
  {
   "cell_type": "markdown",
   "id": "2024b179",
   "metadata": {},
   "source": [
    "The second elementary way to combine springs is a serial connection. The elongation of the serial\n",
    "connection is now the sum of the single elongations, while the force F pulling at the serial connection is\n",
    "pulling at each single spring (neglecting the weight of the single springs):\n",
    "\n",
    "<p style=\"text-align:center\"> $$∆l_{tot}=∆l_1 + ∆l_2 + · · · + ∆l_n$$ <p style=\"text-align:right\"> (5) </p>\n",
    "\n",
    "<p style=\"text-align:center\"> $$\\frac{F}{k_{tot}}=\\frac{F}{k_1} + \\frac{F}{k_2} +...+\\frac{F}{k_n}$$ <p style=\"text-align:right\"> (6) </p>\n",
    "\n",
    "\n"
   ]
  },
  {
   "cell_type": "markdown",
   "id": "d889f028",
   "metadata": {},
   "source": [
    "Then follows with (6) for the spring constant of a serial connection:\n",
    "\n",
    "<p style=\"text-align:center\"> $$\\frac{1}{k_{tot}}=\\frac{1}{k_1}+\\frac{1}{k_2}+...+\\frac{1}{k_n} (serial-connection).$$  <p style=\"text-align:right\">  (7)</p>"
   ]
  },
  {
   "cell_type": "markdown",
   "id": "4ae0947f",
   "metadata": {},
   "source": [
    "### <font color=\"royalblue\"> 1.2 Linear oscillations\n",
    "\n",
    "If a mass m is attached to a spring with spring constant k, the spring is elongated by the weight force\n",
    "$F_G = mg$. The elongation is calcualted with (1) as $∆l = \\frac{mg}{k}$ and the corresponding position of the mass is\n",
    "the equilibrium position of the spring-mass system. This position is chosen as the zero position of the y-axis\n",
    "(see figure 2)."
   ]
  },
  {
   "cell_type": "markdown",
   "id": "707e4875",
   "metadata": {},
   "source": [
    "Deflecting the mass in y-direction and releasing it, leads to an oscillation of the mass around its equilibrium position. In order to calculate the oscillation time of this oscillation, one considers the forces acting on\n",
    "the mass. Since it is a one-dimensional system, it suffices to consider the y-components of the force vectors.\n",
    "In the equilibrium position $y = 0$ the weight force pointing downwards and of the spring force pointing\n",
    "upwards, just compensate, i.e. there is no resulting force in this position: $F_s +F_G = 0$. Lifting the mass on a\n",
    "position $y > 0$ reduces the tension of the spring and the spring force is reduced by $k_y$. As a consequence the\n",
    "weight force is no longer compensated completely, so that there is a resulting force $F_s + F_G = −k_y$ pointing\n",
    "downwards. Pulling the mass downwards on a negative position $y < 0$ leads on the other hand side to an\n",
    "increase of the spring force by $−k_y$ (negative sign, because$ y < 0$, but force pointing upwards). Again weight\n",
    "force and spring force are not completely compensated and one has a resulting force $F_s +F_G = −k_y$ pointing\n",
    "upwards (see figure 2). So in all three cases $y = 0$,$ y > 0$ and $y < 0$ the mass in position y is affected by a\n",
    "force\n",
    "<p style=\"text-align:center\"> $$F_s + F_G = −k_y.$$  <p style=\"text-align:right\">  (8)</p>\n"
   ]
  },
  {
   "cell_type": "markdown",
   "id": "2226579c",
   "metadata": {},
   "source": [
    "This force is according to Newton’s second law equal to the inertial force ma, where a is the acceleration of\n",
    "the mass in y-direction, i.e. $a(t) =\\ddot{y}(t) =\\frac{d^2}{dt^2} y(t)$. Equating the force acting on the mass and the inertial\n",
    "force leads to the following differential equation\n",
    "<p style=\"text-align:center\"> $$−ky = ma$$   <p style=\"text-align:right\">  (9)</p>\n",
    "\n",
    "\n",
    "$$⇔$$\n",
    "\n",
    "<p style=\"text-align:center\"> $$\\frac{d^2y}{dt^2}+\\frac{k}{m}y = 0.$$   <p style=\"text-align:right\">  (10)</p>\n",
    "\n"
   ]
  },
  {
   "cell_type": "markdown",
   "id": "20d5b4c6",
   "metadata": {},
   "source": [
    "This differential equation is solved by the ansatz\n",
    "\n",
    "<br> <br>\n",
    "<div style=\"border: 2px solid royalblue\">\n",
    "<br> <p style=\"text-align:center\"> $$y(t) = A cos(ω_0t) + B sin(ω_0t) $$   <p style=\"text-align:right\"> (11) <br> </p> </div>\n",
    "<br>\n",
    "\n"
   ]
  },
  {
   "attachments": {
    "Screenshot%202022-12-30%20070330.png": {
     "image/png": "[encoded data removed]"
    }
   },
   "cell_type": "markdown",
   "id": "556b716a",
   "metadata": {},
   "source": [
    "![Screenshot%202022-12-30%20070330.png](attachment:Screenshot%202022-12-30%20070330.png)\n",
    "<p style=\"text-align:center\">  <font color=\"blue\"> Figure 2 : Forces acting on the mass during an oscillation.. <p>\n",
    " "
   ]
  },
  {
   "cell_type": "markdown",
   "id": "6aa81d01",
   "metadata": {},
   "source": [
    "where A and B are parameters. Inserting the ansatz in the differential equation gives, $ -ω_0^2y(t) + \\frac{k}{m}y(t) = 0 $ \n",
    "\n",
    "so that one obtains for the angular frequency $ω0 =\\sqrt{\\frac{k}{m}}$ and for the oscillation time $T_0 =\\frac{2π}{ω_0}$ follows:\n"
   ]
  },
  {
   "cell_type": "markdown",
   "id": "8109b3f3",
   "metadata": {},
   "source": [
    "<br> <br>\n",
    "<div style=\"border: 2px solid royalblue\">\n",
    "<br> <p style=\"text-align:center\"> $$T_0 = 2π{\\sqrt\\frac{m}{k}} $$ <p style=\"text-align:right\"> (12) <br> </p>\n",
    " </div>\n",
    "<br>\n",
    "\n",
    "\n",
    "\n"
   ]
  },
  {
   "cell_type": "markdown",
   "id": "f3d241c8",
   "metadata": {},
   "source": [
    "The two parameters A and B in (11) can be calculated using the initial conditions. In the case where\n",
    "the mass is first lifted to an initial position $y_0$ and then released, the initial conditions are given by\n",
    "\n",
    "<p style=\"text-align:center\"> $y(t = 0) = y_0 $        and           $\\dot{y}(t = 0) = 0.$ <p style=\"text-align:right\">  (13) </p>\n"
   ]
  },
  {
   "cell_type": "markdown",
   "id": "6ed2d486",
   "metadata": {},
   "source": [
    "Inserting (11) in the two initial conditions leads to two equations that allow to determine the parameters as\n",
    "$A = y_0$ and $B = 0$, so that the oscillation is in this case described by"
   ]
  },
  {
   "cell_type": "markdown",
   "id": "d52969d2",
   "metadata": {},
   "source": [
    "<p style=\"text-align:center\"> $$y(t) = y_0 cos(ω_0t). $$  <p style=\"text-align:right\">  (14) </p>\n",
    "\n",
    "\n"
   ]
  },
  {
   "cell_type": "markdown",
   "id": "7de1fec5",
   "metadata": {},
   "source": [
    "In the above calculation the mass of the spring itself was neglected, because the mass of the spring is\n",
    "usually much smaller than the mass attached to the spring. If the attached mass and the mass of the spring\n",
    "are of comparable size, the mass of the spring $m_s$ can also contribute to the resulting oscillation time.\n",
    "The non-neglectable mass of the spring is taken into account by considering the movement of the spring\n",
    "during the oscillation. But the single sections of the spring move in different ways: The upper section of the\n",
    "spring, that is directly at the suspension of the spring does not move at all, while the lowest section of the\n",
    "spring is moving just as the attached mass up and down. For this reason a spring of length $l$ and mass $m_s$\n",
    "is divided into infinitesimal sections of mass $dm_s$. Such a section with distance s to the suspension has a\n",
    "velocity\n",
    "\n",
    "\n",
    "<p style=\"text-align:center\"> $$v_s(t) = \\frac{s}{l}\\dot{y}(t), $$<p style=\"text-align:right\">  (15) </p>\n",
    "\n",
    "<p style=\"text-align:center\"> $$dm_s = \\frac{m_s}{l}d_s,  $$ <p style=\"text-align:right\">  (16) </p>\n",
    "\n"
   ]
  },
  {
   "cell_type": "markdown",
   "id": "08fc25aa",
   "metadata": {},
   "source": [
    "where ds is the length of a spring section. The kinetic energy of the spring section can then be calculated\n",
    "with (15) and (16) as\n",
    "\n",
    "<p style=\"text-align:center\"> $$ dE_kin,s = \\frac{1}{2}dm_sv_s^2 = \\frac{1}{2}m_s\\dot{y}^2 \\frac{1}{l^3}s^2 d_s  $$ <p style=\"text-align:right\">  (17) </p>\n",
    "\n",
    "\n",
    "\n"
   ]
  },
  {
   "cell_type": "markdown",
   "id": "3c2c9023",
   "metadata": {},
   "source": [
    "and the total kinetic energy of the spring is obtained by integrating over the length of the spring:\n",
    "\n",
    "<p style=\"text-align:center\"> $$E_kin,s=\\frac{1}{2}m_s\\dot{y}\\frac{1}{l^3}\\int_{0}^ {l} s^2,ds = \\frac{1}{2}\\frac{m_s}{3}\\dot{y}^2 $$ <p style=\"text-align:right\">  (18) </p>\n",
    "\n",
    "\n"
   ]
  },
  {
   "cell_type": "markdown",
   "id": "36549bd8",
   "metadata": {},
   "source": [
    "The total energy of the spring pendulum is the sum of the kinetic energy of the spring $E_kin,s$, the kinetic\n",
    "energy of the mass $E_kin,m =\\frac{1}{2}m\\dot{y}2$ and its potential energy, that is given by\n",
    "\n",
    "<p style=\"text-align:center\"> $$E_{pot},m = - \\int_{0}^{y}F( y^{\\prime}, d y^{\\prime}) = -\\int_{0}^{y}(-ky^{\\prime}) ,dy^{\\prime}= \\frac{1}{2}ky^2$$ <p style=\"text-align:right\">  (19) </p>\n"
   ]
  },
  {
   "cell_type": "markdown",
   "id": "de6c3d19",
   "metadata": {},
   "source": [
    "where (8) was used for the force. The total energy of the spring pendulum is then\n",
    "\n",
    "<p style=\"text-align:center\"> $$E_{tot} = E_{kin},m + E_{kin},s + E_{pot},m= \\frac{1}{2}(m+\\frac{m_s}{3})\\dot{y}^2 + \\frac{1}{2}ky^2$$ <p style=\"text-align:right\">  (20) </p>\n"
   ]
  },
  {
   "cell_type": "markdown",
   "id": "4562c51b",
   "metadata": {},
   "source": [
    "Conservation of energy means\n",
    "\n",
    "<p style=\"text-align:center\"> $$0 =\\frac{d}{dt}E_{tot} = \\frac{1}{2}(m+\\frac{m}{3})2\\dot{y} \\ddot{y}+ \\frac{1}{2}K2y\\dot{y}$$ <p style=\"text-align:right\">  (21) </p>\n",
    "\n"
   ]
  },
  {
   "cell_type": "markdown",
   "id": "03cf3629",
   "metadata": {},
   "source": [
    "which leads to the following differential equation\n",
    "\n",
    "<p style=\"text-align:center\"> $$\\frac{d^2y}{dt^2}+\\frac{k}{m+\\frac{m}{3}}y=0$$ <p style=\"text-align:right\">  (22) </p>\n",
    "\n"
   ]
  },
  {
   "cell_type": "markdown",
   "id": "aeb78c99",
   "metadata": {},
   "source": [
    "Comparing this result with (10) shows that m was substituted by $m +\\frac{m_s}{3}$\n",
    ". The solution of the differential\n",
    "equation leads then in analogy to the calculation done before to the following oscillation time"
   ]
  },
  {
   "cell_type": "markdown",
   "id": "f704db2c",
   "metadata": {},
   "source": [
    "<br> <br>\n",
    "<div style=\"border: 2px solid royalblue\">\n",
    "<br> <p style=\"text-align:center\"> $$T=2\\pi\\sqrt{\\frac{m+\\frac{m}{3}}{k}}. form = 1, 2, 3, . . . $$<p style=\"text-align:right\"> (23) <br> </p>\n",
    " </div>\n",
    "<br>\n",
    "\n"
   ]
  },
  {
   "cell_type": "markdown",
   "id": "63b7e63c",
   "metadata": {},
   "source": [
    "## <font color=\"royalblue\"> 2  Measurement Procedure\n",
    "### <font color=\"royalblue\"> 1) Determination of the spring constant \n",
    "\n",
    "\n",
    "* Hang the first spring to the hook and position the upper index at the height of the lower end of the\n",
    "spring. Measure the height of the lower end of the spring.\n",
    "* Put four 10 g weights on the weight holder and attach it to the first spring. Measure then the height\n",
    "of the lower end of the spring. Increase the the mass in steps of 50 g and measure the corresponding\n",
    "heights.\n",
    "* Repeat these measurements with the other springs."
   ]
  },
  {
   "cell_type": "markdown",
   "id": "e6984ef8",
   "metadata": {},
   "source": [
    "## <font color=\"darkblue\"> I. Evaluation\n",
    "\n",
    "* Calculate for all masses the corresponding weight force and elongation $∆l$.\n",
    "* Create a coordinate system with the elongation on the horizontal axis and the weight force on the\n",
    "vertical axis. Plot the data points including the measurement uncertainties as error bars into the\n",
    "coordinate system. Use for the data points of the different springs different symbols and different\n",
    "colors.\n",
    "* Use MATLAB to calculate for the data points of each spring a regression line. Plot the three regression\n",
    "lines into the coordinate system with the data points.\n"
   ]
  },
  {
   "cell_type": "markdown",
   "id": "f4568d4c",
   "metadata": {},
   "source": [
    "#### Answer the following question:\n",
    "* What are the spring constants of the different springs (including their measurement uncertainties)?\n"
   ]
  },
  {
   "cell_type": "markdown",
   "id": "fa88ee0f",
   "metadata": {},
   "source": [
    "### <font color=\"royalblue\"> 2) Determination of the spring constant for a serial and a parallel connection\n",
    "\n",
    "* Choose two springs out of the three springs you measured in 1). Hang the two springs in a serial\n",
    "connection to the hook and do the same measurement as in 1) now for the serial connection of the\n",
    "springs.\n",
    "* Now choose one of the three springs measured in 1) and hang two of these springs in a parallel\n",
    "connection to the hook and do the same measurement as in 1) now for the parallel connection of the\n",
    "springs."
   ]
  },
  {
   "cell_type": "markdown",
   "id": "6a9a201f",
   "metadata": {},
   "source": [
    "## <font color=\"darkblue\"> II. Evaluation\n",
    "* Repeat the evaluation of 1) for the serial and parallel connections."
   ]
  },
  {
   "cell_type": "markdown",
   "id": "a5b853de",
   "metadata": {},
   "source": [
    "#### Answer the following question:\n",
    "* Do the measured spring constants of the serial and the parallel connection agree with the values one\n",
    "obtains using (4) and (7) with the values of the spring constants measured in 1)?"
   ]
  },
  {
   "cell_type": "markdown",
   "id": "4b144370",
   "metadata": {},
   "source": [
    "### <font color=\"royalblue\"> 3) Measurement of the oscillation time for different amplitudes\n",
    "\n",
    "*  Choose the weakest of the three springs you measured in 1) and attach 200 g to the spring.\n",
    "* Set the lower index to the lower end of the mass in the equilibrium position and position the upper\n",
    "index 2 cm above the lower index. Lift the mass then by 2 cm up to the upper index, release it and\n",
    "measure the time of ten oscillations.\n",
    "* Position then the upper index 4 cm above the lower index, lift then the weight by 4 cm up to the upper\n",
    "index and release it. Measure again ten oscillations.\n",
    "* Repeat this measurement for 6 cm up to 12 cm in steps of 2 cm.\n"
   ]
  },
  {
   "cell_type": "markdown",
   "id": "70c8c40d",
   "metadata": {},
   "source": [
    "## <font color=\"darkblue\"> III. Evaluation\n",
    "* Calculate for each triple of measurements the mean and the measurement uncertainty of the oscillation\n",
    "time.\n",
    "* Create a coordinate system with the amplitude on the horizontal axis and the oscillation time on\n",
    "the vertical axis. Plot the data points with their measurement uncertainties as error bars into the\n",
    "coordinate system.\n",
    "* Use MATLAB to calculate for the data points of each spring a regression line.\n",
    "\n"
   ]
  },
  {
   "cell_type": "markdown",
   "id": "d9d624dc",
   "metadata": {},
   "source": [
    "#### Answer the following question:\n",
    "* Does the oscillation time depend on the amplitude?\n"
   ]
  },
  {
   "cell_type": "markdown",
   "id": "a7e39d83",
   "metadata": {},
   "source": [
    "### <font color=\"royalblue\"> 4) Determination of the spring constant using the oscillation time\n",
    "\n",
    "*  Hang the first spring you measured in 1) to the hook. Put four 10 g weights and on the weight holder\n",
    "and attach the weight holder to the spring.\n",
    "* Measure three times the oscillation time of ten oscillations.\n",
    "* ✷ Increase the mass in steps of 50 g and measure for each weight three times the time of ten oscillations.\n",
    "* Repeat the measurement for the two other springs."
   ]
  },
  {
   "cell_type": "markdown",
   "id": "29ae9292",
   "metadata": {},
   "source": [
    "## <font color=\"darkblue\"> IV. Evaluation\n",
    "* Calculate for each triple of measurements the mean and the measurement uncertainty of the oscillation\n",
    "time.\n",
    "* Create a coordinate system with the square root of the mass on the horizontal axis and the oscillation\n",
    "time on the vertical axis. Plot the data points with their measurement uncertainties as error bars into\n",
    "the coordinate system. Use for the data points of the different springs different symbols and different\n",
    "colors.\n",
    "* Use MATLAB to calculate for the data points of each spring a regression line. Plot the three regression\n",
    "lines into the coordinate system with the data points.\n"
   ]
  },
  {
   "cell_type": "markdown",
   "id": "21f9f3b0",
   "metadata": {},
   "source": [
    "#### Answer the following question:\n",
    "* What are the spring constants you obtain now? Compare them with the spring constants measured in\n",
    "1) and explain any differences.\n"
   ]
  },
  {
   "cell_type": "markdown",
   "id": "c99c43c6",
   "metadata": {},
   "source": [
    "### <font color=\"royalblue\"> 5) Measurement of the oscillation time for a non-neglectable mass of the spring\n",
    "\n",
    "* Measure the mass of the soft spring $(k = 3 N/m)$. Measure three times the oscillation time of ten\n",
    "oscillations for a attached mass of 20 g and 30 g correspondingly."
   ]
  },
  {
   "cell_type": "markdown",
   "id": "5ff0d682",
   "metadata": {},
   "source": [
    "## <font color=\"darkblue\"> VI. Evaluation\n",
    "\n",
    "* Calculate the mean value of the oscillation times and then the ratio $T_{20 g}/T_{30 g} $ of the two mean values.\n",
    "* Calculate $T_{20 g}/T_{30 g}$ with the right side of (23). What value do you get for $m_s = 0$?"
   ]
  },
  {
   "cell_type": "markdown",
   "id": "ce1f0442",
   "metadata": {},
   "source": [
    "#### Answer the following question:\n",
    "* Does equation (12) or equation (23) give a better agreement with the measured values?"
   ]
  },
  {
   "cell_type": "markdown",
   "id": "d6d6634d",
   "metadata": {},
   "source": [
    "## <font color=\"darkblue\"> I. Evaluation\n",
    "### <font color=\"royalblue\"> 1) Determination of the spring constant \n",
    "\n",
    "\n",
    "\n",
    "#### <font color=\"royalblue\"> Step 1: The data\n",
    "\n",
    "Spring 1( L=4.3 cm, color= purple)\n",
    "\n",
    "\n",
    "| Mass in g|0  | 50 | 100 | 150|200|250|300|\n",
    "|----- | ----|-----|-------| ------|------|---|---|\n",
    "|Height in cm|580| 535| 477|418 |360| 304|248|\n",
    "| Elongation in cm | 0 |4.1 |10.3| 16.2| 22.0| 27.6| 33.2|\n",
    "|Weight force( F=mg)| 0  |0.5 |1|1.5|2|2.5|3|\n"
   ]
  },
  {
   "cell_type": "markdown",
   "id": "eb51df17",
   "metadata": {},
   "source": [
    "Spring 2( L=2.5 cm, color= red)\n",
    "\n",
    "| Mass in g|0  | 50 | 100 | 150|200|250|300|\n",
    "|----- | ----|-----|-------| ------|------|---|---|\n",
    "|Height in cm|595|  563|524| 492 | 456|  423| 388|\n",
    "| Elongation in cm | 0| 3.2 |7.1| 10.3| 13.9| 17.2 |20.7|\n",
    "|Weight force( F=mg)| 0  |0.5 |1|1.5|2|2.5|3|"
   ]
  },
  {
   "cell_type": "markdown",
   "id": "877c042e",
   "metadata": {},
   "source": [
    "Spring 3( L=1.4 cm, color= brown)\n",
    "\n",
    "| Mass in g|0  | 50 | 100 | 150|200|250|300|\n",
    "|----- | ----|-----|-------| ------|------|---|---|\n",
    "|Height in cm|607| 606.9| 606.6| 606.5| 606.2| 605.8| 605.5|\n",
    "| Elongation in cm |0| 0.1| 0.4| 0.5 |0.8| 1.2| 1.5|\n",
    "|Weight force( F=mg)| 0  |0.5 |1|1.5|2|2.5|3|\n",
    "\n",
    "                                 Table 1: The heights of the springs after adding masses to them\n"
   ]
  },
  {
   "cell_type": "markdown",
   "id": "8e17ce22",
   "metadata": {},
   "source": [
    "##### <font color=\"deepskyblue\">Step 2:The plots\n",
    "\n"
   ]
  },
  {
   "cell_type": "code",
   "execution_count": 1,
   "id": "75344890",
   "metadata": {},
   "outputs": [
    {
     "data": {
      "image/png": "[encoded data removed]",
      "text/plain": [
       "<Figure size 432x288 with 1 Axes>"
      ]
     },
     "metadata": {
      "needs_background": "light"
     },
     "output_type": "display_data"
    }
   ],
   "source": [
    "import matplotlib.pyplot as plt\n",
    "import matplotlib.patches as mpatches\n",
    "import numpy\n",
    "\n",
    "x1= [0 ,4.1, 10.3, 16.2, 22.0, 27.6, 33.2]  #first spring elongation\n",
    "x2= [0, 3.2 ,7.1, 10.3, 13.9, 17.2 ,20.7]  #2nd spring elongation\n",
    "x3= [0, 0.1, 0.4, 0.5 ,0.8, 1.2, 1.5]  #3rd spring elongation\n",
    "\n",
    "y =[0 ,0.5, 1, 1.5, 2, 2.5, 3]\n",
    "\n",
    "plt.plot(x1, y, label = \"spring 1\")\n",
    "plt.plot(x2, y, label = \"spring 2\")\n",
    "plt.plot(x3, y, label = \"spring 3\")\n",
    "\n",
    "plt.legend() \n",
    "plt.title(\" The weight force against elongation plot\")\n",
    "plt.xlabel(\"Elongation(m)\")\n",
    "plt.ylabel(\"Weight Force(N)\")\n",
    "plt.grid(True)\n",
    "plt.show()"
   ]
  },
  {
   "cell_type": "markdown",
   "id": "f643b3a1",
   "metadata": {},
   "source": [
    " <p style=\"text-align:left\">  <font color=\"blue\">Figure 2: The weight force against elongation plot <p>        \n",
    "         \n"
   ]
  },
  {
   "cell_type": "markdown",
   "id": "6752e9fd",
   "metadata": {},
   "source": [
    "## <font color=\"darkblue\"> II. Evaluation\n",
    " ### <font color=\"royalblue\"> II. Determination of spring constant for a serial and parallel connection \n",
    "\n",
    "\n",
    "\n",
    "#### <font color=\"royalblue\"> Step 1:The data\n",
    "\n",
    "\n",
    "\n",
    "Serial connections with spring 1 and spring 2\n",
    "\n",
    "| Mass in g|0  | 50 | 100 | 150|200|250|300|\n",
    "|----- | ----|-----|-------| ------|------|---|---|\n",
    "|Height in cm|533| 524.8| 515.3| 506.4| 496.8| 487.6| 478.3|\n",
    "|Elongation in cm |0| 8.2| 17.7| 26.6| 36.2| 45.4| 54.7|\n",
    "|Weight force( F=mg)| 0  |0.5 |1|1.5|2|2.5|3|\n",
    "\n",
    "\n",
    "parallel connections with spring 1\n",
    "\n",
    "\n",
    "| Mass in g|0  | 50 | 100 | 150|200|250|300|\n",
    "|----- | ----|-----|-------| ------|------|---|---|\n",
    "|Height in cm|526 |505| 475| 446| 419| 390| 360|\n",
    "| Elongation in cm |0| 2.1| 5.1| 8.0| 10.7| 13.6| 16.6|\n",
    "|Weight force( F=mg)| 0  |0.5 |1|1.5|2|2.5|3|\n",
    "\n",
    "\n",
    "\n",
    "             Table 2: The heights of the springs with added masses when connected in both parallel and serial connections\n"
   ]
  },
  {
   "cell_type": "markdown",
   "id": "13c7d8e1",
   "metadata": {},
   "source": [
    "##### <font color=\"deepskyblue\">Step 2:The plots\n"
   ]
  },
  {
   "cell_type": "code",
   "execution_count": 2,
   "id": "cf28eca2",
   "metadata": {},
   "outputs": [
    {
     "data": {
      "image/png": "[encoded data removed]",
      "text/plain": [
       "<Figure size 432x288 with 1 Axes>"
      ]
     },
     "metadata": {
      "needs_background": "light"
     },
     "output_type": "display_data"
    }
   ],
   "source": [
    "import matplotlib.pyplot as plt\n",
    "import matplotlib.patches as mpatches\n",
    "import numpy\n",
    "\n",
    "x1= [0, 8.2, 17.7, 26.6, 36.2, 45.4, 54.7]  #Serial connections\n",
    "x2= [0, 2.1, 5.1, 8.0, 10.7, 13.6, 16.6]  #parallel connections\n",
    "\n",
    "\n",
    "y =[0 ,0.5, 1, 1.5, 2, 2.5, 3]\n",
    "\n",
    "plt.plot(x1, y, label = \"Serial connections\")\n",
    "plt.plot(x2, y, label = \"parallel connections\")\n",
    "\n",
    "\n",
    "plt.legend() \n",
    "plt.title(\" The weight force against elongation plot\")\n",
    "plt.xlabel(\"Elongation(m)\")\n",
    "plt.ylabel(\"Weight Force(N)\")\n",
    "plt.grid(True)\n",
    "plt.show()"
   ]
  },
  {
   "cell_type": "markdown",
   "id": "d6163cea",
   "metadata": {},
   "source": [
    "<p style=\"text-align:left\">  <font color=\"blue\">Figure 3: the weight force against elongation plot for springs in parallel and in series<p>\n"
   ]
  },
  {
   "cell_type": "markdown",
   "id": "101487a9",
   "metadata": {},
   "source": [
    "## <font color=\"darkblue\"> III. Evaluation\n",
    "### <font color=\"royalblue\"> III. Determination of spring constant for a serial and parallel connection\n",
    "\n",
    "\n",
    "\n",
    "#### <font color=\"royalblue\"> Step 1:The data\n",
    "\n",
    "\n",
    "Spring 1 (l=4.3cm, color: purple ) with 200g mass \n",
    "\n",
    "\n",
    "| amplitude|2cm| 4cm| 6cm| 8cm| 10cm |12cm|\n",
    "|----- | ----|-----|-------| ------|------|---|\n",
    "|10T in s| 9.16 |9.38| 9.43| 9.50| 9.38| 9.41|\n",
    "|  |9.30 |9.29 |9.38 |9.44 |9.41 |9.53|\n",
    "|  |9.22 |9.28 |9.37 |9.60 |9.53 |9.44|\n",
    "|1T in s|0.916 |0.938 |0.943 |0.950 |0.938| 0.941|\n",
    "|       | 0.930| 0.929| 0.938| 0.944| 0.941| 0.953|\n",
    "|       |  0.922 |0.928 |0.937 |0.960 |0.953 |0.944|\n",
    "|mean,´t in s| 0.923 |0.932| 0.939| 0.951 |0.944| 0.946|\n",
    "|u(´t) in s|0.0174| 0.0137| 0.00800| 0.0201| 0.0197| 0.0155|\n",
    "\n",
    "\n",
    "                        Table 4: The different times of 10 oscillations at different amplitudes"
   ]
  },
  {
   "cell_type": "markdown",
   "id": "0ed0ec99",
   "metadata": {},
   "source": [
    "##### <font color=\"deepskyblue\">Step 2:The plots"
   ]
  },
  {
   "cell_type": "code",
   "execution_count": 1,
   "id": "0a489534",
   "metadata": {},
   "outputs": [
    {
     "data": {
      "image/png": "[encoded data removed]",
      "text/plain": [
       "<Figure size 432x288 with 1 Axes>"
      ]
     },
     "metadata": {
      "needs_background": "light"
     },
     "output_type": "display_data"
    }
   ],
   "source": [
    "import matplotlib                                \n",
    "import numpy as np\n",
    "import matplotlib.pyplot as plt\n",
    "  \n",
    "\n",
    "x= [0.02 ,0.04 ,0.06 ,0.08 ,0.10 ,0.12]      #amplitude in meter\n",
    "y =[0.923 ,0.932 ,0.939 ,0.951 ,0.944 ,0.946]     #mean value of 1T in s\n",
    "\n",
    "plt.plot(x, y,label = (\"spring 1\"))\n",
    "plt.title('The oscillation against amplitude plot')\n",
    "plt.xlabel(\"amplitude(m)\")\n",
    "plt.ylabel(\"Oscillations time(s)\")\n",
    "plt.grid(True)\n",
    "plt.ylim(0.9,0.98)\n",
    "plt.show()\n",
    "\n",
    "\n"
   ]
  },
  {
   "cell_type": "markdown",
   "id": "e9bae68f",
   "metadata": {},
   "source": [
    "<p style=\"text-align:left\">  <font color=\"blue\">Figure 4: The oscillation against amplitude plot<p>\n",
    "    \n",
    " "
   ]
  },
  {
   "cell_type": "markdown",
   "id": "b512a364",
   "metadata": {},
   "source": [
    "## <font color=\"darkblue\"> IV. Evaluation\n",
    "### <font color=\"royalblue\">IV. Determination of the spring constant using the oscillation time\n",
    "\n",
    "\n",
    "\n",
    "#### <font color=\"royalblue\"> Step 1:The data\n",
    "\n",
    "Spring 1 (l=4.3cm, color: purple ) \n",
    "\n",
    "\n",
    "| m in g|50g  |100g | 150g |200g|250g|300g|\n",
    "|----- | ----|-----|-------| ------|------|---|\n",
    "|10T in s|2.81|6.31|7.59|8.94| 9.91| 10.81|\n",
    "|  | 3.00|6.28| 7.69| 8.84| 9.87| 10.69|\n",
    "|  |2.94| 6.12| 7.63| 8.81| 9.81|10.75|\n",
    "|mean value(10T)in s|2.92|6.24|7.64|8.86|9.86|10.75|\n",
    "|u(10T)in s|0.23|0.52|0.31|0.49|0.41|0.53|\n",
    "|T in s |0.292|0.624|0.764|0.886|0.986|1.075|\n",
    "|u(T) in s|0.023|0.052|0.031|0.049|0.041|0.053|\n",
    "\n",
    "\n",
    "\n",
    "\n",
    "Spring 2 (l=2.5cm, color: red ) \n",
    "\n",
    "\n",
    "| m in g|50g  |100g | 150g |200g|250g|300g|\n",
    "|----- | ----|-----|-------| ------|------|---|\n",
    "|10T in s|3.44|5.04|5.84|7.12|7.66|8.25|\n",
    "|        |3.53|4.88|5.94|7.00|7.62|8.31|\n",
    "|        |3.81|5.25|6.03|6.88|7.71|8.28|\n",
    "|mean value(10T)in s|3.67|5.07|5.99|6.94|7.67|8.30|\n",
    "|u(10T)in s|0.64|0.77|0.55|0.80|0.28|0.24|\n",
    "|T in s |0.367|0.507|0.599|0.694|0.767|0.830|\n",
    "|u(T) in s|0.064|0.077|0.055|0.080|0.028|0.024|\n",
    "\n",
    "\n",
    "\n",
    "\n",
    "Spring 3 (l=1.4cm, color: brown ) \n",
    "\n",
    "\n",
    "| m in g|50g  |100g | 150g |200g|250g|300g|\n",
    "|----- | ----|-----|-------| ------|------|---|\n",
    "|10T in s|0|1.52|1.81|2.37|2.90|2.81|\n",
    "|        |0|1.67|1.83|2.35|2.71|2.78|\n",
    "|        |0|1.54|1.80|2.32|2.71|2.69|\n",
    "|mean value(10T)in s|0|1.58|1.81|2.35|2.77|2.76|\n",
    "|u(10T)in s|0|0.10|0.02|0.05|0.25|0.14|\n",
    "|T in s |0|0.158|0.181|0.235|0.277|0.276|\n",
    "|u(T) in s|0|0.010|0.002|0.005|0.025|0.014|\n",
    "\n",
    "\n",
    "                                 Tables 5, 6, 7: Times for 10 oscillation for different weights.\n"
   ]
  },
  {
   "cell_type": "markdown",
   "id": "03fc40dd",
   "metadata": {},
   "source": [
    "##### <font color=\"deepskyblue\">Step 2:The plots"
   ]
  },
  {
   "cell_type": "code",
   "execution_count": 22,
   "id": "7a68458d",
   "metadata": {},
   "outputs": [
    {
     "data": {
      "image/png": "[encoded data removed]",
      "text/plain": [
       "<Figure size 432x288 with 1 Axes>"
      ]
     },
     "metadata": {
      "needs_background": "light"
     },
     "output_type": "display_data"
    }
   ],
   "source": [
    "import matplotlib.pyplot as plt\n",
    "import matplotlib.patches as mpatches\n",
    "import numpy\n",
    "\n",
    "x= [2.92,6.24,7.64,8.86,9.86,10.75] \n",
    "\n",
    "y1= [2.92,6.24,7.64,8.86,9.86,10.75]   #mean value oscillation time spring 1\n",
    "y2= [3.67,5.07,5.99,6.94,7.67,8.30]    #mean value oscillation time spring 2\n",
    "y3= [0,1.58,1.81,2.35,2.77,2.76]       #mean value oscillation time spring 3\n",
    "\n",
    "plt.plot(x, y1, label = \"spring 1\")\n",
    "plt.plot(x, y2, label = \"spring 2\")\n",
    "plt.plot(x, y3, label = \"spring 3\")\n",
    "\n",
    "plt.legend() \n",
    "plt.title(\" The  Square root of mass against oscillation times\")\n",
    "plt.xlabel(\"Square root of mass\")\n",
    "plt.ylabel(\"oscillation times in s\")\n",
    "plt.grid(True)\n",
    "plt.show()"
   ]
  },
  {
   "cell_type": "markdown",
   "id": "0d91db86",
   "metadata": {},
   "source": [
    "<p style=\"text-align:left\">  <font color=\"blue\"> Figure 5: Square root of mass against oscillation times.<p>     \n",
    "     "
   ]
  },
  {
   "cell_type": "markdown",
   "id": "17899492",
   "metadata": {},
   "source": [
    "## <font color=\"darkblue\"> VI. Evaluation\n",
    "### <font color=\"royalblue\">V. Measurement of the oscillation time for a non neglectable mass of a spring\n",
    "\n",
    "\n",
    "\n",
    "#### <font color=\"royalblue\"> Step 1:The data\n",
    "\n",
    "\n",
    "The oscillation time of ten oscillations were measured for different attached masses (20 g \n",
    "and 30 g) Before this, the mass of the soft spring (k = 3 N/m) was measured. In the tabla \n",
    "bellow you can find both the data collected data, as well as the mean values and ratio \n",
    "T20g/T30g of both mean values.\n",
    "\n",
    "Soft spring with mass m = 14.4g\n",
    "\n",
    "\n",
    "|20g of mass|10T in s|5.09 |5.13 |5.31|\n",
    "|----- | ----|-----|-------| ------|\n",
    "|      |1T in s| 0.509|0.513| 0.531|\n",
    "|Mean in s| 1T in s|  | 0.512|   | \n",
    "|30g of mass| 10T in s| 5.90| 5.97| 6.00|\n",
    "|      |1T in s| 0.590|0.597|  0.600|\n",
    "|Mean in s| 1T in s| | 0.596|  |\n",
    "|$T_{20g}/T_{30g}$ | |0.859 | |  |"
   ]
  }
 ],
 "metadata": {
  "celltoolbar": "Raw Cell Format",
  "kernelspec": {
   "display_name": "Python 3 (ipykernel)",
   "language": "python",
   "name": "python3"
  },
  "language_info": {
   "codemirror_mode": {
    "name": "ipython",
    "version": 3
   },
   "file_extension": ".py",
   "mimetype": "text/x-python",
   "name": "python",
   "nbconvert_exporter": "python",
   "pygments_lexer": "ipython3",
   "version": "3.9.13"
  }
 },
 "nbformat": 4,
 "nbformat_minor": 5
}
