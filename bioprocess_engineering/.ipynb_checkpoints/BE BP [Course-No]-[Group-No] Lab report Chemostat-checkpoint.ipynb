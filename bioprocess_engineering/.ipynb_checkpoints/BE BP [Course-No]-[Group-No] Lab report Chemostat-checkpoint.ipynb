{
 "cells": [
  {
   "cell_type": "markdown",
   "id": "645295f6",
   "metadata": {},
   "source": [
    "# <center> <font color=457b9d> Continuous culture </font> </center> \n",
    "\n",
    "## Introduction\n",
    "\n",
    "Continuous culture is a continuous stirred-tank reactor (CSTR) employed for the continuous production of microbial biomass, based on the continuous addition of sterilized nutrient medium and the elution of the culture fluid at the same steady flow rate in the bioreactor. It's a cultural process in which the cell population grows at a constant concentration and volume, meaning that cells' growth rate is maintained in the exponential phase: this process is defined as ' steady-state of growth'.\n",
    "\n",
    "Continuous cultures present various advantages:\n",
    "\n",
    "- Easy control over various environmental parameters (pH, population density, product concentration, etc.) \n",
    "- Long time maintenance of the exponential phase\n",
    "- Continuous product elution prevents the accumulation of toxic secondary metabolites\n",
    "- Constant working volume simplifies culture scale-up\n",
    "- Cost-effective, time and energy conservation on the industrial scale as the number of stages of the process are reduced (cleaning, sterilization, preparation of starter cultures, etc.)\n",
    "\n",
    "As well as disadvantages:\n",
    "\n",
    "- high risk of contamination due to the absence of proper cleaning and sterilization steps\n",
    "- need of specific equipment\n",
    "- need of high technical skills to maintain the cells' steady-state\n",
    "\n",
    "\n",
    "A commonly used continuous culture method is the chemostat: a fermenter in which the cell density is kept constant by keeping the dilution rate and flow rate of nutrient medium constant. The sterile nutrient medium is added into the reservoir along with the microbial cells. Substrate is continuously added into the reservoir, and the by-products are continuously eluted allowing the  cells to grow at a constant rate (exponential phase) as there will be no nutrient depletion due to continuous nutrient supply into the reservoir.\n",
    "Growth rate is determined by the rate at which the new medium is fed into the reservoir, while dilution rate controls the substrate concentration \n",
    "This system depends on the fact that the concentration of essential nutrients within the culture vessel will control the growth rate of the cell.\n",
    "\n",
    "Chemostat depends upon two factors:\n",
    "\n",
    "1. Dilution rate: flow of the nutrient medium into the reservoir divided by the culture volume within the vessel. A change in dilution rate changes the cells' growth rate (both cell growth and cell density). \n",
    "\n",
    "2. Concentration of limiting nutrient: an essential nutrient or amino acid is added in limited quantity in the reactor. Limiting the concentration of this nutrient allows the determination of the nutrient medium’s flow rate into the reservoir and therefore the determination of the cells’ growth rate. \n",
    "\n"
   ]
  },
  {
   "cell_type": "markdown",
   "id": "75c0e1c4",
   "metadata": {},
   "source": [
    "## Kinetic parameters\n",
    "\n",
    "Cell growth can be described through 4 main parameters: the two kinetic parameters μmax and Ks, and the two stoichiometric parameters YX/s and Smin. The Monod model is the most common mathematical model that describes the relationship between growth rate and the concentration of a single growth-controlling substrate through the maximum specific growth rate (μmax), and the substrate affinity constant (Ks). This model shows that biomass grows in proportion to the substrate consumption, expressed by the following formula:\n",
    "\n"
   ]
  },
  {
   "cell_type": "markdown",
   "id": "4fc92ab0",
   "metadata": {},
   "source": [
    "\\begin{equation}\n",
    "µ=\\frac{µmax*S}{Ks+S}\n",
    "\\end{equation}\n",
    "<div style=\"direction:rtl\"> (1) </div>"
   ]
  },
  {
   "cell_type": "markdown",
   "id": "914f6f01",
   "metadata": {},
   "source": [
    "Which is analogous to the Michaelis-Menten expression for enzyme kinetics:"
   ]
  },
  {
   "cell_type": "markdown",
   "id": "a6594133",
   "metadata": {},
   "source": [
    "\\begin{equation}\n",
    "v0=\\frac{vmax*S}{Km+S}\n",
    "\\end{equation} \n",
    "<div style=\"direction:rtl\"> (2) </div>"
   ]
  },
  {
   "cell_type": "markdown",
   "id": "ce4d56a3",
   "metadata": {},
   "source": [
    "As inflow equals outflow:"
   ]
  },
  {
   "cell_type": "markdown",
   "id": "24048809",
   "metadata": {},
   "source": [
    "\\begin{equation}\n",
    "V=constant\n",
    "\\end{equation}\n",
    "<div style=\"direction:rtl\"> () </div>"
   ]
  },
  {
   "cell_type": "markdown",
   "id": "b549e95c",
   "metadata": {},
   "source": [
    "At a steady-state, specific groth rate (µ) equals the dilution rate (D):"
   ]
  },
  {
   "cell_type": "markdown",
   "id": "b1b45128",
   "metadata": {},
   "source": [
    "\\begin{equation}\n",
    "µ=D\n",
    "\\end{equation}\n",
    "<div style=\"direction:rtl\"> () </div>"
   ]
  },
  {
   "cell_type": "markdown",
   "id": "604a5846",
   "metadata": {},
   "source": [
    "Where dilution rate (D) is equal to flow rate (F) over volume (V):"
   ]
  },
  {
   "cell_type": "markdown",
   "id": "7ffadc34",
   "metadata": {},
   "source": [
    "\\begin{equation}\n",
    "D=\\frac{Q}{V}\n",
    "\\end{equation}\n",
    "<div style=\"direction:rtl\"> () </div>"
   ]
  },
  {
   "cell_type": "markdown",
   "id": "85443654",
   "metadata": {},
   "source": [
    "The maximum operating flow rate corresponds to the critical dilution rate (Dcrit):"
   ]
  },
  {
   "cell_type": "markdown",
   "id": "c3e74d33",
   "metadata": {},
   "source": [
    "\\begin{equation}\n",
    "Dcrit=\\frac{µmax*S}{Ks+S}\n",
    "\\end{equation}\n",
    "<div style=\"direction:rtl\"> () </div>"
   ]
  },
  {
   "cell_type": "markdown",
   "id": "bbaaea52",
   "metadata": {},
   "source": [
    "# <center> <font color=457b9d> Lab Report </font> </center> \n",
    "\n",
    "#### <center> BE- Bioprocess Engineering (Fensterle/ Lucassen) </center>\n",
    "    \n",
    "# <center> <font color=457b9d> Chemostat </font> </center>\n",
    "\n",
    "Semester: SS20xx\n",
    "\n",
    "Course / Group: C/N\n",
    "\n",
    "Names, matriculation number\n",
    "Names, matriculation number\n",
    "\n",
    "\n",
    "## <font color=457b9d> ToC \n",
    "index (?)\n",
    "\n",
    "    \n",
    "    \n",
    "footer (?) (SS20xx - C/N        Rep BE BP - Chemostat        page n.)"
   ]
  },
  {
   "cell_type": "markdown",
   "id": "4641bbf5",
   "metadata": {},
   "source": [
    "## <font color=457b9d> Introduction </font>\n",
    "---\n",
    "Please give a short introduction to the experiment. 5 lines are ok. Don’t forget to state whether you are a dynamic / steady state group and your initial dilution rate.\n",
    "\n",
    "\n",
    "## <font color=457b9d> Material and Methods </font>\n",
    "---\n",
    "Experiments have been performed according to the lab course protocol bioprocess engineering – chemostat, version no. XXX.\n",
    "\n",
    "Please indicate the total cell counts of the inoculum, the actual volume for inoculation and your initial dilution rate.\n",
    "\n",
    "State whether you are a dynamic / steady state group.\n",
    "\n",
    "Show the calculation of the actual flow rate based on the dilution rate.\n",
    "\n",
    "For calculating the biomass from the OD value, a calibration curve was generated (see annex), resulting in the following formula:\n",
    "\n",
    "Please depict here the formula (use the formula editor) for calculating the biomass from the OD value. \n",
    "\n",
    "\n",
    "Glucose concentration was assessed during the experiment with test sticks. In addition, glucose and EtOH concentrations were assessed by HPLC. The calibration curves of the standards are depicted in the annex. Based on these, the following equations were deduced:\n",
    "\n",
    "Please depict the formula (formula editor) for calculating the glucose concentration from the AUC. \n",
    "\n",
    "\n",
    "Please depict the formula (formula editor) for calculating the EtOH concentration from the AUC.\n",
    "\n",
    "\n",
    "## <font color=457b9d> Results </font>\n",
    "---\n",
    "Please start with some general aspects of the experiment (initial glucose concentration, duration, when was chemostat operation started at what dilution rate, when was dilution rate changed). 5-10 lines are fine!\n",
    "State from which group you took the complementary data.\n",
    "\n",
    "\n",
    "\n",
    "If, for whatever reasons, you had to use the raw data from another group, state this here.\n",
    "\n",
    "Figure 1 depicts the overall kinetics of the biomass concentration. \n",
    "\n",
    "Please insert a graph of a semi-log plot of the biomass concentration vs. time. Your dilution rate should be depicted in the graph. \n",
    "\n",
    "\n",
    "For this and all following figures: graph should include the values of your group and the other group as separate data set (see example below).\n",
    "\n",
    "\n",
    "<div>\n",
    "<img src=\"![Screenshot%202022-11-22%20at%2017.25.53.png](attachment:Screenshot%202022-11-22%20at%2017.25.53.png)\" width=\"300\">\n",
    "</div>\n",
    "\n",
    "Figure 1: Biomass concentration vs. time of an aerobic chemostat experiment of yeast with glucose as a C-source. S0 in the feed stream: 30 g/L.\n",
    "\n",
    "Please describe the results in 2-3 lines.\n",
    "\n",
    "Calculate the µmax during the dynamic phase using a differential method (table in the annex!); use data of the dynamic group for this calculation.\n",
    "\n",
    "Calculate the µ in the steady states (before and after changing dilution rate) using a differential method; use data of the steady state group for this calculation.\n",
    "\n",
    "Calculate the expected x values for both dilution rates based on the formulas deduced in the lecture.\n",
    "\n",
    "Depict clearly the calculation path and / or how you obtained your results. \n",
    "\n",
    "\n",
    "Please be reminded: this is a report – and should read like an original paper. In other words: you cannot just put formulas, there needs to be also a text describing what you do!\n",
    "\n",
    "\n",
    "Figure 2 depicts the total cell count and life cell count / CFU. \n",
    "\n",
    "Please insert a graph of a semi-log plot of the total cell count / life cell count vs. time again from both groups clearly separating the data. Do not connect the data points of the CFU data with lines! Dilution rate should be indicated.\n",
    "\n",
    "Figure 2: Total cell count and CFU of an aerobic chemostat experiment of yeast with glucose as a C-source. S0 in the feed stream: 30 g/L.\n",
    "Please describe the results in 2-3 lines. No calculations required here.\n",
    "\n",
    "\n",
    "Figure 3 depicts the substrate consumption during the chemostat operation.\n",
    "\n",
    "Please insert a graph depicting the glucose concentration (in g/L) vs. time from both groups clearly separating the data. Include both glucose stick data and HPLC data in a suitable manner!\n",
    "\n",
    "Figure 3: Glucose concentration in an aerobic chemostat experiment of yeast. V = 500 ml, s0 = 30 g/L.\n",
    "\n",
    "\n",
    "Please describe the result in 2-3 lines. State the average substrate concentration in the steady states.\n",
    "Calculate qs max in the dynamic and qs in the steady states (before / after change of dilution rates).\n",
    "\n",
    "Calculate the expected s values for both dilution rates based on the formulas deduced in the lecture.\n",
    "\n",
    "Depict clearly the calculation path and / or how you obtained your results!\n",
    "\n",
    "Figure 4 depicts the ethanol formation during the chemostat operation.\n",
    "\n",
    "Please insert a graph depicting the EtOH concentration (in g/L) vs. time from both groups clearly separating the data!\n",
    "\n",
    "Figure 4: EtOH formation in an aerobic chemostat experiment of yeast. V = 500 ml, s0 = 30 g/L.\n",
    "\n",
    "\n",
    "Please describe the result in 2-3 lines. State the average EtOH concentration in the steady states.\n",
    "\n",
    "Calculate qp max in the dynamic and qp in the steady states (before / after change of dilution rates).\n",
    "\n",
    "Calculate the mass and molar yield (YEtOH/S) in the steady states.\n",
    "\n",
    "Depict clearly the calculation path and / or how you obtained your results!\n",
    "\n",
    "\n",
    "## <font color=457b9d> Discussion </font>\n",
    "---\n",
    "Please discuss your results and potential errors. 20 lines minimum.\n",
    "\n",
    "Do not forget to compare your values with the expected values!\n",
    "\n",
    "\n",
    "## <font color=457b9d> Annex </font>\n",
    "---\n",
    "Please insert the calibration curve to calculate biomass from OD.\n",
    "\n",
    "Figure 5: Calibration curve to calculate biomass from OD\n",
    "\n",
    "\n",
    "Please insert the calibration curve of the HPLC standard for calculating the glucose concentration from the AUC.\n",
    "\n",
    "Figure 6: Calibration curve for the HPLC assessment of the glucose concentration.\n",
    "\n",
    "Please insert the calibration curve of the HPLC standard for calculating the EtOH concentration from the AUC.\n",
    "\n",
    "Figure 7: Calibration curve for the HPLC assessment of the EtOH concentration.\n",
    "\n",
    "\n",
    "Please insert a representative HPLC chromatogram of your samples. Depict the glucose and EtOH peak.\n",
    "\n",
    "Figure 8: Representative HPLC chromatogram (raw data) depicting the glucose and EtOH peaks.\n",
    "\n",
    "\n",
    "Table 1: AUC values and calculated glucose and EtOH values of the samples\n",
    "\n",
    "\n",
    "Please insert a table, where sampling time, AUC Glc, c Glc, AUC EtOH, cEtOH ist depicted.\n",
    "\n",
    "Table 2: Differential specific growth-, glucose consumption- and EtOH formation rates\n",
    "Pleas insert a table, where sampling time, x, µ, c Glc (Stick), qs (Stick), c Glc (HPLC), qs (HPLC) und c EtOH, qp is listed.\n"
   ]
  },
  {
   "cell_type": "markdown",
   "id": "060ab692",
   "metadata": {},
   "source": []
  },
  {
   "cell_type": "code",
   "execution_count": null,
   "id": "6508a191",
   "metadata": {},
   "outputs": [],
   "source": []
  }
 ],
 "metadata": {
  "kernelspec": {
   "display_name": "Python 3 (ipykernel)",
   "language": "python",
   "name": "python3"
  },
  "language_info": {
   "codemirror_mode": {
    "name": "ipython",
    "version": 3
   },
   "file_extension": ".py",
   "mimetype": "text/x-python",
   "name": "python",
   "nbconvert_exporter": "python",
   "pygments_lexer": "ipython3",
   "version": "3.9.13"
  }
 },
 "nbformat": 4,
 "nbformat_minor": 5
}
