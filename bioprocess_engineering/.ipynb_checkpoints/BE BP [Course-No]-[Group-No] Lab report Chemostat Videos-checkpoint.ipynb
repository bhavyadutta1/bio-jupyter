{
 "cells": [
  {
   "cell_type": "markdown",
   "id": "e11d9a53",
   "metadata": {},
   "source": [
    "# <font color=457b9d> Video tutorials </font>"
   ]
  },
  {
   "cell_type": "markdown",
   "id": "f90f4cb1",
   "metadata": {},
   "source": [
    "The following videos contain material related to the corresponding laboratory courses.\n",
    "\n",
    "Please watch the videos in order to be able to perform the experiments properly."
   ]
  },
  {
   "cell_type": "markdown",
   "id": "d95bbe8c",
   "metadata": {},
   "source": [
    "## <font color=83c5be> Anaerobic fermentation </font>"
   ]
  },
  {
   "cell_type": "markdown",
   "id": "743bdb24",
   "metadata": {},
   "source": [
    "-> Insert link to video"
   ]
  },
  {
   "cell_type": "markdown",
   "id": "ff99211e",
   "metadata": {},
   "source": [
    "## <font color=83c5be> Chemostat </font>"
   ]
  },
  {
   "cell_type": "markdown",
   "id": "9e64b169",
   "metadata": {},
   "source": [
    "-> Insert link to video"
   ]
  },
  {
   "cell_type": "markdown",
   "id": "363447da",
   "metadata": {},
   "source": [
    "## <font color=83c5be> Applikon reactor interface </font>"
   ]
  },
  {
   "cell_type": "markdown",
   "id": "4c04019b",
   "metadata": {},
   "source": [
    "-> Insert link to video"
   ]
  }
 ],
 "metadata": {
  "kernelspec": {
   "display_name": "Python 3 (ipykernel)",
   "language": "python",
   "name": "python3"
  },
  "language_info": {
   "codemirror_mode": {
    "name": "ipython",
    "version": 3
   },
   "file_extension": ".py",
   "mimetype": "text/x-python",
   "name": "python",
   "nbconvert_exporter": "python",
   "pygments_lexer": "ipython3",
   "version": "3.9.13"
  }
 },
 "nbformat": 4,
 "nbformat_minor": 5
}
