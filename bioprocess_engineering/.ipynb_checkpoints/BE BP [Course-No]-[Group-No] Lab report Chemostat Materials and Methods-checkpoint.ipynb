{
 "cells": [
  {
   "cell_type": "markdown",
   "id": "4f46a7ac",
   "metadata": {},
   "source": [
    "# <center> <font color=457b9d> Lab Report </font> </center> \n",
    "\n",
    "#### <center> BE- Bioprocess Engineering (Fensterle/ Lucassen) </center>\n",
    "    \n",
    "# <center> <font color=457b9d> Chemostat </font> </center>\n",
    "\n",
    "## <font color=457b9d> Material and Methods </font>\n",
    "\n",
    "### Equipment set-up\n",
    "\n",
    "The following pictures depict the equipment set-up."
   ]
  },
  {
   "cell_type": "markdown",
   "id": "93b1ddad",
   "metadata": {},
   "source": [
    "Figure 1: Assembly of the continuous fermentation. All elements, with the exception of the air-in tube upstream of the sterile filter, needs to be sterilized before running the experiment."
   ]
  },
  {
   "cell_type": "markdown",
   "id": "8735f341",
   "metadata": {},
   "source": [
    "Figure 2: Assembly for calibration."
   ]
  },
  {
   "cell_type": "markdown",
   "id": "31a80d5f",
   "metadata": {},
   "source": [
    "Figure 3: Assembly for sterilization. All tube ends must be wrapped in alu-foil. If bottles wrapped with alu-foil are used for collection: sterilize tubing separately (wrap ends and in addition complete tubing in alu-foil)."
   ]
  },
  {
   "cell_type": "markdown",
   "id": "192480c6",
   "metadata": {},
   "source": [
    "### Media\n",
    "YPD Medium w/o glucose (final concentrations):\n",
    " 2% Peptone\n",
    " 1% Yeast extract\n",
    " sterilize by autoclaving.\n",
    "Glucose:\n",
    " 20% glucose in water\n",
    " Prepare and sterilize by autoclaving\n",
    "Remark: a standard YPD medium contains 2% glucose."
   ]
  },
  {
   "cell_type": "markdown",
   "id": "e49b0511",
   "metadata": {},
   "source": [
    "### Methods\n",
    "See lab course BE Applied Microbiology, part methods."
   ]
  },
  {
   "cell_type": "markdown",
   "id": "3883de3d",
   "metadata": {},
   "source": [
    "### Day 0: set-up\n",
    "6.1 Media preparation and set-up of the bioreactors\n",
    "Media and glucose has to be autoclaved separately. Therefore prepare the YPD medium w/o glucose encompassing the solid components adjusted to the final volume.\n",
    "For each bioreactor:\n",
    "Bioreactor:\n",
    "X ml YPD medium w/o glc + Y ml glc 20% = 500 ml YPD medium with 2 g/L glc.\n",
    "Feed medium:\n",
    "X ml YPD medium w/o glc + Y ml glc 20% = (500 / 800 / 1000 / 2000) ml YPD medium with 30 g/L glc.\n",
    "Glucose 20%:\n",
    "Sufficient for bioreactor and feed medium.\n",
    "Once per lab course:\n",
    "For inoculation, 1 l YPD medium with 20 g/L glucose (can be autoclaved together in this case). For agar plates, media / PBS required for dilution, please adhere to the supervisors."
   ]
  },
  {
   "cell_type": "markdown",
   "id": "8995ea71",
   "metadata": {},
   "source": [
    "### Assembly and calibration\n",
    "The assembly of the devices will be explained in detail by the supervisors; see figures in the materials and methods section. Note: ALL in and out tubings must be closed by hose clamps for autoclaving. Remember: You can close more than one tube with one clamp. Before autoclaving, the assembly must be released by a supervisor!\n",
    "The diameter of tubings to be used will be announced by the supervisors. Please note, that the tubing part within the peristaltic pumps must consist of the tubes with small diameter!\n",
    "For calibration of the peristaltic pumps, the medium in and medium out tubing must be fully assembled. Calibration is performed non-sterile before autoclaving using water. It is your responsibility to note the pump settings required for your dilution rate."
   ]
  },
  {
   "cell_type": "markdown",
   "id": "a854ae40",
   "metadata": {},
   "source": [
    "### Final assembly and start of the fermentation\n",
    "Media preparation, inoculation\n",
    "Outside of the waterbath, add the required amount of glucose 20% to end up with 2 g/L glucose using peristaltic pumps.\n",
    "Inoculate the bioreactor using peristaltic pumps to reach a final cell concentration of 5x106 cells/ml.\n"
   ]
  },
  {
   "cell_type": "markdown",
   "id": "84d05052",
   "metadata": {},
   "source": [
    "### Start of fermentation\n",
    "Place the bioreactor in the waterbath (30°C, stirrer speed 300 rpm). Fix the aeration. Connect the product-out tubing with the peristaltic pump and the product collection bottle. Take first sample.\n",
    "Continue sampling, until glucose concentration reaches 0 g / L. In parallel, prepare and connect the feed medium."
   ]
  },
  {
   "cell_type": "markdown",
   "id": "9bc1985e",
   "metadata": {},
   "source": [
    "### Start of chemostat operation\n",
    "As soon as the glucose concentration reaches 0 g / L, start the chemostat operation by starting the feed and product pump with the rate corresponding to your dilution rate. Continue sampling."
   ]
  },
  {
   "cell_type": "markdown",
   "id": "e93427c8",
   "metadata": {},
   "source": [
    "### Sampling\n",
    "Sampling is performed in 30 minutes intervals. The sampling scheme is depicted in Table 3, For each sampling point, take 1.5 ml product. If also biomass is assessed at this timepoint, take 3.5 ml more. If also an HPLC sample is processed, take 1.5 ml more.\n",
    "Please note the following: “glucose” will be measured using glucose test sticks, glucose measured every one h, CFU and Biomass three measurements in the first day and twice in the second day. HPLC depicts the samples, which are subsequently analysed by HPLC for glucose and EtOH. These samples are taken hourly on sample per bioreactor."
   ]
  },
  {
   "cell_type": "markdown",
   "id": "6323c2a9",
   "metadata": {},
   "source": [
    "-> Insert table "
   ]
  },
  {
   "cell_type": "markdown",
   "id": "39dcfe6b",
   "metadata": {},
   "source": [
    "Table 3: sampling scheme for steady state groups"
   ]
  },
  {
   "cell_type": "markdown",
   "id": "d2206d70",
   "metadata": {},
   "source": []
  }
 ],
 "metadata": {
  "kernelspec": {
   "display_name": "Python 3 (ipykernel)",
   "language": "python",
   "name": "python3"
  },
  "language_info": {
   "codemirror_mode": {
    "name": "ipython",
    "version": 3
   },
   "file_extension": ".py",
   "mimetype": "text/x-python",
   "name": "python",
   "nbconvert_exporter": "python",
   "pygments_lexer": "ipython3",
   "version": "3.9.13"
  }
 },
 "nbformat": 4,
 "nbformat_minor": 5
}
