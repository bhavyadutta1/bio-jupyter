{
 "cells": [
  {
   "cell_type": "markdown",
   "id": "645295f6",
   "metadata": {},
   "source": [
    "# <center> <font color=3A606E> Continuous culture </font> </center> \n",
    "\n",
    "## <font color=E07A5F> Introduction </font>\n",
    "\n",
    "Continuous culture is a continuous stirred-tank reactor (CSTR) employed for the continuous production of microbial biomass, based on the continuous addition of sterilized nutrient medium and the elution of the culture fluid at the same steady flow rate in the bioreactor. It's a cultural process in which the cell population grows at a constant concentration and volume, meaning that cells' growth rate is maintained in the exponential phase: this process is defined as ' steady-state of growth'.\n",
    "\n",
    "Continuous cultures present various advantages:\n",
    "\n",
    "- Easy control over various environmental parameters (pH, population density, product concentration, etc.) \n",
    "- Long time maintenance of the exponential phase\n",
    "- Continuous product elution prevents the accumulation of toxic secondary metabolites\n",
    "- Constant working volume simplifies culture scale-up\n",
    "- Cost-effective, time and energy conservation on the industrial scale as the number of stages of the process are reduced (cleaning, sterilization, preparation of starter cultures, etc.)\n",
    "\n",
    "As well as disadvantages:\n",
    "\n",
    "- high risk of contamination due to the absence of proper cleaning and sterilization steps\n",
    "- need of specific equipment\n",
    "- need of high technical skills to maintain the cells' steady-state\n",
    "\n",
    "\n",
    "A commonly used continuous culture method is the chemostat: a fermenter in which the cell density is kept constant by keeping the dilution rate and flow rate of nutrient medium constant. The sterile nutrient medium is added into the reservoir along with the microbial cells. Substrate is continuously added into the reservoir, and the by-products are continuously eluted allowing the  cells to grow at a constant rate (exponential phase) as there will be no nutrient depletion due to continuous nutrient supply into the reservoir.\n",
    "Growth rate is determined by the rate at which the new medium is fed into the reservoir, while dilution rate controls the substrate concentration \n",
    "This system depends on the fact that the concentration of essential nutrients within the culture vessel will control the growth rate of the cell.\n",
    "\n",
    "Chemostat depends upon two factors:\n",
    "\n",
    "1. Dilution rate: flow of the nutrient medium into the reservoir divided by the culture volume within the vessel. A change in dilution rate changes the cells' growth rate (both cell growth and cell density). \n",
    "\n",
    "2. Concentration of limiting nutrient: an essential nutrient or amino acid is added in limited quantity in the reactor. Limiting the concentration of this nutrient allows the determination of the nutrient medium’s flow rate into the reservoir and therefore the determination of the cells’ growth rate. \n",
    "\n"
   ]
  },
  {
   "cell_type": "markdown",
   "id": "75c0e1c4",
   "metadata": {},
   "source": [
    "## <font color=E07A5F> Kinetic parameters </font>\n",
    "\n",
    "Cell growth can be described through 4 main parameters: the two kinetic parameters μmax and Ks, and the two stoichiometric parameters YX/s and Smin. The Monod model is the most common mathematical model that describes the relationship between growth rate and the concentration of a single growth-controlling substrate through the maximum specific growth rate (μmax), and the substrate affinity constant (Ks). This model shows that biomass grows in proportion to the substrate consumption, expressed by the following formula:\n",
    "\n"
   ]
  },
  {
   "cell_type": "markdown",
   "id": "4fc92ab0",
   "metadata": {},
   "source": [
    "\\begin{equation}\n",
    "µ=\\frac{µmax*S}{Ks+S}\n",
    "\\end{equation}\n",
    "<div style=\"direction:rtl\"> (1) </div>"
   ]
  },
  {
   "cell_type": "markdown",
   "id": "914f6f01",
   "metadata": {},
   "source": [
    "Which is analogous to the Michaelis-Menten expression for enzyme kinetics:"
   ]
  },
  {
   "cell_type": "markdown",
   "id": "a6594133",
   "metadata": {},
   "source": [
    "\\begin{equation}\n",
    "v0=\\frac{vmax*S}{Km+S}\n",
    "\\end{equation} \n",
    "<div style=\"direction:rtl\"> (2) </div>"
   ]
  },
  {
   "cell_type": "markdown",
   "id": "ce4d56a3",
   "metadata": {},
   "source": [
    "As inflow equals outflow:"
   ]
  },
  {
   "cell_type": "markdown",
   "id": "24048809",
   "metadata": {},
   "source": [
    "\\begin{equation}\n",
    "V=constant\n",
    "\\end{equation}\n",
    "<div style=\"direction:rtl\"> (3) </div>"
   ]
  },
  {
   "cell_type": "markdown",
   "id": "b549e95c",
   "metadata": {},
   "source": [
    "At a steady-state, specific groth rate (µ) equals the dilution rate (D):"
   ]
  },
  {
   "cell_type": "markdown",
   "id": "b1b45128",
   "metadata": {},
   "source": [
    "\\begin{equation}\n",
    "µ=D\n",
    "\\end{equation}\n",
    "<div style=\"direction:rtl\"> (4) </div>"
   ]
  },
  {
   "cell_type": "markdown",
   "id": "604a5846",
   "metadata": {},
   "source": [
    "Where dilution rate (D) is equal to flow rate (F) over volume (V):"
   ]
  },
  {
   "cell_type": "markdown",
   "id": "7ffadc34",
   "metadata": {},
   "source": [
    "\\begin{equation}\n",
    "D=\\frac{Q}{V}\n",
    "\\end{equation}\n",
    "<div style=\"direction:rtl\"> (5) </div>"
   ]
  },
  {
   "cell_type": "markdown",
   "id": "85443654",
   "metadata": {},
   "source": [
    "The maximum operating flow rate corresponds to the critical dilution rate (Dcrit):"
   ]
  },
  {
   "cell_type": "markdown",
   "id": "c3e74d33",
   "metadata": {},
   "source": [
    "\\begin{equation}\n",
    "Dcrit=\\frac{µmax*S}{Ks+S}\n",
    "\\end{equation}\n",
    "<div style=\"direction:rtl\"> (6) </div>"
   ]
  },
  {
   "cell_type": "markdown",
   "id": "bbaaea52",
   "metadata": {},
   "source": [
    "\n",
    "\n",
    "# <center> <font color=559CAD> Lab Report </font> </center> \n",
    "\n",
    "#### <center> BE- Bioprocess Engineering (Fensterle/ Lucassen) </center>\n",
    "    \n",
    "# <center> <font color=559CAD> Chemostat </font> </center>\n",
    "\n",
    "\n",
    "Semester: SS20xx\n",
    "\n",
    "Course / Group: C/N\n",
    "\n",
    "Names, matriculation number\n",
    "Names, matriculation number\n",
    "\n",
    "\n",
    "## <font color=B6A6CA> ToC \n",
    "index (?)\n",
    "\n",
    "    \n",
    "    \n",
    "footer (?) (SS20xx - C/N        Rep BE BP - Chemostat        page n.)"
   ]
  },
  {
   "cell_type": "markdown",
   "id": "2f18aa4d",
   "metadata": {},
   "source": [
    "## <font color=B6A6CA> Introduction </font>\n",
    "---\n",
    "Please give a short introduction to the experiment (5 lines are ok).\n",
    "\n",
    "Don’t forget to state whether you are a dynamic / steady state group and your initial dilution rate.\n",
    "\n"
   ]
  },
  {
   "cell_type": "markdown",
   "id": "53966ffd",
   "metadata": {},
   "source": [
    "## <font color=B6A6CA> Material and Methods </font>\n",
    "---\n",
    "Experiments have been performed according to the lab course protocol bioprocess engineering – chemostat, version no. XXX.\n",
    "\n",
    "Please indicate the total cell counts of the inoculum, the actual volume for inoculation and your initial dilution rate.\n",
    "\n",
    "State whether you are a dynamic / steady state group."
   ]
  },
  {
   "cell_type": "markdown",
   "id": "e5becf97",
   "metadata": {},
   "source": [
    "Show the calculation of the actual flow rate based on the dilution rate."
   ]
  },
  {
   "cell_type": "markdown",
   "id": "ea41e792",
   "metadata": {},
   "source": []
  },
  {
   "cell_type": "markdown",
   "id": "28e10f31",
   "metadata": {},
   "source": [
    "For calculating the biomass from the OD value, a calibration curve was generated (see annex), resulting in the following formula:"
   ]
  },
  {
   "cell_type": "markdown",
   "id": "48b1171d",
   "metadata": {},
   "source": [
    "Please depict here the formula (use the formula editor) for calculating the biomass from the OD value. "
   ]
  },
  {
   "cell_type": "markdown",
   "id": "4fb63132",
   "metadata": {},
   "source": []
  },
  {
   "cell_type": "markdown",
   "id": "a5142791",
   "metadata": {},
   "source": [
    "Glucose concentration was assessed during the experiment with test sticks. In addition, glucose and EtOH concentrations were assessed by HPLC. \n",
    "The calibration curves of the standards are depicted in the annex. \n",
    "Based on these, the following equations were deduced:"
   ]
  },
  {
   "cell_type": "markdown",
   "id": "4b617dea",
   "metadata": {},
   "source": [
    "Please depict the formula (formula editor) for calculating the glucose concentration from the AUC. "
   ]
  },
  {
   "cell_type": "markdown",
   "id": "563cc23f",
   "metadata": {},
   "source": []
  },
  {
   "cell_type": "markdown",
   "id": "a76e86a9",
   "metadata": {},
   "source": [
    "Please depict the formula (formula editor) for calculating the EtOH concentration from the AUC."
   ]
  },
  {
   "cell_type": "markdown",
   "id": "00bbc1f4",
   "metadata": {},
   "source": []
  },
  {
   "cell_type": "markdown",
   "id": "4c9053d5",
   "metadata": {},
   "source": [
    "## <font color=B6A6CA> Results </font>\n",
    "---\n",
    "Please start with some general aspects of the experiment (initial glucose concentration, duration, when was chemostat operation started at what dilution rate, when was dilution rate changed). 5-10 lines are fine!\n",
    "State from which group you took the complementary data.\n",
    "\n",
    "If, for whatever reasons, you had to use the raw data from another group, state this here."
   ]
  },
  {
   "cell_type": "markdown",
   "id": "4264e855",
   "metadata": {},
   "source": [
    "Please insert a graph of a semi-log plot of the biomass concentration vs. time. Your dilution rate should be depicted in the graph. "
   ]
  },
  {
   "cell_type": "markdown",
   "id": "882835e5",
   "metadata": {},
   "source": []
  },
  {
   "cell_type": "markdown",
   "id": "0202b27d",
   "metadata": {},
   "source": [
    "Figure 1 depicts the overall kinetics of the biomass concentration. "
   ]
  },
  {
   "cell_type": "markdown",
   "id": "d783f870",
   "metadata": {},
   "source": [
    "Figure 1: Biomass concentration vs. time of an aerobic chemostat experiment of yeast with glucose as a C-source. \n",
    "S0 in the feed stream: 30 g/L."
   ]
  },
  {
   "cell_type": "markdown",
   "id": "d570c703",
   "metadata": {},
   "source": [
    "Please describe the results in 2-3 lines."
   ]
  },
  {
   "cell_type": "markdown",
   "id": "18e5fe5d",
   "metadata": {},
   "source": []
  },
  {
   "cell_type": "markdown",
   "id": "3105202c",
   "metadata": {},
   "source": [
    "For this and all following figures: graph should include the values of your group and the other group as separate data set (see example below)."
   ]
  },
  {
   "cell_type": "markdown",
   "id": "a8428eb8",
   "metadata": {},
   "source": []
  },
  {
   "cell_type": "markdown",
   "id": "52205d4e",
   "metadata": {},
   "source": [
    "Calculate the µmax during the dynamic phase using a differential method (table in the annex!); use data of the dynamic group for this calculation."
   ]
  },
  {
   "cell_type": "markdown",
   "id": "312f5660",
   "metadata": {},
   "source": []
  },
  {
   "cell_type": "markdown",
   "id": "4c64fae2",
   "metadata": {},
   "source": [
    "Calculate the µ in the steady states (before and after changing dilution rate) using a differential method; use data of the steady state group for this calculation."
   ]
  },
  {
   "cell_type": "markdown",
   "id": "4b010473",
   "metadata": {},
   "source": []
  },
  {
   "cell_type": "markdown",
   "id": "626034dd",
   "metadata": {},
   "source": [
    "Calculate the expected x values for both dilution rates based on the formulas deduced in the lecture."
   ]
  },
  {
   "cell_type": "markdown",
   "id": "e27510b9",
   "metadata": {},
   "source": []
  },
  {
   "cell_type": "markdown",
   "id": "8ba6c283",
   "metadata": {},
   "source": [
    "Depict clearly the calculation path and / or how you obtained your results. \n",
    "\n",
    "**Please be reminded: this is a report – and should read like an original paper. In other words: you cannot just put formulas, there needs to be also a text describing what you do!**"
   ]
  },
  {
   "cell_type": "markdown",
   "id": "f6b9a44d",
   "metadata": {},
   "source": [
    "Please insert a graph of a semi-log plot of the total cell count / life cell count vs. time again from both groups clearly separating the data. Do not connect the data points of the CFU data with lines! Dilution rate should be indicated."
   ]
  },
  {
   "cell_type": "markdown",
   "id": "74c08c7c",
   "metadata": {},
   "source": []
  },
  {
   "cell_type": "markdown",
   "id": "c9b20753",
   "metadata": {},
   "source": [
    "Figure 2 depicts the total cell count and life cell count / CFU. "
   ]
  },
  {
   "cell_type": "markdown",
   "id": "48f73c69",
   "metadata": {},
   "source": [
    "Figure 2: Total cell count and CFU of an aerobic chemostat experiment of yeast with glucose as a C-source. S0 in the feed stream: 30 g/L."
   ]
  },
  {
   "cell_type": "markdown",
   "id": "6df7f540",
   "metadata": {},
   "source": [
    "Please describe the results in 2-3 lines. No calculations required here."
   ]
  },
  {
   "cell_type": "markdown",
   "id": "7e60f321",
   "metadata": {},
   "source": []
  },
  {
   "cell_type": "markdown",
   "id": "08d7ae67",
   "metadata": {},
   "source": [
    "Please insert a graph depicting the glucose concentration (in g/L) vs. time from both groups clearly separating the data. Include both glucose stick data and HPLC data in a suitable manner!"
   ]
  },
  {
   "cell_type": "markdown",
   "id": "52577b37",
   "metadata": {},
   "source": []
  },
  {
   "cell_type": "markdown",
   "id": "4e3fc9d5",
   "metadata": {},
   "source": [
    "Figure 3 depicts the substrate consumption during the chemostat operation."
   ]
  },
  {
   "cell_type": "markdown",
   "id": "6c1d3e68",
   "metadata": {},
   "source": [
    "Figure 3: Glucose concentration in an aerobic chemostat experiment of yeast. V = 500 ml, s0 = 30 g/L."
   ]
  },
  {
   "cell_type": "markdown",
   "id": "bc5c8536",
   "metadata": {},
   "source": [
    "Please describe the result in 2-3 lines. State the average substrate concentration in the steady states."
   ]
  },
  {
   "cell_type": "markdown",
   "id": "54be24ad",
   "metadata": {},
   "source": []
  },
  {
   "cell_type": "markdown",
   "id": "6b66c17f",
   "metadata": {},
   "source": [
    "Calculate qs max in the dynamic and qs in the steady states (before / after change of dilution rates)."
   ]
  },
  {
   "cell_type": "markdown",
   "id": "b2c19528",
   "metadata": {},
   "source": []
  },
  {
   "cell_type": "markdown",
   "id": "5761f1d4",
   "metadata": {},
   "source": [
    "Calculate the expected s values for both dilution rates based on the formulas deduced in the lecture."
   ]
  },
  {
   "cell_type": "markdown",
   "id": "16f0be93",
   "metadata": {},
   "source": []
  },
  {
   "cell_type": "markdown",
   "id": "996d6f56",
   "metadata": {},
   "source": [
    "Depict clearly the calculation path and / or how you obtained your results!"
   ]
  },
  {
   "cell_type": "markdown",
   "id": "ea9a8214",
   "metadata": {},
   "source": []
  },
  {
   "cell_type": "markdown",
   "id": "15849eca",
   "metadata": {},
   "source": [
    "Please insert a graph depicting the EtOH concentration (in g/L) vs. time from both groups clearly separating the data!"
   ]
  },
  {
   "cell_type": "markdown",
   "id": "9a933aae",
   "metadata": {},
   "source": []
  },
  {
   "cell_type": "markdown",
   "id": "294e99c7",
   "metadata": {},
   "source": [
    "Figure 4 depicts the ethanol formation during the chemostat operation."
   ]
  },
  {
   "cell_type": "markdown",
   "id": "c4aac862",
   "metadata": {},
   "source": [
    "Figure 4: EtOH formation in an aerobic chemostat experiment of yeast. V = 500 ml, s0 = 30 g/L."
   ]
  },
  {
   "cell_type": "markdown",
   "id": "0fbc3a51",
   "metadata": {},
   "source": [
    "Please describe the result in 2-3 lines. State the average EtOH concentration in the steady states."
   ]
  },
  {
   "cell_type": "markdown",
   "id": "3c96c1fa",
   "metadata": {},
   "source": []
  },
  {
   "cell_type": "markdown",
   "id": "e822d2dc",
   "metadata": {},
   "source": [
    "Calculate qp max in the dynamic and qp in the steady states (before / after change of dilution rates)."
   ]
  },
  {
   "cell_type": "markdown",
   "id": "367f9846",
   "metadata": {},
   "source": []
  },
  {
   "cell_type": "markdown",
   "id": "e32f805a",
   "metadata": {},
   "source": [
    "Calculate the mass and molar yield (YEtOH/S) in the steady states."
   ]
  },
  {
   "cell_type": "markdown",
   "id": "669e201a",
   "metadata": {},
   "source": []
  },
  {
   "cell_type": "markdown",
   "id": "74ce2975",
   "metadata": {},
   "source": [
    "Depict clearly the calculation path and / or how you obtained your results!"
   ]
  },
  {
   "cell_type": "markdown",
   "id": "5230f04a",
   "metadata": {},
   "source": [
    "## <font color=B6A6CA> Discussion </font>\n",
    "---\n",
    "Please discuss your results and potential errors. 20 lines minimum.\n",
    "\n",
    "Do not forget to compare your values with the expected values!"
   ]
  },
  {
   "cell_type": "markdown",
   "id": "d3a88985",
   "metadata": {},
   "source": []
  },
  {
   "cell_type": "markdown",
   "id": "d67d2bd9",
   "metadata": {},
   "source": [
    "## <font color=B6A6CA> Annex </font>\n",
    "---"
   ]
  },
  {
   "cell_type": "markdown",
   "id": "d5f9d3bf",
   "metadata": {},
   "source": [
    "Please insert the calibration curve to calculate biomass from OD."
   ]
  },
  {
   "cell_type": "markdown",
   "id": "c6e0288a",
   "metadata": {},
   "source": []
  },
  {
   "cell_type": "markdown",
   "id": "3dbacbc8",
   "metadata": {},
   "source": [
    "Figure 5: Calibration curve to calculate biomass from OD\n",
    "\n",
    "---"
   ]
  },
  {
   "cell_type": "markdown",
   "id": "3e74d178",
   "metadata": {},
   "source": [
    "Please insert the calibration curve of the HPLC standard for calculating the glucose concentration from the AUC."
   ]
  },
  {
   "cell_type": "markdown",
   "id": "33abb9ee",
   "metadata": {},
   "source": []
  },
  {
   "cell_type": "markdown",
   "id": "eeb01ee3",
   "metadata": {},
   "source": [
    "Figure 6: Calibration curve for the HPLC assessment of the glucose concentration.\n",
    "\n",
    "---"
   ]
  },
  {
   "cell_type": "markdown",
   "id": "6c0158a7",
   "metadata": {},
   "source": [
    "Please insert the calibration curve of the HPLC standard for calculating the EtOH concentration from the AUC."
   ]
  },
  {
   "cell_type": "markdown",
   "id": "b641cbc0",
   "metadata": {},
   "source": []
  },
  {
   "cell_type": "markdown",
   "id": "35fec408",
   "metadata": {},
   "source": [
    "Figure 7: Calibration curve for the HPLC assessment of the EtOH concentration.\n",
    "\n",
    "---"
   ]
  },
  {
   "cell_type": "markdown",
   "id": "ad82ee4b",
   "metadata": {},
   "source": [
    "Please insert a representative HPLC chromatogram of your samples. Depict the glucose and EtOH peak."
   ]
  },
  {
   "cell_type": "markdown",
   "id": "105bce37",
   "metadata": {},
   "source": []
  },
  {
   "cell_type": "markdown",
   "id": "e54fa926",
   "metadata": {},
   "source": [
    "Figure 8: Representative HPLC chromatogram (raw data) depicting the glucose and EtOH peaks.\n",
    "\n",
    "---"
   ]
  },
  {
   "cell_type": "markdown",
   "id": "8f4155f6",
   "metadata": {},
   "source": [
    "Please insert a table, where sampling time, AUC Glc, c Glc, AUC EtOH, cEtOH ist depicted."
   ]
  },
  {
   "cell_type": "markdown",
   "id": "a9f8f27a",
   "metadata": {},
   "source": []
  },
  {
   "cell_type": "markdown",
   "id": "a8577901",
   "metadata": {},
   "source": [
    "Table 1: AUC values and calculated glucose and EtOH values of the samples\n",
    "\n",
    "---"
   ]
  },
  {
   "cell_type": "markdown",
   "id": "a99851e0",
   "metadata": {},
   "source": [
    "Please insert a table, where sampling time, x, µ, c Glc (Stick), qs (Stick), c Glc (HPLC), qs (HPLC) und c EtOH, qp is listed."
   ]
  },
  {
   "cell_type": "markdown",
   "id": "4641bbf5",
   "metadata": {},
   "source": [
    "Table 2: Differential specific growth-, glucose consumption- and EtOH formation rates"
   ]
  },
  {
   "cell_type": "markdown",
   "id": "060ab692",
   "metadata": {},
   "source": []
  },
  {
   "cell_type": "markdown",
   "id": "7ca595a8",
   "metadata": {},
   "source": []
  }
 ],
 "metadata": {
  "kernelspec": {
   "display_name": "Python 3 (ipykernel)",
   "language": "python",
   "name": "python3"
  },
  "language_info": {
   "codemirror_mode": {
    "name": "ipython",
    "version": 3
   },
   "file_extension": ".py",
   "mimetype": "text/x-python",
   "name": "python",
   "nbconvert_exporter": "python",
   "pygments_lexer": "ipython3",
   "version": "3.9.13"
  }
 },
 "nbformat": 4,
 "nbformat_minor": 5
}
