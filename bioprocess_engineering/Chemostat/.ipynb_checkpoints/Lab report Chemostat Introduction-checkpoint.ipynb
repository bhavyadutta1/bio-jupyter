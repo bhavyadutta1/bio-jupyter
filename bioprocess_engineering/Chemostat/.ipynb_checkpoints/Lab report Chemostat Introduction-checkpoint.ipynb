{
 "cells": [
  {
   "cell_type": "markdown",
   "id": "ffd4c722",
   "metadata": {},
   "source": [
    "# <center> <font color=8AAA79> Continuous culture </font> </center> \n",
    "\n",
    "##  <font color=E07A5F> Introduction </font>\n",
    "\n",
    "Continuous culture is a continuous stirred-tank reactor (CSTR) employed for the continuous production of microbial biomass, based on the continuous addition of sterilized nutrient medium and the elution of the culture fluid at the same steady flow rate in the bioreactor. It's a cultural process in which the cell population grows at a constant concentration and volume, meaning that cells' growth rate is maintained in the exponential phase: this process is defined as ' steady-state of growth'.\n",
    "\n",
    "Continuous cultures present various advantages:\n"
   ]
  },
  {
   "cell_type": "markdown",
   "id": "b5cadb7c",
   "metadata": {},
   "source": [
    "- Easy control over various environmental parameters (pH, population density, product concentration, etc.) \n",
    "- Long time maintenance of the exponential phase\n",
    "- Continuous product elution prevents the accumulation of toxic secondary metabolites\n",
    "- Constant working volume simplifies culture scale-up\n",
    "- Cost-effective, time and energy conservation on the industrial scale as the number of stages of the process are reduced (cleaning, sterilization, preparation of starter cultures, etc.)"
   ]
  },
  {
   "cell_type": "markdown",
   "id": "499917ba",
   "metadata": {},
   "source": [
    "As well as disadvantages:"
   ]
  },
  {
   "cell_type": "markdown",
   "id": "edc3a6ac",
   "metadata": {},
   "source": [
    "- high risk of contamination due to the absence of proper cleaning and sterilization steps\n",
    "- need of specific equipment\n",
    "- need of high technical skills to maintain the cells' steady-state"
   ]
  },
  {
   "cell_type": "markdown",
   "id": "1e77df78",
   "metadata": {},
   "source": [
    "A commonly used continuous culture method is the chemostat: a fermenter in which the cell density is kept constant by keeping the dilution rate and flow rate of nutrient medium constant. The sterile nutrient medium is added into the reservoir along with the microbial cells. Substrate is continuously added into the reservoir, and the by-products are continuously eluted allowing the  cells to grow at a constant rate (exponential phase) as there will be no nutrient depletion due to continuous nutrient supply into the reservoir.\n",
    "Growth rate is determined by the rate at which the new medium is fed into the reservoir, while dilution rate controls the substrate concentration \n",
    "This system depends on the fact that the concentration of essential nutrients within the culture vessel will control the growth rate of the cell."
   ]
  },
  {
   "cell_type": "markdown",
   "id": "c256605f",
   "metadata": {},
   "source": [
    "Chemostat depends upon two factors:"
   ]
  },
  {
   "cell_type": "markdown",
   "id": "3c21a0d4",
   "metadata": {},
   "source": [
    "1. Dilution rate: flow of the nutrient medium into the reservoir divided by the culture volume within the vessel. A change in dilution rate changes the cells' growth rate (both cell growth and cell density). \n",
    "\n",
    "2. Concentration of limiting nutrient: an essential nutrient or amino acid is added in limited quantity in the reactor. Limiting the concentration of this nutrient allows the determination of the nutrient medium’s flow rate into the reservoir and therefore the determination of the cells’ growth rate. "
   ]
  },
  {
   "cell_type": "markdown",
   "id": "8319523d",
   "metadata": {},
   "source": [
    "## <font color=E07A5F> Kinetic parameters </font>\n",
    "\n",
    "Cell growth can be described through 4 main parameters: the two kinetic parameters μmax and Ks, and the two stoichiometric parameters YX/s and Smin. The Monod model is the most common mathematical model that describes the relationship between growth rate and the concentration of a single growth-controlling substrate through the maximum specific growth rate (μmax), and the substrate affinity constant (Ks). This model shows that biomass grows in proportion to the substrate consumption, expressed by the following formula:"
   ]
  },
  {
   "cell_type": "markdown",
   "id": "54d207db",
   "metadata": {},
   "source": [
    "\\begin{equation}\n",
    "µ=\\frac{µmax*S}{Ks+S}\n",
    "\\end{equation}\n",
    "<div style=\"direction:rtl\"> (1) </div>"
   ]
  },
  {
   "cell_type": "markdown",
   "id": "7502d467",
   "metadata": {},
   "source": [
    "Which is analogous to the Michaelis-Menten expression for enzyme kinetics:"
   ]
  },
  {
   "cell_type": "markdown",
   "id": "8b5d6460",
   "metadata": {},
   "source": [
    "\\begin{equation}\n",
    "v0=\\frac{vmax*S}{Km+S}\n",
    "\\end{equation} \n",
    "<div style=\"direction:rtl\"> (2) </div>"
   ]
  },
  {
   "cell_type": "markdown",
   "id": "398077b3",
   "metadata": {},
   "source": [
    "As inflow equals outflow:"
   ]
  },
  {
   "cell_type": "markdown",
   "id": "2b53529a",
   "metadata": {},
   "source": [
    "\\begin{equation}\n",
    "V=constant\n",
    "\\end{equation}\n",
    "<div style=\"direction:rtl\"> (3) </div>"
   ]
  },
  {
   "cell_type": "markdown",
   "id": "237d8e98",
   "metadata": {},
   "source": [
    "At a steady-state, specific groth rate (µ) equals the dilution rate (D):"
   ]
  },
  {
   "cell_type": "markdown",
   "id": "2acb5a91",
   "metadata": {},
   "source": [
    "\\begin{equation}\n",
    "µ=D\n",
    "\\end{equation}\n",
    "<div style=\"direction:rtl\"> (4) </div>"
   ]
  },
  {
   "cell_type": "markdown",
   "id": "1807e2a2",
   "metadata": {},
   "source": [
    "Where dilution rate (D) is equal to flow rate (F) over volume (V):\n"
   ]
  },
  {
   "cell_type": "markdown",
   "id": "c02d4c84",
   "metadata": {},
   "source": [
    "\\begin{equation}\n",
    "D=\\frac{Q}{V}\n",
    "\\end{equation}\n",
    "<div style=\"direction:rtl\"> (5) </div>"
   ]
  },
  {
   "cell_type": "markdown",
   "id": "0ec0da90",
   "metadata": {},
   "source": [
    "The maximum operating flow rate corresponds to the critical dilution rate (Dcrit):"
   ]
  },
  {
   "cell_type": "markdown",
   "id": "227be34c",
   "metadata": {},
   "source": [
    "\\begin{equation}\n",
    "Dcrit=\\frac{µmax*S}{Ks+S}\n",
    "\\end{equation}\n",
    "<div style=\"direction:rtl\"> (6) </div>"
   ]
  },
  {
   "cell_type": "markdown",
   "id": "b2ca6215",
   "metadata": {},
   "source": []
  }
 ],
 "metadata": {
  "kernelspec": {
   "display_name": "Python 3 (ipykernel)",
   "language": "python",
   "name": "python3"
  },
  "language_info": {
   "codemirror_mode": {
    "name": "ipython",
    "version": 3
   },
   "file_extension": ".py",
   "mimetype": "text/x-python",
   "name": "python",
   "nbconvert_exporter": "python",
   "pygments_lexer": "ipython3",
   "version": "3.9.13"
  }
 },
 "nbformat": 4,
 "nbformat_minor": 5
}
