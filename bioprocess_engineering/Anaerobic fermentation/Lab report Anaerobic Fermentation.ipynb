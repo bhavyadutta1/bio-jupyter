{
 "cells": [
  {
   "cell_type": "markdown",
   "id": "9e173836",
   "metadata": {},
   "source": [
    "# <center> <font color=54426B> Lab Report </font> </center> \n",
    "\n",
    "#### <center> BE- Bioprocess Engineering (Fensterle/ Lucassen) </center>\n",
    "    \n",
    "# <center> <font color=54426B> Anaerobic Fermentation </font> </center>\n",
    "\n",
    "Semester: SS20xx\n",
    "\n",
    "Course / Group: C/N\n",
    "\n",
    "Names, matriculation number\n",
    "Names, matriculation number\n",
    "\n",
    "\n",
    "## <font color=B6A6CA> ToC \n",
    "index (?)\n",
    "\n",
    "    \n",
    "    \n",
    "footer:   SS20xx - C/N        Rep BE BP - Anaerobe          page n.\n",
    "    "
   ]
  },
  {
   "cell_type": "markdown",
   "id": "be043e13",
   "metadata": {},
   "source": [
    "## <font color=B6A6CA> Introduction </font>\n",
    "---\n",
    "Please give a short introduction to the experiment (5 lines are ok). \n",
    "\n",
    "Also state your initial glucose concentration.\n"
   ]
  },
  {
   "cell_type": "markdown",
   "id": "f4726731",
   "metadata": {},
   "source": [
    "## <font color=B6A6CA> Material and Methods </font>\n",
    "---\n",
    "Experiments have been performed according to the lab course protocol bioprocess engineering – anaerobic fermentation, version no. XXX.\n",
    "\n",
    "Please indicate the volume of the inoculum, which initial glucose concentration was used, and at what timepoint spiking was performed. "
   ]
  },
  {
   "cell_type": "markdown",
   "id": "104de033",
   "metadata": {},
   "source": [
    "For calculating the biomass from the OD value, a calibration curve was generated (see annex), resulting in the following formula:"
   ]
  },
  {
   "cell_type": "markdown",
   "id": "e1f984d3",
   "metadata": {},
   "source": [
    "Please depict here the formula for calculating the biomass from the OD value."
   ]
  },
  {
   "cell_type": "markdown",
   "id": "0a555948",
   "metadata": {},
   "source": []
  },
  {
   "cell_type": "markdown",
   "id": "f1fe690c",
   "metadata": {},
   "source": [
    "Molar CO2 and EtOH values were calculated from the sensor raw data as follows:"
   ]
  },
  {
   "cell_type": "markdown",
   "id": "bf28d15f",
   "metadata": {},
   "source": [
    "Please depict the formulas for calculating the CO2 / EtOH from the sensor raw data. "
   ]
  },
  {
   "cell_type": "markdown",
   "id": "15ae4d4c",
   "metadata": {},
   "source": []
  },
  {
   "cell_type": "markdown",
   "id": "c95167bd",
   "metadata": {},
   "source": []
  },
  {
   "cell_type": "markdown",
   "id": "5d424b0c",
   "metadata": {},
   "source": [
    "## <font color=B6A6CA> Results </font>\n",
    "---\n",
    "Please start with some general aspects of the experiment (initial glucose concentration, duration, when was spiking performed with how much glucose). 5 lines are fine!\n",
    "If, for whatever reasons, you had to use the raw data from another group, state this here."
   ]
  },
  {
   "cell_type": "markdown",
   "id": "d73297c3",
   "metadata": {},
   "source": [
    "Figure 1 depicts the kinetics of the biomass concentration. \n",
    "Please insert a graph of a semi-log plot of the biomass concentration vs. time. For this and all following figures: graph should include the values before and after spiking as separate data set (see example below)."
   ]
  },
  {
   "cell_type": "markdown",
   "id": "a61c5d2f",
   "metadata": {},
   "source": []
  },
  {
   "cell_type": "markdown",
   "id": "aeb788cc",
   "metadata": {},
   "source": [
    "Figure 1: Biomass concentration vs. time of an anaerobic culture of yeast with glucose as a C-source before and after spiking."
   ]
  },
  {
   "cell_type": "markdown",
   "id": "168957b8",
   "metadata": {},
   "source": [
    "Please describe the results in 2-3 lines. State which phase you consider as exponential growth."
   ]
  },
  {
   "cell_type": "markdown",
   "id": "0bb5a438",
   "metadata": {},
   "source": []
  },
  {
   "cell_type": "markdown",
   "id": "98502470",
   "metadata": {},
   "source": [
    "Calculate µmax and td before and after spiking. Calculate µmax both using a differential approach and an integral approach (the latter using linear regression of the log-transformed data in the exponential phase). \n"
   ]
  },
  {
   "cell_type": "markdown",
   "id": "36c65229",
   "metadata": {},
   "source": []
  },
  {
   "cell_type": "markdown",
   "id": "49ec1e45",
   "metadata": {},
   "source": []
  },
  {
   "cell_type": "markdown",
   "id": "fd7ef961",
   "metadata": {},
   "source": [
    "Depict clearly the calculation path and / or how you obtained your results. \n",
    "\n",
    "---"
   ]
  },
  {
   "cell_type": "markdown",
   "id": "86e0e99f",
   "metadata": {},
   "source": [
    "Please insert a graph of a semi-log plot of the total cell count / life cell count vs. time before / after spiking. Do not connect the data points of the CFU data with lines!"
   ]
  },
  {
   "cell_type": "markdown",
   "id": "71bde776",
   "metadata": {},
   "source": []
  },
  {
   "cell_type": "markdown",
   "id": "f5730175",
   "metadata": {},
   "source": [
    "Figure 2 depicts the total cell count and life cell count / CFU. "
   ]
  },
  {
   "cell_type": "markdown",
   "id": "2a9fc2f2",
   "metadata": {},
   "source": [
    "Figure 2: Total cell count and CFU of an anaerobic culture of yeast with glucose as a C-source before and after spiking."
   ]
  },
  {
   "cell_type": "markdown",
   "id": "3bf6c6b3",
   "metadata": {},
   "source": [
    "Please describe the results in 2-3 lines. State which phase you consider as exponential growth. No calculations required here."
   ]
  },
  {
   "cell_type": "markdown",
   "id": "26834c1c",
   "metadata": {},
   "source": []
  },
  {
   "cell_type": "markdown",
   "id": "8966dffa",
   "metadata": {},
   "source": [
    "---"
   ]
  },
  {
   "cell_type": "markdown",
   "id": "d92416b8",
   "metadata": {},
   "source": [
    "Please insert a graph of the molar CO2 quantity formed vs. time before and after spiking. To facilitate a comparison of the values, set the formed CO2 as 0 after spiking. Include the plot of the integral fit in the graph!\n",
    "Include a graph of the semi-log plot in the annex."
   ]
  },
  {
   "cell_type": "markdown",
   "id": "b8f4df2b",
   "metadata": {},
   "source": []
  },
  {
   "cell_type": "markdown",
   "id": "0df5a205",
   "metadata": {},
   "source": [
    "Figure 3 depicts the CO2 formation during the culture before and after spiking."
   ]
  },
  {
   "cell_type": "markdown",
   "id": "b4cfde85",
   "metadata": {},
   "source": [
    "Figure 3: Molar CO2 formation of an anaerobic culture of yeast before and after spiking. After spiking, the CO2 formed has been set to 0."
   ]
  },
  {
   "cell_type": "markdown",
   "id": "7ae7b6b9",
   "metadata": {},
   "source": [
    "Please describe the result in 2-3 lines. Depict the phase of exponential CO2 formation."
   ]
  },
  {
   "cell_type": "markdown",
   "id": "26096277",
   "metadata": {},
   "source": []
  },
  {
   "cell_type": "markdown",
   "id": "5d626072",
   "metadata": {},
   "source": [
    "Calculate the maximal rate of the CO2  formation and specific CO2  formation using a differential method. Clearly depict the calculation path and how you achieved your results."
   ]
  },
  {
   "cell_type": "markdown",
   "id": "bb67c04c",
   "metadata": {},
   "source": []
  },
  {
   "cell_type": "markdown",
   "id": "296cd8ef",
   "metadata": {},
   "source": [
    "Calculate the maximal rate of the specific CO2  formation using an integral method. State the equation here (formula editor!). Do not forget to include the fit in the graph!"
   ]
  },
  {
   "cell_type": "markdown",
   "id": "216ec920",
   "metadata": {},
   "source": []
  },
  {
   "cell_type": "markdown",
   "id": "77df08bf",
   "metadata": {},
   "source": [
    "Assume that the sugar has been fully consumed as soon as the CO2 formation reaches a plateau. Calculate the molar CO2  yield (YCO2/Glc). Of course, give the calculation path."
   ]
  },
  {
   "cell_type": "markdown",
   "id": "d6ce58cf",
   "metadata": {},
   "source": []
  },
  {
   "cell_type": "markdown",
   "id": "4135f119",
   "metadata": {},
   "source": [
    "All calculations have to be performed before / after spiking!\n",
    "\n",
    "---"
   ]
  },
  {
   "cell_type": "markdown",
   "id": "ac0b2cc0",
   "metadata": {},
   "source": [
    "The lead time depicts the delay between the start of the culture and the exponential growth and has been deduced for the biomass resulting in the following formula with Tl = lead time, and tr / xr as a real experimental value within the exponential phase:"
   ]
  },
  {
   "cell_type": "markdown",
   "id": "39dccc16",
   "metadata": {},
   "source": []
  },
  {
   "cell_type": "markdown",
   "id": "c1a5d8b0",
   "metadata": {},
   "source": [
    "Albeit not formally correct, an analogous equation can be deduced deriving the lead time from product formation, leading to the following equation, whereas qp is the specific rate of product formation and pr is the product concentration at a timepoint tr within the exponential phase of product formation. "
   ]
  },
  {
   "cell_type": "markdown",
   "id": "b0002618",
   "metadata": {},
   "source": []
  },
  {
   "cell_type": "markdown",
   "id": "f12b4864",
   "metadata": {},
   "source": [
    "In the following, the lead time is calculated for the CO2 formation before and after spiking using equation (2)."
   ]
  },
  {
   "cell_type": "markdown",
   "id": "0c533bc4",
   "metadata": {},
   "source": []
  },
  {
   "cell_type": "markdown",
   "id": "a66ecd05",
   "metadata": {},
   "source": [
    "Please calculate the lead times before after spiking using eq. 2. Of course, depict the calculation path. "
   ]
  },
  {
   "cell_type": "markdown",
   "id": "493ae3c6",
   "metadata": {},
   "source": []
  },
  {
   "cell_type": "markdown",
   "id": "cc2a9136",
   "metadata": {},
   "source": [
    "Please insert a graph of the molar EtOH quantity formed vs. time before and after spiking. To facilitate a comparison of the values, set the formed EtOH as 0 after spiking. Include the plot of the integral fit in the graph!\n",
    "\n",
    "Include a graph of the semi-log plot in the annex."
   ]
  },
  {
   "cell_type": "markdown",
   "id": "3f3ff53b",
   "metadata": {},
   "source": []
  },
  {
   "cell_type": "markdown",
   "id": "522dcbca",
   "metadata": {},
   "source": [
    "Figure 4 depicts the ethanol formation during the culture before and after spiking."
   ]
  },
  {
   "cell_type": "markdown",
   "id": "928a9069",
   "metadata": {},
   "source": [
    "Figure 4: Molar EtOH formation of an anaerobic culture of yeast before and after spiking. After spiking, the EtOH formed has been set to 0."
   ]
  },
  {
   "cell_type": "markdown",
   "id": "af65164b",
   "metadata": {},
   "source": [
    "Please describe the result in 2-3 lines. Depict the phase of exponential EtOH formation."
   ]
  },
  {
   "cell_type": "markdown",
   "id": "3fca966a",
   "metadata": {},
   "source": []
  },
  {
   "cell_type": "markdown",
   "id": "8f14010d",
   "metadata": {},
   "source": [
    "Calculate the maximal rate of the EtOH formation and specific EtOH formation using a differential method. Clearly depict the calculation path and how you achieved your results."
   ]
  },
  {
   "cell_type": "markdown",
   "id": "a2762529",
   "metadata": {},
   "source": []
  },
  {
   "cell_type": "markdown",
   "id": "82020f3c",
   "metadata": {},
   "source": [
    "Calculate the maximal rate of the specific EtOH  formation using an integral method. State the equation here (formula editor!). Do not forget to include the fit in the graph!"
   ]
  },
  {
   "cell_type": "markdown",
   "id": "dec7d520",
   "metadata": {},
   "source": []
  },
  {
   "cell_type": "markdown",
   "id": "8e2523f8",
   "metadata": {},
   "source": [
    "Assume that the sugar has been fully consumed as soon as the EtOH formation reaches a plateau. Calculate the molar EtOH  yield (YEtOH/Glc). Of course, give the calculation path."
   ]
  },
  {
   "cell_type": "markdown",
   "id": "94bb7558",
   "metadata": {},
   "source": []
  },
  {
   "cell_type": "markdown",
   "id": "109ab1ab",
   "metadata": {},
   "source": [
    "All calculations have to be performed before / after spiking!"
   ]
  },
  {
   "cell_type": "markdown",
   "id": "7cc8cf21",
   "metadata": {},
   "source": [
    "## <font color=B6A6CA> Discussion </font>\n",
    "---\n",
    "Please discuss your results and potential errors. 20 lines minimum.\n",
    "A focus should be, whether your data make sense (molar yields, rates, lead times…)!\n"
   ]
  },
  {
   "cell_type": "markdown",
   "id": "fe425bbe",
   "metadata": {},
   "source": [
    "\n",
    "## <font color=B6A6CA> Annex </font>\n",
    "---"
   ]
  },
  {
   "cell_type": "markdown",
   "id": "fb14dd0f",
   "metadata": {},
   "source": [
    "Please insert the calibration curve to calculate biomass from OD."
   ]
  },
  {
   "cell_type": "markdown",
   "id": "5d85855b",
   "metadata": {},
   "source": []
  },
  {
   "cell_type": "markdown",
   "id": "cea804e4",
   "metadata": {},
   "source": [
    "Figure 5: Calibration curve to calculate biomass from OD\n",
    "\n",
    "---"
   ]
  },
  {
   "cell_type": "markdown",
   "id": "20e1ca7e",
   "metadata": {},
   "source": [
    "Please insert a semi-log plot of the molar CO2  formation before / after spiking."
   ]
  },
  {
   "cell_type": "markdown",
   "id": "b9304042",
   "metadata": {},
   "source": []
  },
  {
   "cell_type": "markdown",
   "id": "74fb4e58",
   "metadata": {},
   "source": [
    "Figure 6: Semi-Log plot of the molar CO2 formation.\n",
    "\n",
    "---"
   ]
  },
  {
   "cell_type": "markdown",
   "id": "65b84812",
   "metadata": {},
   "source": [
    "Please insert a semi-log plot of the molar EtOH  formation before / after spiking."
   ]
  },
  {
   "cell_type": "markdown",
   "id": "693de589",
   "metadata": {},
   "source": []
  },
  {
   "cell_type": "markdown",
   "id": "4ed217ad",
   "metadata": {},
   "source": [
    "Figure 7: Semi-Log plot of the molar EtOH formation.\n",
    "\n",
    "---"
   ]
  },
  {
   "cell_type": "markdown",
   "id": "3b96ad11",
   "metadata": {},
   "source": [
    "Please insert a table, where the time, biomass and (differentially calculated) µ is depicted before / after spiking."
   ]
  },
  {
   "cell_type": "markdown",
   "id": "d331f7a1",
   "metadata": {},
   "source": []
  },
  {
   "cell_type": "markdown",
   "id": "70e010c7",
   "metadata": {},
   "source": [
    "Table 1: Differential specific growth rates"
   ]
  }
 ],
 "metadata": {
  "kernelspec": {
   "display_name": "Python 3 (ipykernel)",
   "language": "python",
   "name": "python3"
  },
  "language_info": {
   "codemirror_mode": {
    "name": "ipython",
    "version": 3
   },
   "file_extension": ".py",
   "mimetype": "text/x-python",
   "name": "python",
   "nbconvert_exporter": "python",
   "pygments_lexer": "ipython3",
   "version": "3.9.13"
  }
 },
 "nbformat": 4,
 "nbformat_minor": 5
}
