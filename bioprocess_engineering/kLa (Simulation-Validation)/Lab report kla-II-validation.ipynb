{
 "cells": [
  {
   "cell_type": "markdown",
   "id": "a32f99c6",
   "metadata": {},
   "source": [
    "# <center> <font color=3F612D> Lab Report </font> </center> \n",
    "\n",
    "#### <center> BE- Bioprocess Engineering (Fensterle/ Sabra) </center>\n",
    "    \n",
    "# <center> <font color=3F612D> kLa (II. Validation) </font> </center>\n",
    "\n",
    "Semester: SS20xx\n",
    "\n",
    "Course / Group: C/N\n",
    "\n",
    "Name, matriculation number\n",
    "Name, matriculation number\n",
    "Name, matriculation number\n",
    "Name, matriculation number\n",
    "    \n",
    "    \n",
    "## <font color=FC9E4F> ToC </font>\n",
    "\n",
    "index (?)\n",
    "\n",
    "    \n",
    "    \n",
    "footer: SS20xx - C/N        Rep BE BP - kLa (II. Validation)        page n°"
   ]
  },
  {
   "cell_type": "markdown",
   "id": "511c55f7",
   "metadata": {},
   "source": [
    "## <font color=FFB563> Introduction </font>\n",
    "---\n",
    "Please give a short introduction to the kla experiment using the dynamic method, including the basic idea. State both the intention of the validation experiment (3 lines are ok). "
   ]
  },
  {
   "cell_type": "markdown",
   "id": "924ec65e",
   "metadata": {},
   "source": [
    "## <font color=FFB563> Material and Methods </font>\n",
    "---\n",
    "Experiments have been performed according to the lab course protocols Please state the appropriate protocols including versions.\n",
    "\n",
    "Simulation experiments were done in Simulink script (Please state the Simulink script name and version) at the following conditions (Table 1)."
   ]
  },
  {
   "cell_type": "markdown",
   "id": "49cf476f",
   "metadata": {},
   "source": [
    "Please insert a table depicting the stirrer speeds (in rpm), the gassing rates (in vvm), the reactor volume (m3) associated with your group."
   ]
  },
  {
   "cell_type": "markdown",
   "id": "e8b55ff8",
   "metadata": {},
   "source": []
  },
  {
   "cell_type": "markdown",
   "id": "57e84120",
   "metadata": {},
   "source": [
    "*Table 1: Stirrer speeds (in rpm), gazing rates (in v/v/min) and reactor working volume assessed in the simulation experiment.*"
   ]
  },
  {
   "cell_type": "markdown",
   "id": "dcc9ed51",
   "metadata": {},
   "source": [
    "To validate the simulink model for kLa calculation, experimental kLa values were assessed in a 1 L APPLIKON MyControl bioreactor filled with water at the same parameters used in the simulation experiments (Table 1). \n",
    "KLa values are determined using the dynamic method. "
   ]
  },
  {
   "cell_type": "markdown",
   "id": "37bc4624",
   "metadata": {},
   "source": [
    "## <font color=FFB563> Results </font>\n",
    "---\n",
    "Please start with some general aspects of the experiment (3 lines are fine).\n",
    "\n",
    "In simulation experiments, the kinetics of oxygen saturation as a function of the investigated variables (Table 1) is depicted in Figure 1."
   ]
  },
  {
   "cell_type": "markdown",
   "id": "1713f8e1",
   "metadata": {},
   "source": [
    "Please insert a graph of the non-log transformed plot of the oxygen saturation vs. time at the set points agitation speed, aeration rate and working volume associated with your group"
   ]
  },
  {
   "cell_type": "markdown",
   "id": "eedd4a43",
   "metadata": {},
   "source": []
  },
  {
   "cell_type": "markdown",
   "id": "dcf14b4a",
   "metadata": {},
   "source": [
    "Figure 1:  Dynamics of pO2 saturation at the agitation speed(s) of Name the agitation speed(s) associated with your group ,aeration rate(s) of Name the aeration rate associated with your group, and a working volume of Name the reactor working volume associated with your group in a simulation experiment.\n",
    "\n",
    "---"
   ]
  },
  {
   "cell_type": "markdown",
   "id": "eea2b6e4",
   "metadata": {},
   "source": [
    "As depicted in material and methods, kLa values were deduced after linearization using linear regression. The deduced kLa values are depicted in Figure 2."
   ]
  },
  {
   "cell_type": "markdown",
   "id": "583b28ab",
   "metadata": {},
   "source": [
    "Please plot the development of pO2 value over time in linearised form for the different simulation experiments assigned to your group. Make sure you annotate the different parameters in a legend. The graph should include the regression line and the regression formula."
   ]
  },
  {
   "cell_type": "markdown",
   "id": "fc889e22",
   "metadata": {},
   "source": []
  },
  {
   "cell_type": "markdown",
   "id": "7f6a530a",
   "metadata": {},
   "source": [
    "Figure 2: please insert a suitable caption for figure 2\n",
    "\n",
    "---"
   ]
  },
  {
   "cell_type": "markdown",
   "id": "eea2ba8d",
   "metadata": {},
   "source": [
    "To confirm the data of the simulation experiment, kLa values were assessed in APPLIKON MyControl bioreactor. The kinetics of oxygen saturation at agitation speed(s) of Name the agitation speed(s) associated with your group ,aeration rate(s) of Name the aeration rate(s) associated with your group  and a working volume of Name the working volume of the reactor associated with your group in APLLIKON MyControl bioreactor are depicted in Figure 3."
   ]
  },
  {
   "cell_type": "markdown",
   "id": "4f888ac2",
   "metadata": {},
   "source": [
    "Please insert a graph of the non-log transformed plot of the oxygen saturation vs. time at the set points agitation speed, aeration rate and working volume associated with your group."
   ]
  },
  {
   "cell_type": "markdown",
   "id": "6b60f2cb",
   "metadata": {},
   "source": []
  },
  {
   "cell_type": "markdown",
   "id": "2bd6d4d2",
   "metadata": {},
   "source": [
    "Caption example: \n",
    "Figure 3: Dynamics of pO2 saturation after degassing with N2 at the agitation speed(s) of 150, 400 and 600 rpm, and a constant aeration rate of 0.5 vvm, and a working volume of 500 ml  in APPLIKON MyControl reactor."
   ]
  },
  {
   "cell_type": "markdown",
   "id": "53fa983f",
   "metadata": {},
   "source": [
    "Figure 3: Dynamics of pO2 saturation after degassing with N2 at the agitation speed(s) of Name the agitation speed(s) associated with your group ,aeration rate(s) of Name the aeration rate(s) associated with your group, and a working volume of Name the reactor working volume associated with your group in APPLIKON MyControl bioreactor. \n",
    "\n",
    "---"
   ]
  },
  {
   "cell_type": "markdown",
   "id": "84da08fe",
   "metadata": {},
   "source": [
    "Using the pO2 data obtained from APPLIKON MyControl bioreactor, the deduced kLa values after linearization using linear regression are shown in Figure 4."
   ]
  },
  {
   "cell_type": "markdown",
   "id": "91a25345",
   "metadata": {},
   "source": [
    "Please insert a graph of the transformed / linearized p02 values plotted versus time for the agitation speed, aeration rate and working volume of the bioreactor associated with your group. The graph should include the regression line and the regression formula."
   ]
  },
  {
   "cell_type": "markdown",
   "id": "ec0ae24f",
   "metadata": {},
   "source": []
  },
  {
   "cell_type": "markdown",
   "id": "533f4e6f",
   "metadata": {},
   "source": [
    "Figure 4: Linearized plot of the dynamics of pO2 saturation after degazing with N2 at agitation speed(s) of agitation speed(s) associated with your group  rpm, aeration rate(s) of aeration rate(s) associated with your group vvm and a working volume of working volume associated with your group. KLa values are deduced based on linear regression. The regression lines and functions are depicted in the graph.\n",
    "\n",
    "---"
   ]
  },
  {
   "cell_type": "markdown",
   "id": "54b241b3",
   "metadata": {},
   "source": [
    "A comparison between the experimental and simulated results of kLa values at agitation speed(s) of agitation speed(s) associated with your group  rpm, aeration rate(s) of aeration rate(s) associated with your group vvm and a working volume of working volume associated with your group are shown in table 2."
   ]
  },
  {
   "cell_type": "markdown",
   "id": "9d2137be",
   "metadata": {},
   "source": [
    "Please insert a table with the kla values at the different gazing rates, stirrer speeds and the working volume in simulation and real bioreactor experiment. "
   ]
  },
  {
   "cell_type": "markdown",
   "id": "5994356c",
   "metadata": {},
   "source": []
  },
  {
   "cell_type": "markdown",
   "id": "a7ca3218",
   "metadata": {},
   "source": [
    "Table 2: kLa values deduced in simulation and real experiments in APPLIKON MyControl bioreactor with a working volume of assigned working volume L, agitation speed of assigned agitation speed(s) associated with your group  rpm, and aeration rate of assigned aeration rate(s) vvm."
   ]
  },
  {
   "cell_type": "markdown",
   "id": "735a97d2",
   "metadata": {},
   "source": [
    "**Please describe the results in 1-2 lines.**"
   ]
  },
  {
   "cell_type": "markdown",
   "id": "9db0695a",
   "metadata": {},
   "source": []
  },
  {
   "cell_type": "markdown",
   "id": "1d269fe0",
   "metadata": {},
   "source": [
    "## <font color=FFB563> Discussion </font>\n",
    "---\n",
    "Please discuss your results and potential errors (10 lines minimum)."
   ]
  },
  {
   "cell_type": "markdown",
   "id": "e2c11759",
   "metadata": {},
   "source": [
    "- For the real experiment in bioreactor: does it confirm the simulation?"
   ]
  },
  {
   "cell_type": "markdown",
   "id": "bcd57dd9",
   "metadata": {},
   "source": [
    "- If not, what could be the cause?"
   ]
  },
  {
   "cell_type": "markdown",
   "id": "0bd12bfd",
   "metadata": {},
   "source": [
    "- Compare between the coefficient of determination ‘’R2’’ (derived from the linear regression for kLa determination) in both experimental and simulation experiments. Comment. "
   ]
  },
  {
   "cell_type": "markdown",
   "id": "de9b6dca",
   "metadata": {},
   "source": [
    "- Are the measured kla values in bioreactor reasonable?  – compare with literature values!"
   ]
  },
  {
   "cell_type": "code",
   "execution_count": null,
   "id": "7ff1ba3c",
   "metadata": {},
   "outputs": [],
   "source": []
  }
 ],
 "metadata": {
  "kernelspec": {
   "display_name": "Python 3 (ipykernel)",
   "language": "python",
   "name": "python3"
  },
  "language_info": {
   "codemirror_mode": {
    "name": "ipython",
    "version": 3
   },
   "file_extension": ".py",
   "mimetype": "text/x-python",
   "name": "python",
   "nbconvert_exporter": "python",
   "pygments_lexer": "ipython3",
   "version": "3.9.13"
  }
 },
 "nbformat": 4,
 "nbformat_minor": 5
}
