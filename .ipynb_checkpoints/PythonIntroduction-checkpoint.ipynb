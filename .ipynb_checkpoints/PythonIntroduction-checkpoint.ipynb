{
 "cells": [
  {
   "cell_type": "markdown",
   "metadata": {
    "tags": []
   },
   "source": [
    "\n",
    "<h1 align=\"center\"> Introduction to Python and Jupyter Notebooks</h1> \n",
    "\n",
    "---\n",
    "# Jupyter Notebook Introduction\n",
    "\n",
    "https://www.dataquest.io/blog/jupyter-notebook-tutorial/\n",
    "\n",
    "https://www.datacamp.com/tutorial/tutorial-jupyter-notebook\n",
    "\n",
    "# Python Introduction\n",
    "\n",
    "This introduction is intended to provide a little insight into the basic operations with Python. Special things will appear in the relevant chapters and exercises and then explained either or declared during the course. \n",
    "\n",
    "Jupyter Notebooks contain two types of cells: text and code. Text cells are used for documentation to guide code development and explain results. Code cells contain Python code to be evaluated. The instructions that appear in the source code below will be interpreted from top to bottom. If you declare a variable **a** above, it is also available further down. Code cells have square brackets on the top left. These square brackets are filled with a number indicating the sequence of evaluations.\n",
    "\n",
    "* Execute a single cell: click <span class=\"fa-play fa\"></span>, or click inside the cell and press Ctr+Enter\n",
    "* Execute all cells: Menu: Run <span class=\"fa-chevron-right fa\"></span> Run All Cells\n",
    "* To reboot kernel: <span class=\"fa-refresh fa\"></span>\n",
    "\n",
    "\n",
    "At first the all time classic for all programming languages."
   ]
  },
  {
   "cell_type": "code",
   "execution_count": null,
   "metadata": {},
   "outputs": [],
   "source": [
    "from __future__ import division # for Python 2 compatibility\n",
    "from __future__ import print_function # for Python 2 compatibility"
   ]
  },
  {
   "cell_type": "markdown",
   "metadata": {},
   "source": [
    "## Simple Calculations\n",
    "\n",
    "But Python can serve as a simple calculator also (especially in the console)."
   ]
  },
  {
   "cell_type": "code",
   "execution_count": null,
   "metadata": {},
   "outputs": [],
   "source": [
    "2 + 2"
   ]
  },
  {
   "cell_type": "markdown",
   "metadata": {},
   "source": [
    "If you write **print** first the console output is suppressed."
   ]
  },
  {
   "cell_type": "code",
   "execution_count": null,
   "metadata": {},
   "outputs": [],
   "source": [
    "print(1 + 2)"
   ]
  },
  {
   "cell_type": "markdown",
   "metadata": {},
   "source": [
    "It is also possible to define variables. Python then tries the contents of the variable (string, float, single, etc.) to be interpreted according to what the variable is assigned (Comments can be recognized by #)."
   ]
  },
  {
   "cell_type": "code",
   "execution_count": null,
   "metadata": {},
   "outputs": [],
   "source": [
    "a = 1 # a single\n",
    "b = 2 \n",
    "c = \"Hello \" # a string\n",
    "d = \"World\"\n",
    "\n",
    "e = a + b\n",
    "\n",
    "print(a + b)\n",
    "print(e)\n",
    "\n",
    "print(c + d)\n",
    "\n",
    "print(type(c))"
   ]
  },
  {
   "cell_type": "markdown",
   "metadata": {},
   "source": [
    "Python tries to calculate with the format from the given values. But you can also choose if necessary other formats."
   ]
  },
  {
   "cell_type": "code",
   "execution_count": null,
   "metadata": {},
   "outputs": [],
   "source": [
    "print(1 / 2)\n",
    "print(1.0 / 2.0)\n",
    "print(float(1)/2)"
   ]
  },
  {
   "cell_type": "markdown",
   "metadata": {},
   "source": [
    "## Whitespace\n",
    "\n",
    "**Attention:** Empty spaces (blanks or whitespace) sometimes do not have a real importance in Python. For example in calculations.\n",
    "\n",
    "    1+2\n",
    "    \n",
    "gives the same like\n",
    "\n",
    "    1 + 2\n",
    "    \n",
    "On the other hand Python uses indentation and tab stops as structural elements, for example in the definition of functions.\n",
    "\n",
    "## More complicated calculations\n",
    "\n",
    "When it gets complicated plug-ins extend the Python functionality. The most common for Scientific Computing include:\n",
    "\n",
    "* [NumPy](http://www.numpy.org) (Numeric Python) for calculations with arrays of numbers. \n",
    "\n",
    "* [SciPy](http://scipy.org) (Scientific Python) extends the functionality of Numpy with functions like minisations, regression, Fourier-transformations and many more.\n",
    "\n",
    "To plot graphs we need [matplotlib](http://matplotlib.org). But there are alternatives."
   ]
  },
  {
   "cell_type": "code",
   "execution_count": null,
   "metadata": {},
   "outputs": [],
   "source": [
    "import matplotlib.pyplot as plt\n",
    "import numpy as np\n",
    "\n",
    "%matplotlib inline"
   ]
  },
  {
   "cell_type": "markdown",
   "metadata": {},
   "source": [
    "Now even complex calculations are possible:"
   ]
  },
  {
   "cell_type": "code",
   "execution_count": null,
   "metadata": {},
   "outputs": [],
   "source": [
    "print(np.exp(1))\n",
    "print(np.pi)\n",
    "print(np.log(np.e))\n",
    "print(np.log10(10))\n",
    "print(np.sqrt(8))\n",
    "print(np.sin(np.pi/2))"
   ]
  },
  {
   "cell_type": "markdown",
   "metadata": {},
   "source": [
    "## Functions and graphs\n",
    "\n",
    "It is possible to define your own functions. As already mentioned, here is the indentation (whitespace) in the second line an important structural element for Python. You can also use the function later on for calculations."
   ]
  },
  {
   "cell_type": "code",
   "execution_count": null,
   "metadata": {},
   "outputs": [],
   "source": [
    "def y(x):\n",
    "    return x**2\n",
    "    \n",
    "print(y(2))"
   ]
  },
  {
   "cell_type": "markdown",
   "metadata": {},
   "source": [
    "Of course you can draw the the function."
   ]
  },
  {
   "cell_type": "code",
   "execution_count": null,
   "metadata": {},
   "outputs": [],
   "source": [
    "x = np.linspace(-10, 10, 50)\n",
    "\n",
    "plt.plot(x, y(x));"
   ]
  },
  {
   "cell_type": "markdown",
   "metadata": {},
   "source": [
    "## Arrays\n",
    "\n",
    "**Arrays** are used on a quite regular basis. One can construct them in various ways. There are still other field types that look similar."
   ]
  },
  {
   "cell_type": "code",
   "execution_count": null,
   "metadata": {},
   "outputs": [],
   "source": [
    "array1 = np.array([1, 2, 3, 4, 5])\n",
    "array2 = np.linspace(1, 10, 10)\n",
    "array3 = np.array([(1, 2), (3, 4)])\n",
    "\n",
    "yourlist = [1, 2, 3, 4, 5]\n",
    "yourtuple = (1, 2, 3, 4, 5)\n",
    "\n",
    "print(array1)\n",
    "print(array2)\n",
    "print(array3)\n",
    "\n",
    "print(yourlist)\n",
    "print(yourtuple)\n",
    "\n",
    "print(type(array1))\n",
    "print(type(yourlist))\n",
    "print(type(yourtuple))"
   ]
  },
  {
   "cell_type": "markdown",
   "metadata": {},
   "source": [
    "Of course you can also calculate with arrays. Tuples and lists behave at first glance similar, but beneath the surface they have different properties."
   ]
  },
  {
   "cell_type": "code",
   "execution_count": null,
   "metadata": {},
   "outputs": [],
   "source": [
    "print(array1 * array1)\n",
    "print(array1 + array1)"
   ]
  },
  {
   "cell_type": "markdown",
   "metadata": {},
   "source": [
    "You can access the individual elements in an array or alter them intentionally."
   ]
  },
  {
   "cell_type": "code",
   "execution_count": null,
   "metadata": {},
   "outputs": [],
   "source": [
    "f = array1[1]\n",
    "g = array1[2]\n",
    "h = array1[4]\n",
    "\n",
    "print(f)\n",
    "print(g)\n",
    "print(h)\n",
    "\n",
    "array1[2] = 101\n",
    "\n",
    "print(array1)"
   ]
  },
  {
   "cell_type": "markdown",
   "metadata": {},
   "source": [
    "## Exercises\n",
    "\n",
    "Based on your skills, the following three exercises will deepen your familiarity with Python programming. Try only one which fits your skills.\n",
    "\n",
    "### A: Exercise for Python beginning\n",
    "Store your name as a string in a variable. Convert the variable into a list by separating given- and sur-name. Print the surname as output.\n",
    " 1. Create a variable with your name: `name = 'Stanley Tweedle'`\n",
    " 2. Split string into list with the function [split](https://www.askpython.com/python/string/python-string-split-function) (`name_list = name.split()`).\n",
    " 3. Print the last element (`name_list[-1]`) of the list.\n",
    "\n",
    "### B: Exercise for Python medium\n",
    "Program a prompt for the input of a user name. Convert the variable into a list by separating given- and sur-name. Print the surname letter by letter in reverse.\n",
    " 1. Use the function input(), read the [Documentation](https://www.w3schools.com/python/ref_func_input.asp) for help.\n",
    " 2. Split string into list with the function [split](https://www.askpython.com/python/string/python-string-split-function) (`name.split()`) and save it in a variable (`name_list`)\n",
    " 3. Store the surname (`name_list[-1]`) in a new variable (`surname`).\n",
    " 3. Count the length of the surname (`myLen = len(surname)`).\n",
    " 4. Print the surname each letter a line in reverse order:\n",
    "    - Construct a `for` loop which decreases from the length of the surname to 0 (use `range(myLen,...,...)`, [help]()). Remember that Python starts counting from zero: the surname indices are: 0 to myLen-1.\n",
    "    - Print the letter in `surname` with the counter of the `for`-loop.\n",
    "\n",
    "### C: Exercise for Python advanced\n",
    "Write a script that uses prompt input of a DNA sequence and generates the complement DNA sequence, e.g., AAGGCCTT->TTCCGGAA.\n",
    " 1. Define a dictionary with the base-complement mapping.\n",
    " 2. Get sequence input from prompt and replace bases via list comprehension. Correct lower- to upper-case letters.\n",
    " 3. Print the result and save it as csv-file if the user provides a file name."
   ]
  },
  {
   "cell_type": "code",
   "execution_count": null,
   "metadata": {},
   "outputs": [],
   "source": [
    "# enter your code in this cell.\n",
    "# Please take your time and try to solve the quest. \n",
    "# If you get stuck for the medium level exercise, uncomment the last comment line to get the solution. \n",
    "# However, the code lines are disordered and you have to fix indentation of for-loop content.\n",
    "# %load Snippets/PythonIntro_Medium.py\n"
   ]
  }
 ],
 "metadata": {
  "kernelspec": {
   "display_name": "Python 3 (ipykernel)",
   "language": "python",
   "name": "python3"
  },
  "language_info": {
   "codemirror_mode": {
    "name": "ipython",
    "version": 3
   },
   "file_extension": ".py",
   "mimetype": "text/x-python",
   "name": "python",
   "nbconvert_exporter": "python",
   "pygments_lexer": "ipython3",
   "version": "3.9.13"
  }
 },
 "nbformat": 4,
 "nbformat_minor": 4
}
